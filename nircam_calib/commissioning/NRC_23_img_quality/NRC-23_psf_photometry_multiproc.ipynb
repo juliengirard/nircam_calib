{
 "cells": [
  {
   "cell_type": "markdown",
   "id": "16c217e0",
   "metadata": {},
   "source": [
    "# NRC-23 - Image Quality Verification by Filter   "
   ]
  },
  {
   "cell_type": "markdown",
   "id": "24b91bbd",
   "metadata": {},
   "source": [
    "## Notebook: Perform PSF photometry multiprocessing"
   ]
  },
  {
   "cell_type": "markdown",
   "id": "efed7ecf",
   "metadata": {},
   "source": [
    "**Author**: Matteo Correnti, STScI Scientist II\n",
    "<br>\n",
    "**Created**: October, 2021\n",
    "<br>\n",
    "**Last Updated**: February, 2022"
   ]
  },
  {
   "cell_type": "markdown",
   "id": "eff43762",
   "metadata": {},
   "source": [
    "## Table of contents\n",
    "1. [Introduction](#intro)<br>\n",
    "2. [Setup](#setup)<br>\n",
    "    2.1 [Python imports](#py_imports)<br>\n",
    "    2.2 [PSF FWHM dictionary](#psf_fwhm)<br>\n",
    "3. [Import images to analyze](#data)<br>\n",
    "    3.1 [Convert image units and apply pixel area map](#convert_data)<br>\n",
    "4. [Perform PSF photometry](#psf_phot)<br>\n",
    "    4.1 [Calculate the background](#bkg)<br>\n",
    "    4.2 [Find sources in the image](#find)<br>\n",
    "    4.3 [PSF Photometry parameters](#psf_param)<br>"
   ]
  },
  {
   "cell_type": "markdown",
   "id": "1307e286",
   "metadata": {},
   "source": [
    "1.<font color='white'>-</font>Introduction <a class=\"anchor\" id=\"intro\"></a>\n",
    "------------------"
   ]
  },
  {
   "cell_type": "markdown",
   "id": "ee7b30f9",
   "metadata": {},
   "source": [
    "This notebook shows how to perform PSF photometry on the images with multiprocessing. PSF photometry allows to derive accurate positions for the sources in the field of view and the output catalogs will be used to compare the possible position offset between different filters (using the notebook `NRC-23_filter_offset.ipynb`).\n",
    "\n",
    "**Dependencies**:  before running this notebook it is necessary to create the synthetic model PSFs using the notebook `NRC-23_webbpsf.ipynb` or use library empirical PSFs."
   ]
  },
  {
   "cell_type": "markdown",
   "id": "13a2f1ed",
   "metadata": {},
   "source": [
    "2.<font color='white'>-</font>Setup <a class=\"anchor\" id=\"setup\"></a>\n",
    "------------------"
   ]
  },
  {
   "cell_type": "markdown",
   "id": "eccf42ec",
   "metadata": {},
   "source": [
    "In this section we import all the necessary Python packages."
   ]
  },
  {
   "cell_type": "markdown",
   "id": "b3452b88",
   "metadata": {},
   "source": [
    "### 2.1<font color='white'>-</font>Python imports<a class=\"anchor\" id=\"py_imports\"></a> ###"
   ]
  },
  {
   "cell_type": "code",
   "execution_count": null,
   "id": "46b4e2fc",
   "metadata": {},
   "outputs": [],
   "source": [
    "import os \n",
    "\n",
    "os.environ['WEBBPSF_PATH'] = '/grp/jwst/ote/webbpsf-data'\n",
    "\n",
    "import sys\n",
    "import time\n",
    "import copy\n",
    "\n",
    "import glob as glob\n",
    "\n",
    "import numpy as np\n",
    "\n",
    "import pandas as pd\n",
    "\n",
    "from astropy.io import fits\n",
    "from astropy.visualization import simple_norm\n",
    "from astropy.modeling.fitting import LevMarLSQFitter\n",
    "from astropy.table import Table, QTable\n",
    "\n",
    "from photutils.background import MMMBackground, MADStdBackgroundRMS\n",
    "from photutils.detection import DAOStarFinder\n",
    "from photutils.psf import DAOGroup, IterativelySubtractedPSFPhotometry\n",
    "\n",
    "from webbpsf.utils import to_griddedpsfmodel\n",
    "\n",
    "import multiprocessing as mp\n",
    "from multiprocessing import Pool"
   ]
  },
  {
   "cell_type": "markdown",
   "id": "a3c672ee",
   "metadata": {},
   "source": [
    "### 2.2<font color='white'>-</font>PSF FWHM dictionary<a class=\"anchor\" id=\"psf_fwhm\"></a> ###"
   ]
  },
  {
   "cell_type": "markdown",
   "id": "c2a50c12",
   "metadata": {},
   "source": [
    "The dictionary contains the NIRCam point spread function (PSF) FWHM, from the [NIRCam Point Spread Function](https://jwst-docs.stsci.edu/near-infrared-camera/nircam-predicted-performance/nircam-point-spread-functions) JDox page. The FWHM are calculated from the analysis of the expected NIRCam PSFs simulated with [WebbPSF](https://www.stsci.edu/jwst/science-planning/proposal-planning-toolbox/psf-simulation-tool). \n",
    "FWHM is a parameter used in the finding algorithm to exclude spurious detection.\n",
    "\n",
    "**Note**: this dictionary need to be updated once the values for the FWHM will be available for each detectors during commissioning."
   ]
  },
  {
   "cell_type": "code",
   "execution_count": null,
   "id": "f0d82a2c",
   "metadata": {},
   "outputs": [],
   "source": [
    "filters = ['F070W', 'F090W', 'F115W', 'F140M', 'F150W2', 'F150W', 'F162M', 'F164N', 'F182M',\n",
    "           'F187N', 'F200W', 'F210M', 'F212N', 'F250M', 'F277W', 'F300M', 'F322W2', 'F323N',\n",
    "           'F335M', 'F356W', 'F360M', 'F405N', 'F410M', 'F430M', 'F444W', 'F460M', 'F466N', 'F470N', 'F480M']\n",
    "\n",
    "psf_fwhm = [0.987, 1.103, 1.298, 1.553, 1.628, 1.770, 1.801, 1.494, 1.990, 2.060, 2.141, 2.304, 2.341, 1.340,\n",
    "            1.444, 1.585, 1.547, 1.711, 1.760, 1.830, 1.901, 2.165, 2.179, 2.300, 2.302, 2.459, 2.507, 2.535, 2.574]\n",
    "\n",
    "dict_utils = {filters[i]: {'psf fwhm': psf_fwhm[i]} for i in range(len(filters))}"
   ]
  },
  {
   "cell_type": "markdown",
   "id": "a9e7d43a",
   "metadata": {},
   "source": [
    "3.<font color='white'>-</font>Import images to analyze<a class=\"anchor\" id=\"data\"></a>\n",
    "------------------"
   ]
  },
  {
   "cell_type": "code",
   "execution_count": null,
   "id": "af338694",
   "metadata": {},
   "outputs": [],
   "source": [
    "# define the right path for the directory containing the Level-2 (*cal.fits) images\n",
    "\n",
    "images_dir = '../Simulation/Pipeline_Outputs/Level2_Outputs'\n",
    "images = sorted(glob.glob(os.path.join(images_dir, \"*cal.fits\")))"
   ]
  },
  {
   "cell_type": "markdown",
   "id": "0f889435",
   "metadata": {},
   "source": [
    "### 3.1<font color='white'>-</font>Convert image units and apply pixel area map<a class=\"anchor\" id=\"convert_data\"></a> ###"
   ]
  },
  {
   "cell_type": "markdown",
   "id": "4f110e33",
   "metadata": {},
   "source": [
    "The unit of the Level-2 and Level-3 Images from the pipeline is MJy/sr (hence a surface brightness). The actual unit of the image can be checked from the header keyword **BUNIT**. The scalar conversion constant is copied to the header keyword **PHOTMJSR**, which gives the conversion from DN/s to megaJy/steradian. It is possible to revert back to DN/s setting `convert = True` in the function below.\n",
    "\n",
    "For images that have not been transformed into a distortion-free frame (i.e. not drizzled), a correction must be applied to account for the different on-sky pixel size across the field of view. A pixel area map (PAM), which is an image where each pixel value describes that pixel's area on the sky relative to the native plate scale, is used for this correction. In the stage 2 of the JWST pipeline, the PAM is copied into an image extension called **AREA** in the science data product. To apply the PAM correction, set the parameter `pam = True` in the function below.\n",
    "\n",
    "**Note**: We retrieve the NIRCam detector and filter from the image header. Note that for the LW channels, we transform the detector name derived from the header **NRCBLONG** (**NRCALONG**) to **NRCB5** (**NRCA5**). We also transform all the detector names to lowercase. This will allow us to use the correct PSF model (previously created using the `NRC-23_webbpsf.ipynb` notebook and saved as fits files) in the PSF photometry routine."
   ]
  },
  {
   "cell_type": "code",
   "execution_count": null,
   "id": "c58835f7",
   "metadata": {},
   "outputs": [],
   "source": [
    "def convert_data(image, convert=True, pam=True):\n",
    "    \n",
    "    im = fits.open(image)\n",
    "    data_sb = im[1].data\n",
    "    imh = im[1].header\n",
    "    \n",
    "    f = im[0].header['FILTER']\n",
    "    d = im[0].header['DETECTOR']\n",
    "    p = im[0].header['PUPIL']\n",
    "\n",
    "    if d == 'NRCBLONG':\n",
    "        d = 'NRCB5'\n",
    "    elif d == 'NRCALONG':\n",
    "        d = 'NRCA5'\n",
    "    else:\n",
    "        d = d\n",
    "    \n",
    "    det = str.lower(d)\n",
    "    \n",
    "    if p == 'CLEAR':\n",
    "        filt = f\n",
    "    else:\n",
    "        filt = p\n",
    "    \n",
    "    if convert:\n",
    "    \n",
    "        data = data_sb / imh['PHOTMJSR']\n",
    "        #print('Conversion factor from {units} to DN/s for filter {f}:'.format(units=imh['BUNIT'], f=filt), imh['PHOTMJSR'])\n",
    "    else:\n",
    "        #print('Keep data in MJy/sr')\n",
    "        data = data_sb\n",
    "    \n",
    "    if pam:\n",
    "        #print('Apply pixel area map')\n",
    "        area = im[4].data\n",
    "        data = data * area\n",
    "    else:\n",
    "        data = data\n",
    "\n",
    "    return data, det, filt"
   ]
  },
  {
   "cell_type": "markdown",
   "id": "9c66d2f0",
   "metadata": {},
   "source": [
    "4.<font color='white'>-</font>Perform PSF photometry<a class=\"anchor\" id=\"psf_phot\"></a>\n",
    "------------------"
   ]
  },
  {
   "cell_type": "markdown",
   "id": "645f9ac7",
   "metadata": {},
   "source": [
    "### 4.1<font color='white'>-</font>Calculate the background<a class=\"anchor\" id=\"bkg\"></a> ###"
   ]
  },
  {
   "cell_type": "markdown",
   "id": "39779f3b",
   "metadata": {},
   "source": [
    "We adopted as Background estimator the function [MMMBackground](https://photutils.readthedocs.io/en/stable/api/photutils.background.MMMBackground.html#photutils.background.MMMBackground), which calculates the background in an array using the DAOPHOT MMM algorithm, on the whole image (The background is calculated using a mode estimator of the form `(3 * median) - (2 * mean)`)."
   ]
  },
  {
   "cell_type": "markdown",
   "id": "85a45f25",
   "metadata": {},
   "source": [
    "### 4.2<font color='white'>-</font>Find sources in the image<a class=\"anchor\" id=\"find\"></a> ###"
   ]
  },
  {
   "cell_type": "markdown",
   "id": "59ed5da8",
   "metadata": {},
   "source": [
    "To find sources in the image, we use the [DAOStarFinder](https://photutils.readthedocs.io/en/stable/api/photutils.detection.DAOStarFinder.html) function. \n",
    "\n",
    "[DAOStarFinder](https://photutils.readthedocs.io/en/stable/api/photutils.detection.DAOStarFinder.html) detects stars in an image using the DAOFIND ([Stetson 1987](https://ui.adsabs.harvard.edu/abs/1987PASP...99..191S/abstract)) algorithm. DAOFIND searches images for local density maxima that have a peak amplitude greater than `threshold` (approximately; threshold is applied to a convolved image) and have a size and shape similar to the defined 2D Gaussian kernel.\n",
    "\n",
    "**Important parameters**:\n",
    "\n",
    "* `threshold`: The absolute image value above which to select sources.\n",
    "* `fwhm`: The full-width half-maximum (FWHM) of the major axis of the Gaussian kernel in units of pixels."
   ]
  },
  {
   "cell_type": "markdown",
   "id": "83af376c",
   "metadata": {},
   "source": [
    "### 4.3<font color='white'>-</font>PSF Photometry parameters<a class=\"anchor\" id=\"psf_param\"></a> ###"
   ]
  },
  {
   "cell_type": "markdown",
   "id": "e36b634d",
   "metadata": {},
   "source": [
    "For general information on PSF Photometry with PhotUtils see [here](https://photutils.readthedocs.io/en/stable/psf.html). \n",
    "\n",
    "Photutils provides three classes to perform PSF Photometry: [BasicPSFPhotometry](https://photutils.readthedocs.io/en/stable/api/photutils.psf.BasicPSFPhotometry.html#photutils.psf.BasicPSFPhotometry), [IterativelySubtractedPSFPhotometry](https://photutils.readthedocs.io/en/stable/api/photutils.psf.IterativelySubtractedPSFPhotometry.html#photutils.psf.IterativelySubtractedPSFPhotometry), and [DAOPhotPSFPhotometry](https://photutils.readthedocs.io/en/stable/api/photutils.psf.DAOPhotPSFPhotometry.html#photutils.psf.DAOPhotPSFPhotometry). Together these provide the core workflow to make photometric measurements given an appropriate PSF (or other) model.\n",
    "\n",
    "[BasicPSFPhotometry](https://photutils.readthedocs.io/en/stable/api/photutils.psf.BasicPSFPhotometry.html#photutils.psf.BasicPSFPhotometry) implements the minimum tools for model-fitting photometry. At its core, this involves finding sources in an image, grouping overlapping sources into a single model, fitting the model to the sources, and subtracting the models from the image. In DAOPHOT parlance, this is essentially running the “FIND, GROUP, NSTAR, SUBTRACT” once.\n",
    "\n",
    "[IterativelySubtractedPSFPhotometry](https://photutils.readthedocs.io/en/stable/api/photutils.psf.IterativelySubtractedPSFPhotometry.html#photutils.psf.IterativelySubtractedPSFPhotometry) (adopted here) is similar to [BasicPSFPhotometry](https://photutils.readthedocs.io/en/stable/api/photutils.psf.BasicPSFPhotometry.html#photutils.psf.BasicPSFPhotometry), but it adds a parameter called `n_iters` which is the number of iterations for which the loop “FIND, GROUP, NSTAR, SUBTRACT, FIND…” will be performed. This class enables photometry in a scenario where there exists significant overlap between stars that are of quite different brightness. For instance, the detection algorithm may not be able to detect a faint and bright star very close together in the first iteration, but they will be detected in the next iteration after the brighter stars have been fit and subtracted. Like [BasicPSFPhotometry](https://photutils.readthedocs.io/en/stable/api/photutils.psf.BasicPSFPhotometry.html#photutils.psf.BasicPSFPhotometry), it does not include implementations of the stages of this process, but it provides the structure in which those stages run.\n",
    "\n",
    "**Important parameters**:\n",
    "\n",
    "* `finder`: classes to find stars in the image. We use [DAOStarFinder](https://photutils.readthedocs.io/en/stable/api/photutils.detection.DAOStarFinder.html).\n",
    "\n",
    "* `group_maker`:  clustering algorithm in order to label the sources according to groups. We use [DAOGroup](https://photutils.readthedocs.io/en/stable/api/photutils.psf.DAOGroup.html#photutils.psf.DAOGroup). The method group_stars divides an entire starlist into sets of distinct, self-contained groups of mutually overlapping stars. It accepts as input a list of stars and determines which stars are close enough to be capable of adversely influencing each others’ profile fits. [DAOGroup](https://photutils.readthedocs.io/en/stable/api/photutils.psf.DAOGroup.html#photutils.psf.DAOGroup) aceepts one parameter, `crit_separation`, which is the distance, in units of pixels, such that any two stars separated by less than this distance will be placed in the same group.\n",
    "\n",
    "* `fitter`: algorithm to fit the sources simultaneously for each group. We use an astropy fitter, [LevMarLSQFitter](https://docs.astropy.org/en/stable/api/astropy.modeling.fitting.LevMarLSQFitter.html#astropy.modeling.fitting.LevMarLSQFitter). \n",
    "\n",
    "* `niters`: number of iterations for which the \"psf photometry\" loop described above is performed.\n",
    "\n",
    "* `fitshape`: Rectangular shape around the center of a star which will be used to collect the data to do the fitting. \n",
    "\n",
    "* `aperture_radius`: The radius (in units of pixels) used to compute initial estimates for the fluxes of sources."
   ]
  },
  {
   "cell_type": "code",
   "execution_count": null,
   "id": "1961ef1e",
   "metadata": {},
   "outputs": [],
   "source": [
    "def psf_phot(image, th, ap_radius, fitshape, fov, npsfs):\n",
    "\n",
    "    fitter = LevMarLSQFitter()\n",
    "    mmm_bkg = MMMBackground()\n",
    "    \n",
    "    data, det, filt = convert_data(image, convert=True, pam=True)\n",
    "    \n",
    "    sigma_psf = dict_utils[filt]['psf fwhm']\n",
    "    #print('FWHM for filter {f}:'.format(f=filt), sigma_psf)\n",
    "    \n",
    "    daofind = DAOStarFinder(threshold=th, fwhm=sigma_psf)\n",
    "    \n",
    "    daogroup = DAOGroup(5.0 * sigma_psf)\n",
    "    \n",
    "    fov = str(fov)\n",
    "    npsfs = str(npsfs)\n",
    "    \n",
    "    outname = 'PSF_'+filt+'_fov'+fov+'_npsfs'+npsfs+'_'+det+'.fits'\n",
    "    #print('File for PSF model:', outname)\n",
    "    psf = to_griddedpsfmodel(os.path.join(psf_dir, outname))\n",
    "    \n",
    "    psf_model = psf.copy()\n",
    "    \n",
    "    #print('Performing the PSF photometry --- Detector {d}, filter {f}'.format(f=filt, d=str.upper(det)))\n",
    "    \n",
    "    phot = IterativelySubtractedPSFPhotometry(finder=daofind, group_maker=daogroup,\n",
    "                                              bkg_estimator=mmm_bkg, psf_model=psf_model,\n",
    "                                              fitter=LevMarLSQFitter(),\n",
    "                                              niters=2, fitshape=fitshape, aperture_radius=ap_radius, \n",
    "                                              extra_output_cols=('sharpness', 'roundness2'))\n",
    "    result = phot(data)\n",
    "    print('Number of sources detected for detector {0}, filter {1}:'.format(str.upper(det), filt), len(result))\n",
    "    print('')\n",
    "    \n",
    "    residual_image = phot.get_residual_image()\n",
    "        \n",
    "    filename = str(image)\n",
    "    num = str(filename[-20:-15])\n",
    "    \n",
    "    hdu = fits.PrimaryHDU(residual_image)\n",
    "    hdul = fits.HDUList([hdu])\n",
    "    \n",
    "    residual_outname = 'residual_%s_%s_%s.fits' % (det, filt, num)\n",
    "\n",
    "    hdul.writeto(os.path.join(res_dir, residual_outname), overwrite=True) \n",
    "\n",
    "    outname = 'phot_%s_%s_%s.pkl' % (det, filt, num)\n",
    "    #print('Photometry catalog output name:', outname)\n",
    "    tab = result.to_pandas()\n",
    "    tab.to_pickle(os.path.join(output_phot_dir, outname))\n",
    "\n",
    "    return"
   ]
  },
  {
   "cell_type": "markdown",
   "id": "bff3558c",
   "metadata": {},
   "source": [
    "**Note**: due to the different throughputs of the filters, it is possible that we need to set a different thresholds depending on the analyzed images. If that's the case, we can create a dictionary (similar to what we do in `NRC-23_aperture_photometry.ipynb` for example), and perform PSF photometry on images grouped by filters. "
   ]
  },
  {
   "cell_type": "code",
   "execution_count": null,
   "id": "7da2f2ab",
   "metadata": {},
   "outputs": [],
   "source": [
    "tic = time.perf_counter()\n",
    "\n",
    "# PSF parameters:\n",
    "\n",
    "oversample = 4 \n",
    "fov = 11\n",
    "npsfs = 16\n",
    "distorted = True\n",
    "\n",
    "# PSF photometry parameters:\n",
    "\n",
    "th = 10\n",
    "ap_radius = 3.5\n",
    "fitshape=(11,11)\n",
    "\n",
    "\n",
    "if distorted:\n",
    "\n",
    "    psf_dir = 'PSF_MODELS/Distorted/Fov{}px_numPSFs{}_oversample{}'.format(fov, npsfs, oversample)\n",
    "    \n",
    "else:\n",
    "    \n",
    "    psf_dir = 'PSF_MODELS/Undistorted/Fov{}px_numPSFs{}_oversample{}'.format(fov, npsfs, oversample)\n",
    "\n",
    "output_phot_dir = 'PSF_PHOT_OUTPUT/numPSFs{}_Th{}_fitshape{}x{}'.format(npsfs, th, fitshape[0], fitshape[1])\n",
    "\n",
    "if not os.path.exists(output_phot_dir):\n",
    "    os.makedirs(output_phot_dir)\n",
    "\n",
    "res_dir = 'RESIDUAL_IMAGES/numPSFs{}_Th{}_fitshape{}x{}'.format(npsfs, th, fitshape[0], fitshape[1])\n",
    "\n",
    "if not os.path.exists(res_dir):\n",
    "    os.makedirs(res_dir)\n",
    "\n",
    "ncpu = mp.cpu_count()\n",
    "print('Total CPU available:', ncpu)\n",
    "nimages = len(images)\n",
    "print('Number of images to process:', nimages)\n",
    "nsplit = np.min([nimages, ncpu])\n",
    "\n",
    "with Pool(processes=nsplit) as pool:\n",
    "    \n",
    "    p = pool.starmap(psf_phot, [(image, th, ap_radius, fitshape, fov, npsfs) for image in images])\n",
    "    \n",
    "    pool.close()\n",
    "    pool.join()\n",
    "        \n",
    "toc = time.perf_counter()\n",
    "print('Time needed to perform photometry:', '%.2f' % ((toc - tic) / 3600), 'hours')"
   ]
  },
  {
   "cell_type": "code",
   "execution_count": null,
   "id": "f3a7e4aa",
   "metadata": {},
   "outputs": [],
   "source": []
  }
 ],
 "metadata": {
  "kernelspec": {
   "display_name": "Python 3 (ipykernel)",
   "language": "python",
   "name": "python3"
  },
  "language_info": {
   "codemirror_mode": {
    "name": "ipython",
    "version": 3
   },
   "file_extension": ".py",
   "mimetype": "text/x-python",
   "name": "python",
   "nbconvert_exporter": "python",
   "pygments_lexer": "ipython3",
   "version": "3.7.11"
  }
 },
 "nbformat": 4,
 "nbformat_minor": 5
}
