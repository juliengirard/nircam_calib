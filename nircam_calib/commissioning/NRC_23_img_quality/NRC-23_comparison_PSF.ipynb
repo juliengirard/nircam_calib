{
 "cells": [
  {
   "cell_type": "markdown",
   "id": "cb309bf5",
   "metadata": {},
   "source": [
    "# NRC-23 - Image Quality Verification by Filter   "
   ]
  },
  {
   "cell_type": "markdown",
   "id": "ad272ed8",
   "metadata": {},
   "source": [
    "## Notebook: Compare empirical PSF with synthetic PSF from WebbPSF (single PSF)"
   ]
  },
  {
   "cell_type": "markdown",
   "id": "a706ae37",
   "metadata": {},
   "source": [
    "**Author**: Matteo Correnti, STScI Scientist II\n",
    "<br>\n",
    "**Created**: December, 2021\n",
    "<br>\n",
    "**Last Updated**: February, 2022"
   ]
  },
  {
   "cell_type": "markdown",
   "id": "bdb94acd",
   "metadata": {},
   "source": [
    "## Table of contents\n",
    "1. [Introduction](#intro)<br>\n",
    "2. [Setup](#setup)<br>\n",
    "    2.1 [Python imports](#py_imports)<br>\n",
    "    2.2 [Plotting functions imports](#matpl_imports)<br>\n",
    "    2.3 [Select detector and filter](#sel_det)<br>\n",
    "3. [Load empirical and synthetic PSFs](#load_psf)<br>\n",
    "4. [Derive the radial profiles](#radial_profiles)<br>\n",
    "    4.1 [Determine the center of the PSF](#find_center)<br>\n",
    "    4.2 [Calculate radial profile - Method 1](#rp_method1)<br>\n",
    "    4.3 [Display radial profiles comparison- Method 1](#plot_method1)<br>\n",
    "    4.4 [Calculate radial profile - Method 2](#rp_method2)<br>\n",
    "    4.5 [Display radial profiles comparison- Method 1](#plot_method2)<br>"
   ]
  },
  {
   "cell_type": "markdown",
   "id": "56af4827",
   "metadata": {},
   "source": [
    "1.<font color='white'>-</font>Introduction <a class=\"anchor\" id=\"intro\"></a>\n",
    "------------------"
   ]
  },
  {
   "cell_type": "markdown",
   "id": "dcc6d5c2",
   "metadata": {},
   "source": [
    "This notebook shows how to derive the radial profile of a PSF, in order to compare the empirical PSF obtained from the observations with the synthetic PSF obtained from WebbPSF. In this case, we compare a single PSF with the ePSF obtained from different dithers (same detector - same filter).\n",
    "\n",
    "**Dependencies**: before running this notebook it is necessary to create the synthetic model PSFs using the notebook `NRC-23_webbpsf.ipynb` and the empirical PSFs using the notebook `NRC-23_create_ePSF.ipynb` or created with different codes. "
   ]
  },
  {
   "cell_type": "markdown",
   "id": "0714718b",
   "metadata": {},
   "source": [
    "2.<font color='white'>-</font>Setup <a class=\"anchor\" id=\"setup\"></a>\n",
    "------------------"
   ]
  },
  {
   "cell_type": "markdown",
   "id": "eae5b480",
   "metadata": {},
   "source": [
    "In this section we import all the necessary Python packages and we define some plotting parameters."
   ]
  },
  {
   "cell_type": "markdown",
   "id": "12785ef9",
   "metadata": {},
   "source": [
    "### 2.1<font color='white'>-</font>Python imports<a class=\"anchor\" id=\"py_imports\"></a> ###"
   ]
  },
  {
   "cell_type": "code",
   "execution_count": null,
   "id": "b1fc8e92",
   "metadata": {},
   "outputs": [],
   "source": [
    "import os \n",
    "\n",
    "os.environ['WEBBPSF_PATH'] = '/grp/jwst/ote/webbpsf-data'\n",
    "os.environ['PYSIN_CDBS'] = '/grp/hst/cdbs/'\n",
    "\n",
    "import glob as glob\n",
    "\n",
    "import numpy as np\n",
    "\n",
    "from astropy.io import fits\n",
    "from astropy.stats import sigma_clipped_stats\n",
    "\n",
    "import webbpsf\n",
    "from webbpsf.utils import to_griddedpsfmodel\n",
    "\n",
    "import pysynphot\n",
    "\n",
    "from photutils.centroids import centroid_2dg, centroid_sources, centroid_com\n",
    "from photutils import CircularAperture, CircularAnnulus, aperture_photometry\n"
   ]
  },
  {
   "cell_type": "markdown",
   "id": "710c787d",
   "metadata": {},
   "source": [
    "### 2.2<font color='white'>-</font>Plotting function imports<a class=\"anchor\" id=\"matpl_imports\"></a> ###"
   ]
  },
  {
   "cell_type": "code",
   "execution_count": null,
   "id": "6b749dae",
   "metadata": {},
   "outputs": [],
   "source": [
    "%matplotlib inline\n",
    "from matplotlib import style, pyplot as plt\n",
    "import matplotlib.patches as patches\n",
    "import matplotlib.ticker as ticker\n",
    "\n",
    "from mpl_toolkits.axes_grid1 import make_axes_locatable\n",
    "\n",
    "plt.rcParams['image.cmap'] = 'viridis'\n",
    "plt.rcParams['image.origin'] = 'lower'\n",
    "plt.rcParams['axes.titlesize'] = plt.rcParams['axes.labelsize'] = 30\n",
    "plt.rcParams['xtick.labelsize'] = plt.rcParams['ytick.labelsize'] = 20\n",
    "\n",
    "font1 = {'family': 'helvetica', 'color': 'black', 'weight': 'normal', 'size': '12'}\n",
    "font2 = {'family': 'helvetica', 'color': 'black', 'weight': 'normal', 'size': '20'}"
   ]
  },
  {
   "cell_type": "code",
   "execution_count": null,
   "id": "921bef8f",
   "metadata": {},
   "outputs": [],
   "source": [
    "figures_dir = 'FIGURES/'\n",
    "\n",
    "if not os.path.exists(figures_dir):\n",
    "    os.makedirs(figures_dir)"
   ]
  },
  {
   "cell_type": "markdown",
   "id": "7aa7e662",
   "metadata": {},
   "source": [
    "### 2.3<font color='white'>-</font>Select detector and filter<a class=\"anchor\" id=\"sel_det\"></a> ###"
   ]
  },
  {
   "cell_type": "code",
   "execution_count": null,
   "id": "f6b85c2f",
   "metadata": {},
   "outputs": [],
   "source": [
    "det = 'NRCB1'\n",
    "filt = 'F200W'"
   ]
  },
  {
   "cell_type": "markdown",
   "id": "3791b535",
   "metadata": {},
   "source": [
    "3.<font color='white'>-</font>Load empirical and synthetic PSFs<a class=\"anchor\" id=\"load_psf\"></a>\n",
    "------------------"
   ]
  },
  {
   "cell_type": "code",
   "execution_count": null,
   "id": "eab0acb9",
   "metadata": {},
   "outputs": [],
   "source": [
    "distorted = True\n",
    "fov = 41\n",
    "oversample = 4\n",
    "num_psf = 1\n",
    "\n",
    "if distorted:\n",
    "\n",
    "    dir_webbpsf = 'PSF_MODELS/Distorted/Fov{}px_numPSFs{}_oversample{}'.format(fov, num_psf, oversample)\n",
    "    dir_epsf = 'ePSF_MODELS/Distorted/Single_PSF/Fov{}px_numPSFs{}_oversample{}'.format(fov, num_psf, oversample)\n",
    "    \n",
    "    \n",
    "    epsfs = sorted(glob.glob(os.path.join(dir_epsf, '*'+det+'_'+filt+'*')))\n",
    "    psf_webbpsf = glob.glob(os.path.join(dir_webbpsf, '*'+filt+'*'+str.lower(det)+'*'))[0]\n",
    "\n",
    "else:\n",
    "    \n",
    "    dir_webbpsf = 'PSF_MODELS/Undistorted/Fov{}px_numPSFs{}_oversample{}'.format(fov, num_psf, oversample)\n",
    "    dir_epsf = 'ePSF_MODELS/Undistorted/Fov{}px_numPSFs{}_oversample{}'.format(fov, num_psf, oversample)\n",
    "    epsfs = sorted(glob.glob(os.path.join(dir_epsf, '*'+det+'_'+filt+'*')))\n",
    "    psf_webbpsf = glob.glob(os.path.join(dir_webbpsf, '*'+filt+'*'+str.lower(det)+'*'))[0]\n",
    "\n",
    "print('Empirical PSFs:', epsfs)\n",
    "print('Synthetic PSFs from WebbPSF:', psf_webbpsf)"
   ]
  },
  {
   "cell_type": "markdown",
   "id": "51cb6e2b",
   "metadata": {},
   "source": [
    "4.<font color='white'>-</font>Derive the radial profiles<a class=\"anchor\" id=\"radial_profiles\"></a>\n",
    "------------------"
   ]
  },
  {
   "cell_type": "markdown",
   "id": "72788857",
   "metadata": {},
   "source": [
    "We adopt two different methods to calculate the radial profiles:\n",
    "\n",
    "* Method 1: from aperture photometry at increasingly larger radii\n",
    "* Method 2: adapted version of the WebbPSF function `radial_profile` \n",
    "\n",
    "For the original version of the `radial_profile` code see [here](https://github.com/spacetelescope/poppy/blob/develop/poppy/utils.py). \n",
    "\n",
    "More information on aperture photometry using Photutils can be found here: [Aperture Photometry](https://photutils.readthedocs.io/en/stable/aperture.html). In the function below, to calculate the radial profile, we first determine the aperture photometry at different radii, then we derive the flux in each annulus and divide by the appropriate area. \n",
    "\n",
    "The main difference is that with aperture photometry the exact intersection of the aperture with each pixel is calculated."
   ]
  },
  {
   "cell_type": "markdown",
   "id": "48950e88",
   "metadata": {},
   "source": [
    "### 4.1<font color='white'>-</font>Determine the center of the PSF<a class=\"anchor\" id=\"find_center\"></a> ###"
   ]
  },
  {
   "cell_type": "code",
   "execution_count": null,
   "id": "c388c088",
   "metadata": {},
   "outputs": [],
   "source": [
    "def find_center(data, centroid_func=centroid_com):\n",
    "\n",
    "    xcenter = data.shape[1] / 2\n",
    "    ycenter = data.shape[0] / 2\n",
    "    \n",
    "    xc, yc = centroid_sources(data, xcenter, ycenter, box_size=21, centroid_func=centroid_func)\n",
    "    \n",
    "    return xc, yc"
   ]
  },
  {
   "cell_type": "markdown",
   "id": "bc949827",
   "metadata": {},
   "source": [
    "### 4.2<font color='white'>-</font>Calculate radial profile - Method 1<a class=\"anchor\" id=\"rp_method1\"></a> ###"
   ]
  },
  {
   "cell_type": "code",
   "execution_count": null,
   "id": "2b0d34f2",
   "metadata": {},
   "outputs": [],
   "source": [
    "def ap_phot(data, positions, radii, rsky):\n",
    "    \n",
    "    zero_mask = np.where(data == 0,0,1)\n",
    "    nan_mask  = np.where(np.isnan(data),0,1)\n",
    "    zero_mask = nan_mask * zero_mask\n",
    "    \n",
    "    nan_mask = np.where(zero_mask == 0,True,False)\n",
    "\n",
    "    apflux = []\n",
    "    apflux_err = []\n",
    "    area = []\n",
    "     \n",
    "    for r in radii:\n",
    "        \n",
    "        aperture = CircularAperture(positions, r=r)\n",
    "        aperture_area = aperture.area\n",
    "\n",
    "        annulus_aperture = CircularAnnulus(positions, r_in=rsky[0], r_out=rsky[1])\n",
    "        annulus_mask = annulus_aperture.to_mask(method='center')\n",
    "        \n",
    "        local_sky_median = []\n",
    "        local_sky_stdev = []\n",
    "        \n",
    "        annulus_data = annulus_mask.multiply(data)\n",
    "        annulus_data_1d = annulus_data[annulus_mask.data > 0]\n",
    "        \n",
    "        annulus_data_1d = annulus_data_1d[np.isfinite(annulus_data_1d)]\n",
    "            \n",
    "        _, median_sigclip, stdev_sigclip = sigma_clipped_stats(annulus_data_1d)\n",
    "        \n",
    "        local_sky_median.append(median_sigclip)\n",
    "        local_sky_median = np.array(local_sky_median)\n",
    "        local_sky_stdev.append(stdev_sigclip)\n",
    "        local_sky_stdev = np.array(local_sky_stdev)\n",
    "       \n",
    "        phot = aperture_photometry(data, aperture, method='exact', mask=nan_mask)\n",
    "        \n",
    "        phot['aper_bkg'] = local_sky_median * aperture.area\n",
    "        phot['aper_sum_bkgsub'] = phot['aperture_sum'] - phot['aper_bkg']\n",
    "        \n",
    "        aperture_sum = phot['aper_sum_bkgsub'][0]\n",
    "    \n",
    "        error_poisson = phot['aperture_sum']\n",
    "        error_scatter_sky = aperture.area * local_sky_stdev**2\n",
    "        error_mean_sky = local_sky_stdev**2 * aperture.area**2 / annulus_aperture.area\n",
    "        \n",
    "        ap_err = np.sqrt(error_poisson + error_scatter_sky + error_mean_sky)\n",
    "         \n",
    "        apflux.append(aperture_sum)\n",
    "        apflux_err.append(ap_err)\n",
    "        area.append(aperture_area)\n",
    "\n",
    "    return apflux, area"
   ]
  },
  {
   "cell_type": "code",
   "execution_count": null,
   "id": "de9cc10f",
   "metadata": {},
   "outputs": [],
   "source": [
    "def calc_profile(image, model='webbpsf', norm=True, peak=True):\n",
    "    \n",
    "    if model=='webbpsf':\n",
    "        \n",
    "        im = to_griddedpsfmodel(image)\n",
    "        data = im.data[0]\n",
    "        fov = data.shape[1]\n",
    "    \n",
    "    if model=='epsf':\n",
    "        \n",
    "        im = fits.open(image)\n",
    "        data = im[0].data\n",
    "        fov = data.shape[1] - 1\n",
    "    \n",
    "    xc, yc = find_center(data, centroid_func=centroid_com)\n",
    "\n",
    "    positions = (xc[0], yc[0])\n",
    "    print('Center calcuated with centroid function: X =', positions[0], 'Y =', positions[1])\n",
    "    \n",
    "    radii = np.arange(2, data.shape[1]/2 -6, 2)\n",
    "    rsky = [data.shape[1]/2 - 5, data.shape[1]/2 - 1]\n",
    "    \n",
    "    apflux, area = ap_phot(data, positions, radii, rsky)\n",
    "    \n",
    "    diff = np.zeros(len(apflux))\n",
    "    encircled = np.zeros(len(apflux))\n",
    "    \n",
    "    diff[0] = apflux[0]\n",
    "    encircled[0] = apflux[0] / area[0]\n",
    "    \n",
    "    sum_ee = encircled[0]\n",
    "    \n",
    "    ii = 0 \n",
    "    \n",
    "    for ii in range(1, len(apflux)):\n",
    "        diff[ii] = apflux[ii] - apflux[ii - 1]\n",
    "        encircled[ii] = diff[ii] / (area[ii] - area[ii - 1])\n",
    "        sum_ee = sum_ee + encircled[ii]\n",
    "        \n",
    "    if norm:\n",
    "        diff = diff / diff[0]\n",
    "        \n",
    "        if peak:\n",
    "            \n",
    "            encircled = encircled / encircled[0]\n",
    "        else:\n",
    "            \n",
    "            encircled = encircled / sum_ee\n",
    "    \n",
    "    return diff, encircled, radii, fov\n",
    "    "
   ]
  },
  {
   "cell_type": "code",
   "execution_count": null,
   "id": "2665a903",
   "metadata": {},
   "outputs": [],
   "source": [
    "diff_webbpsf, en1_webbpsf, radii_webbpsf, fov_webbpsf = calc_profile(psf_webbpsf, model='webbpsf', norm=True, peak=True)\n",
    "_ , en2_webbpsf, _, _ = calc_profile(psf_webbpsf, model='webbpsf', norm=True, peak=False)\n"
   ]
  },
  {
   "cell_type": "code",
   "execution_count": null,
   "id": "9ff4d020",
   "metadata": {},
   "outputs": [],
   "source": [
    "diff_epsf_tot = []\n",
    "en1_epsf_tot = []\n",
    "en2_epsf_tot = []\n",
    "\n",
    "for epsf in epsfs:\n",
    "    \n",
    "    diff_epsf, en1_epsf, radii_epsf, _ = calc_profile(epsf, model='epsf', norm=True, peak=True)\n",
    "    _ , en2_epsf, _, _ = calc_profile(epsf, model='epsf', norm=True, peak=False)\n",
    "    \n",
    "    diff_epsf_tot.append(diff_epsf)\n",
    "    en1_epsf_tot.append(en1_epsf)\n",
    "    en2_epsf_tot.append(en2_epsf)\n"
   ]
  },
  {
   "cell_type": "code",
   "execution_count": null,
   "id": "7cdb758a",
   "metadata": {},
   "outputs": [],
   "source": [
    "def pix2arcsec_sw(x):\n",
    "    return x * 0.031\n",
    "def arcsec2pix_sw(x):\n",
    "    return x / 0.031\n",
    "def pix2arcsec_lw(x):\n",
    "    return x * 0.063\n",
    "def arcsec2pix_lw(x):\n",
    "    return x / 0.063"
   ]
  },
  {
   "cell_type": "markdown",
   "id": "4eb6d750",
   "metadata": {},
   "source": [
    "### 4.3<font color='white'>-</font>Display radial profiles comparison - Method 1<a class=\"anchor\" id=\"plot_method1\"></a> ###"
   ]
  },
  {
   "cell_type": "code",
   "execution_count": null,
   "id": "6c308aba",
   "metadata": {},
   "outputs": [],
   "source": [
    "oversample = 4\n",
    "rad_arcsec_webbpsf = pix2arcsec_sw(radii_webbpsf / 4)\n",
    "rad_arcsec_epsf = pix2arcsec_sw(radii_epsf / 4)\n",
    "fov_detsamp = int(fov_webbpsf / 4)\n",
    "\n",
    "plt.figure(figsize=(14,8))\n",
    "\n",
    "plt.suptitle(det+' - '+ filt, fontsize=30)\n",
    "\n",
    "ax1 = plt.subplot(1, 2, 1)\n",
    "\n",
    "xlim0 = rad_arcsec_epsf[0] - 0.02\n",
    "xlim1 = np.max(rad_arcsec_epsf) + 0.01\n",
    "\n",
    "ax1.set_xlim(xlim0, xlim1)\n",
    "\n",
    "ax1.set_xlabel('radius [arcsec]', fontdict=font2)\n",
    "ax1.set_ylabel('Normalized surface brightess profile (flux/arcsec^2)', fontdict=font2)\n",
    "    \n",
    "ax1.xaxis.set_major_locator(ticker.AutoLocator())\n",
    "ax1.xaxis.set_minor_locator(ticker.AutoMinorLocator())\n",
    "ax1.yaxis.set_major_locator(ticker.AutoLocator())\n",
    "ax1.yaxis.set_minor_locator(ticker.AutoMinorLocator())\n",
    "\n",
    "ax1.scatter(rad_arcsec_webbpsf, en1_webbpsf, s=50, c='k')\n",
    "ax1.semilogy(rad_arcsec_webbpsf, en1_webbpsf, c='k')\n",
    "\n",
    "for j in en1_epsf_tot:   \n",
    "    ax1.scatter(rad_arcsec_epsf, j, s=50)\n",
    "    ax1.semilogy(rad_arcsec_epsf, j)\n",
    "\n",
    "ax1b = ax1.secondary_xaxis('top', functions=(arcsec2pix_sw, pix2arcsec_sw))\n",
    "ax1b.set_xlabel('radius [px]', fontdict=font2)\n",
    "\n",
    "ax2 = plt.subplot(1, 2, 2)\n",
    "\n",
    "ax2.set_xlim(xlim0, xlim1)\n",
    "\n",
    "ax2.set_xlabel('radius [arcsec]', fontdict=font2)\n",
    "ax2.set_ylabel('Normalized surface brightess profile (flux/arcsec^2)', fontdict=font2)\n",
    "    \n",
    "ax2.xaxis.set_major_locator(ticker.AutoLocator())\n",
    "ax2.xaxis.set_minor_locator(ticker.AutoMinorLocator())\n",
    "ax2.yaxis.set_major_locator(ticker.AutoLocator())\n",
    "ax2.yaxis.set_minor_locator(ticker.AutoMinorLocator())\n",
    "\n",
    "ax2.scatter(rad_arcsec_webbpsf, en2_webbpsf, s=50, c='k')\n",
    "ax2.semilogy(rad_arcsec_webbpsf, en2_webbpsf, c='k')\n",
    "\n",
    "for j in en2_epsf_tot:   \n",
    "    ax2.scatter(rad_arcsec_epsf, j, s=50)\n",
    "    ax2.semilogy(rad_arcsec_epsf, j)\n",
    "\n",
    "ax2b = ax2.secondary_xaxis('top', functions=(arcsec2pix_sw, pix2arcsec_sw))\n",
    "ax2b.set_xlabel('radius [px]', fontdict=font2)\n",
    "\n",
    "plt.tight_layout()\n",
    "\n",
    "filename = 'radial_profile_{}_{}_fov{}px.png'.format(det, filt, fov_detsamp)\n",
    "    \n",
    "#plt.savefig(os.path.join(figures_dir, filename))"
   ]
  },
  {
   "cell_type": "markdown",
   "id": "28354414",
   "metadata": {},
   "source": [
    "### 4.4<font color='white'>-</font>Calculate radial profile - Method 2<a class=\"anchor\" id=\"rp_method2\"></a> ###"
   ]
  },
  {
   "cell_type": "code",
   "execution_count": null,
   "id": "bdc538d9",
   "metadata": {},
   "outputs": [],
   "source": [
    "def calc_rp(image=None, model='epsf', center=False, pixelscale=0.031, oversample=4, binsize=None, \n",
    "            maxradius=None, norm='peak'):\n",
    "    \n",
    "    if model=='epsf':\n",
    "        \n",
    "        im = fits.open(image)\n",
    "        data = im[0].data\n",
    "        \n",
    "        \n",
    "    if model=='webbpsf':\n",
    "        \n",
    "        im = to_griddedpsfmodel(image)\n",
    "        data = im.data[0]\n",
    "        \n",
    "        \n",
    "    y,x = np.indices(data.shape, dtype=float)\n",
    "    \n",
    "    if center:\n",
    "        xc, yc = find_center(data, centroid_func=centroid_com)\n",
    "    \n",
    "        positions = (xc[0], yc[0])\n",
    "        print ('Center calculated with centroid function: X =', positions[0], 'Y =', positions[1])\n",
    "         \n",
    "    else:\n",
    "        max_image = np.max(data)\n",
    "        center = np.argwhere(data == max_image)\n",
    "        \n",
    "        print('XY position of the PSF maximum. X = ', center[0][1], 'Y =', center[0][0])\n",
    "    \n",
    "    x -= positions[0]#center[0][1]\n",
    "    y -= positions[1]#center[0][0]\n",
    "    \n",
    "    data_norm = data.copy()\n",
    "    \n",
    "    if norm=='peak':\n",
    "    \n",
    "        data_norm /= data_norm.max()\n",
    "    \n",
    "    if norm=='total':\n",
    "        data_norm /= data_norm.sum()\n",
    "    \n",
    "    pxscl = pixelscale / oversample\n",
    "    \n",
    "    if binsize is None:\n",
    "        binsize = pxscl\n",
    "   \n",
    "    r = np.sqrt(x**2 + y**2) * pxscl / binsize\n",
    "    ind = np.argsort(r.flat)\n",
    "    sr = r.flat[ind] \n",
    "    sim = data_norm.flat[ind]\n",
    "    ri = sr.astype(int) \n",
    "    deltar = ri[1:] - ri[:-1]  \n",
    "    rind = np.where(deltar)[0]\n",
    "    nr = rind[1:] - rind[:-1]  \n",
    "    csim = np.nan_to_num(sim).cumsum(dtype=float)  \n",
    "    tbin = csim[rind[1:]] - csim[rind[:-1]]  \n",
    "    radialprofile = tbin / nr\n",
    "    radialprofile2 = np.empty(len(radialprofile) + 1)\n",
    "    if rind[0] != 0:\n",
    "        radialprofile2[0] = csim[rind[0]] / (\n",
    "                rind[0] + 1)  \n",
    "    else:\n",
    "        radialprofile2[0] = csim[0]  \n",
    "    radialprofile2[1:] = radialprofile\n",
    "\n",
    "    rr = np.arange(ri.min(), ri.min() + len(\n",
    "        radialprofile2)) * binsize + binsize * 0.5  # these should be centered in the bins, so add a half.\n",
    "    \n",
    "    if maxradius is not None:\n",
    "        \n",
    "        maxrad = maxradius * pxscl\n",
    "        crop = rr < maxrad\n",
    "        rr = rr[crop]\n",
    "        radialprofile2 = radialprofile2[crop]\n",
    "    \n",
    "    \n",
    "    return rr, radialprofile2"
   ]
  },
  {
   "cell_type": "code",
   "execution_count": null,
   "id": "3c8e65f4",
   "metadata": {},
   "outputs": [],
   "source": [
    "r_webbpsf, rp_webbpsf = calc_rp(image=psf_webbpsf, center=True, model='webbpsf', maxradius=70, norm='total')\n",
    "print(len(rp_webbpsf))\n",
    "rs = []\n",
    "rps = []\n",
    "\n",
    "for epsf in epsfs:\n",
    "    r, rp = calc_rp(image=epsf, center=True, model='epsf', norm='total')\n",
    "    rs.append(r)  \n",
    "    rps.append(rp)"
   ]
  },
  {
   "cell_type": "markdown",
   "id": "e3e8b5ba",
   "metadata": {},
   "source": [
    "### 4.5<font color='white'>-</font>Display radial profiles comparison - Method 2<a class=\"anchor\" id=\"plot_method2\"></a> ###"
   ]
  },
  {
   "cell_type": "code",
   "execution_count": null,
   "id": "4321f1d4",
   "metadata": {},
   "outputs": [],
   "source": [
    "plt.figure(figsize=(12,10))\n",
    "\n",
    "ax = plt.subplot(1, 1, 1)\n",
    "        \n",
    "plt.suptitle(det+' - '+ filt, fontsize=30)\n",
    "    \n",
    "xlim0 = np.min(r_webbpsf)\n",
    "xlim1 = np.max(r_webbpsf)\n",
    "\n",
    "ax.set_xlim(xlim0, xlim1)\n",
    "    \n",
    "ax.set_xlabel('radius [arcsec]', fontdict=font2)\n",
    "ax.set_ylabel('Normalized surface brightess profile (flux/arcsec^2)', fontdict=font2)\n",
    "    \n",
    "ax.xaxis.set_major_locator(ticker.AutoLocator())\n",
    "ax.xaxis.set_minor_locator(ticker.AutoMinorLocator())\n",
    "ax.yaxis.set_major_locator(ticker.AutoLocator())\n",
    "ax.yaxis.set_minor_locator(ticker.AutoMinorLocator())\n",
    "   \n",
    "ax.semilogy(r_webbpsf, rp_webbpsf, c='k')\n",
    "ax.scatter(r_webbpsf, rp_webbpsf, s=50, c='k')\n",
    "\n",
    "for i,j in zip(rs, rps):   \n",
    "    ax.scatter(i, j, s=50)\n",
    "    ax.semilogy(i, j)\n",
    "\n",
    "ax1b = ax.secondary_xaxis('top', functions=(arcsec2pix_sw, pix2arcsec_sw))\n",
    "ax1b.set_xlabel('radius [px]', fontdict=font2)\n",
    "\n",
    "plt.tight_layout()\n",
    "\n",
    "filename = 'radial_profile_webbpsf_{}_{}_fov{}px.png'.format(det, filt, fov_detsamp)\n",
    "    \n",
    "#plt.savefig(os.path.join(figures_dir, filename))"
   ]
  },
  {
   "cell_type": "code",
   "execution_count": null,
   "id": "ceeffbf2",
   "metadata": {},
   "outputs": [],
   "source": []
  }
 ],
 "metadata": {
  "kernelspec": {
   "display_name": "Python 3 (ipykernel)",
   "language": "python",
   "name": "python3"
  },
  "language_info": {
   "codemirror_mode": {
    "name": "ipython",
    "version": 3
   },
   "file_extension": ".py",
   "mimetype": "text/x-python",
   "name": "python",
   "nbconvert_exporter": "python",
   "pygments_lexer": "ipython3",
   "version": "3.7.11"
  }
 },
 "nbformat": 4,
 "nbformat_minor": 5
}
