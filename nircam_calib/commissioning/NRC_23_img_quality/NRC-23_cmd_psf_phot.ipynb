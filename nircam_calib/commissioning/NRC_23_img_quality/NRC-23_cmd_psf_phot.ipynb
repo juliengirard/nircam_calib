{
 "cells": [
  {
   "cell_type": "markdown",
   "id": "0f36d1b7",
   "metadata": {},
   "source": [
    "# NRC-23 - Image Quality Verification by Filter   "
   ]
  },
  {
   "cell_type": "markdown",
   "id": "6ec54067",
   "metadata": {},
   "source": [
    "## Notebook: Comparison Color-Magnitude Diagram - PSF photometry"
   ]
  },
  {
   "cell_type": "markdown",
   "id": "09bdcd45",
   "metadata": {},
   "source": [
    "**Author**: Matteo Correnti, STScI Scientist II\n",
    "<br>\n",
    "**Created**: October, 2021\n",
    "<br>\n",
    "**Last Updated**: February, 2022"
   ]
  },
  {
   "cell_type": "markdown",
   "id": "d056da40",
   "metadata": {},
   "source": [
    "## Table of contents\n",
    "1. [Introduction](#intro)<br>\n",
    "2. [Setup](#setup)<br>\n",
    "    2.1 [Python imports](#py_imports)<br>\n",
    "    2.2 [Plotting functions imports](#matpl_imports)<br>\n",
    "3. [Import images to analyze](#data)<br>\n",
    "    3.1 [Select Detector/Filter to analyze](#sel_data)<br>\n",
    "    3.2 [Transform the images to data models](#transf_images)<br>\n",
    "    3.3 [Load the PSF photometry catalogs](#load_cat)<br>\n",
    "    3.4 [Clean the catalogs](#clean_cat)<br>\n",
    "4. [Transform pixel to equatorial coordinates](#transf_coord)<br>\n",
    "5. [Cross-Match the catalogs](#cross-match)<br>\n",
    "6. [Comparison with LMC astrometric catalog](#comp_lmc)<br>\n",
    "    6.1 [Import LMC astrometric catalog](#load_lmc_cat)<br>\n",
    "    6,2 [Select a sub-region coincident with our field of view](#fov_lmc)<br>\n",
    "    6.3 [Cross-match with LMC astrometric catalog](#crossmatch_lmc)<br>\n",
    "7. [Color-Magnitude Diagrams comparison](#cmd)<br>"
   ]
  },
  {
   "cell_type": "markdown",
   "id": "1e8a73a9",
   "metadata": {},
   "source": [
    "1.<font color='white'>-</font>Introduction <a class=\"anchor\" id=\"intro\"></a>\n",
    "------------------"
   ]
  },
  {
   "cell_type": "markdown",
   "id": "bd91ec2a",
   "metadata": {},
   "source": [
    "This notebook shows a quick comparison between the Color-Magnitude (CMD) of the original LMC catalog (with NIRCam simulated magnitudes) and the instrumental (i.e., not-calibrated) CMD obtained from the PSF photometry.\n",
    "\n",
    "**Dependencies**:  before running this notebook it is necessary to perform PSF photometry on the images, to obtain the source instrumental magnitudes, using the notebook `NRC-23_psf_photometry.ipynb`."
   ]
  },
  {
   "cell_type": "markdown",
   "id": "86d6384b",
   "metadata": {},
   "source": [
    "2.<font color='white'>-</font>Setup <a class=\"anchor\" id=\"setup\"></a>\n",
    "------------------"
   ]
  },
  {
   "cell_type": "markdown",
   "id": "a43810bf",
   "metadata": {},
   "source": [
    "In this section we import all the necessary Python packages and we define some plotting parameters."
   ]
  },
  {
   "cell_type": "markdown",
   "id": "7a3c7a17",
   "metadata": {},
   "source": [
    "### 2.1<font color='white'>-</font>Python imports<a class=\"anchor\" id=\"py_imports\"></a> ###"
   ]
  },
  {
   "cell_type": "code",
   "execution_count": null,
   "id": "18964281",
   "metadata": {},
   "outputs": [],
   "source": [
    "import os \n",
    "\n",
    "import sys\n",
    "import time\n",
    "import copy\n",
    "\n",
    "import glob as glob\n",
    "\n",
    "import numpy as np\n",
    "\n",
    "import pandas as pd\n",
    "\n",
    "from astropy import units as u\n",
    "from astropy.io import fits\n",
    "from astropy.table import Table, QTable\n",
    "from astropy.stats import sigma_clipped_stats\n",
    "\n",
    "import jwst\n",
    "from jwst.datamodels import ImageModel\n",
    "\n",
    "from astropy.coordinates import SkyCoord, match_coordinates_sky\n",
    "\n",
    "import pysiaf"
   ]
  },
  {
   "cell_type": "markdown",
   "id": "7ca8dfae",
   "metadata": {},
   "source": [
    "### 2.2<font color='white'>-</font>Plotting function imports<a class=\"anchor\" id=\"matpl_imports\"></a> ###"
   ]
  },
  {
   "cell_type": "code",
   "execution_count": null,
   "id": "ef620fa8",
   "metadata": {},
   "outputs": [],
   "source": [
    "%matplotlib inline\n",
    "from matplotlib import style, pyplot as plt\n",
    "import matplotlib.patches as patches\n",
    "import matplotlib.ticker as ticker\n",
    "\n",
    "from mpl_toolkits.axes_grid1 import make_axes_locatable\n",
    "\n",
    "plt.rcParams['image.cmap'] = 'viridis'\n",
    "plt.rcParams['image.origin'] = 'lower'\n",
    "plt.rcParams['axes.titlesize'] = plt.rcParams['axes.labelsize'] = 30\n",
    "plt.rcParams['xtick.labelsize'] = plt.rcParams['ytick.labelsize'] = 20\n",
    "\n",
    "font1 = {'family': 'helvetica', 'color': 'black', 'weight': 'normal', 'size': '12'}\n",
    "font2 = {'family': 'helvetica', 'color': 'black', 'weight': 'normal', 'size': '20'}"
   ]
  },
  {
   "cell_type": "code",
   "execution_count": null,
   "id": "aa66109d",
   "metadata": {},
   "outputs": [],
   "source": [
    "figures_dir = 'FIGURES/'\n",
    "\n",
    "if not os.path.exists(figures_dir):\n",
    "    os.makedirs(figures_dir)"
   ]
  },
  {
   "cell_type": "markdown",
   "id": "20c32471",
   "metadata": {},
   "source": [
    "3.<font color='white'>-</font>Import images to analyze<a class=\"anchor\" id=\"data\"></a>\n",
    "------------------"
   ]
  },
  {
   "cell_type": "code",
   "execution_count": null,
   "id": "112ab581",
   "metadata": {},
   "outputs": [],
   "source": [
    "dict_images = {'NRCA1': {}, 'NRCA2': {}, 'NRCA3': {}, 'NRCA4': {}, 'NRCA5': {},\n",
    "               'NRCB1': {}, 'NRCB2': {}, 'NRCB3': {}, 'NRCB4': {}, 'NRCB5': {}}\n",
    "\n",
    "dict_filter_short = {}\n",
    "dict_filter_long = {}\n",
    "\n",
    "ff_short = []\n",
    "det_short = []\n",
    "det_long = []\n",
    "ff_long = []\n",
    "detlist_short = []\n",
    "detlist_long = []\n",
    "filtlist_short = []\n",
    "filtlist_long = []\n",
    "\n",
    "images_dir = '../Simulation/Pipeline_Outputs/Level2_Outputs'\n",
    "images = sorted(glob.glob(os.path.join(images_dir, \"*cal.fits\")))\n",
    "\n",
    "for image in images:\n",
    "\n",
    "    im = fits.open(image)\n",
    "    f = im[0].header['FILTER']\n",
    "    d = im[0].header['DETECTOR']\n",
    "    p = im[0].header['PUPIL']\n",
    "\n",
    "    if d == 'NRCBLONG':\n",
    "        d = 'NRCB5'\n",
    "    elif d == 'NRCALONG':\n",
    "        d = 'NRCA5'\n",
    "    else:\n",
    "        d = d\n",
    "    \n",
    "    if p == 'CLEAR':\n",
    "        f = f\n",
    "    else:\n",
    "        f = p\n",
    "    \n",
    "    wv = float(f[1:3])\n",
    "\n",
    "    if wv > 24:         \n",
    "        ff_long.append(f)\n",
    "        det_long.append(d)\n",
    "\n",
    "    else:\n",
    "        ff_short.append(f)\n",
    "        det_short.append(d)   \n",
    "\n",
    "    detlist_short = sorted(list(dict.fromkeys(det_short)))\n",
    "    detlist_long = sorted(list(dict.fromkeys(det_long)))\n",
    "\n",
    "    unique_list_filters_short = []\n",
    "    unique_list_filters_long = []\n",
    "\n",
    "    for x in ff_short:\n",
    "\n",
    "        if x not in unique_list_filters_short:\n",
    "\n",
    "            dict_filter_short.setdefault(x, {})\n",
    "                 \n",
    "    for x in ff_long:\n",
    "        if x not in unique_list_filters_long:\n",
    "            dict_filter_long.setdefault(x, {})   \n",
    "            \n",
    "    for d_s in detlist_short:\n",
    "        dict_images[d_s] = copy.deepcopy(dict_filter_short)\n",
    "\n",
    "    for d_l in detlist_long:\n",
    "        dict_images[d_l] = copy.deepcopy(dict_filter_long)\n",
    "\n",
    "    filtlist_short = sorted(list(dict.fromkeys(dict_filter_short)))\n",
    "    filtlist_long = sorted(list(dict.fromkeys(dict_filter_long)))\n",
    "\n",
    "print(\"Available Detectors for SW channel:\", detlist_short)\n",
    "print(\"Available Detectors for LW channel:\", detlist_long)\n",
    "print(\"Available SW Filters:\", filtlist_short)\n",
    "print(\"Available LW Filters:\", filtlist_long)"
   ]
  },
  {
   "cell_type": "code",
   "execution_count": null,
   "id": "3403ab9d",
   "metadata": {},
   "outputs": [],
   "source": [
    "for image in images:\n",
    "    \n",
    "    im = fits.open(image)\n",
    "    f = im[0].header['FILTER']\n",
    "    d = im[0].header['DETECTOR']\n",
    "    p = im[0].header['PUPIL']\n",
    "\n",
    "    if d == 'NRCBLONG':\n",
    "        d = 'NRCB5'\n",
    "    elif d == 'NRCALONG':\n",
    "        d = 'NRCA5'\n",
    "    else:\n",
    "        d = d\n",
    "    \n",
    "    if p == 'CLEAR':\n",
    "        f = f\n",
    "    else:\n",
    "        f = p\n",
    "\n",
    "    if len(dict_images[d][f]) == 0:\n",
    "        dict_images[d][f] = {'images': [image]}\n",
    "    else:\n",
    "        dict_images[d][f]['images'].append(image)\n"
   ]
  },
  {
   "cell_type": "markdown",
   "id": "2e222e27",
   "metadata": {},
   "source": [
    "### 3.1<font color='white'>-</font>Select detector/filter to analyze<a class=\"anchor\" id=\"sel_data\"></a> ###"
   ]
  },
  {
   "cell_type": "code",
   "execution_count": null,
   "id": "635a6072",
   "metadata": {},
   "outputs": [],
   "source": [
    "det = 'NRCB1'\n",
    "filt1 = 'F115W'\n",
    "filt2 = 'F200W'"
   ]
  },
  {
   "cell_type": "markdown",
   "id": "57856c84",
   "metadata": {},
   "source": [
    "### 3.2<font color='white'>-</font>Transform the images to data models<a class=\"anchor\" id=\"transf_images\"></a> ###"
   ]
  },
  {
   "cell_type": "markdown",
   "id": "456b8fae",
   "metadata": {},
   "source": [
    "In order to assign the WCS coordinate and hence cross-match the images, we need to transform the images to DataModel. The coordinates are assigned during the step [assign_wcs](https://jwst-pipeline.readthedocs.io/en/stable/jwst/assign_wcs/main.html?#using-the-wcs-interactively) step in the JWST pipeline and allow us to cross-match the different catalogs obtained for each filter."
   ]
  },
  {
   "cell_type": "code",
   "execution_count": null,
   "id": "d0e11c2a",
   "metadata": {},
   "outputs": [],
   "source": [
    "images_1 = []\n",
    "images_2 = []\n",
    "\n",
    "for i in np.arange(0, len(dict_images[det][filt1]['images']), 1):\n",
    "\n",
    "    image_1 = ImageModel(dict_images[det][filt1]['images'][i])\n",
    "    images_1.append(image_1)\n",
    "        \n",
    "for i in np.arange(0, len(dict_images[det][filt2]['images']), 1):\n",
    "\n",
    "    image_2 = ImageModel(dict_images[det][filt2]['images'][i])\n",
    "    images_2.append(image_2)"
   ]
  },
  {
   "cell_type": "markdown",
   "id": "a2d2bdc3",
   "metadata": {},
   "source": [
    "### 3.3<font color='white'>-</font>Load the PSF photometry catalogs<a class=\"anchor\" id=\"load_cat\"></a> ###"
   ]
  },
  {
   "cell_type": "code",
   "execution_count": null,
   "id": "176152cb",
   "metadata": {},
   "outputs": [],
   "source": [
    "# adopted reduction parameters (needed to retrieve the photometry catalogs from the right folder)\n",
    "\n",
    "npsfs = 16\n",
    "th = 10\n",
    "fitshape = (11, 11)\n",
    "\n",
    "cat_dir = 'PSF_PHOT_OUTPUT/numPSFs{}_Th{}_fitshape{}x{}'.format(npsfs, th, fitshape[0], fitshape[1])\n",
    "phots_pkl_1 = sorted(glob.glob(os.path.join(cat_dir, 'phot_'+str.lower(det)+'_'+filt1+'*.pkl')))\n",
    "phots_pkl_2 = sorted(glob.glob(os.path.join(cat_dir, 'phot_'+str.lower(det)+'_'+filt2+'*.pkl')))\n",
    "\n",
    "phots_pkl_1\n",
    "\n",
    "results_1 = []\n",
    "results_2 = []\n",
    "\n",
    "for phot_pkl_1 in phots_pkl_1:\n",
    "    ph_1 = pd.read_pickle(phot_pkl_1)\n",
    "    result_1 = QTable.from_pandas(ph_1)\n",
    "    results_1.append(result_1)\n",
    "\n",
    "for phot_pkl_2 in phots_pkl_2:\n",
    "    ph_2 = pd.read_pickle(phot_pkl_2)\n",
    "    result_2 = QTable.from_pandas(ph_2)\n",
    "    results_2.append(result_2)"
   ]
  },
  {
   "cell_type": "markdown",
   "id": "9855fd8c",
   "metadata": {},
   "source": [
    "### 3.4<font color='white'>-</font>Clean the catalogs<a class=\"anchor\" id=\"clean_cat\"></a> ###"
   ]
  },
  {
   "cell_type": "code",
   "execution_count": null,
   "id": "114111b9",
   "metadata": {},
   "outputs": [],
   "source": [
    "results_clean_1 = []\n",
    "results_clean_2 = []\n",
    "\n",
    "for i in np.arange(0, len(images_1), 1):\n",
    "\n",
    "    mask_1 = ((results_1[i]['x_fit'] > 0) & (results_1[i]['x_fit'] < images_1[0].shape[1]) &\n",
    "                  (results_1[i]['y_fit'] > 0) & (results_1[i]['y_fit'] < images_1[0].shape[0]) &\n",
    "                  (results_1[i]['flux_fit'] > 0))\n",
    "\n",
    "    result_clean_1 = results_1[i][mask_1]\n",
    "    result_clean_1[filt1+'_inst'] = -2.5 * np.log10(result_clean_1['flux_fit'])\n",
    "    result_clean_1['e'+filt1+'_inst'] = 1.086 * (result_clean_1['flux_unc'] / result_clean_1['flux_fit'])\n",
    "\n",
    "    results_clean_1.append(result_clean_1)\n",
    "\n",
    "for i in np.arange(0, len(images_2), 1):\n",
    "    \n",
    "    mask_2 = ((results_2[i]['x_fit'] > 0) & (results_2[i]['x_fit'] < images_2[0].shape[1]) &\n",
    "                  (results_2[i]['y_fit'] > 0) & (results_2[i]['y_fit'] < images_2[0].shape[0]) &\n",
    "                  (results_2[i]['flux_fit'] > 0))\n",
    "\n",
    "    result_clean_2 = results_2[i][mask_2]\n",
    "    result_clean_2[filt2+'_inst'] = -2.5 * np.log10(result_clean_2['flux_fit'])\n",
    "    result_clean_2['e'+filt2+'_inst'] = 1.086 * (result_clean_2['flux_unc'] / result_clean_2['flux_fit'])\n",
    "\n",
    "    results_clean_2.append(result_clean_2)"
   ]
  },
  {
   "cell_type": "markdown",
   "id": "3b8f6e23",
   "metadata": {},
   "source": [
    "4.<font color='white'>-</font>Transform pixel to equatorial coordinates<a class=\"anchor\" id=\"transf_coord\"></a>\n",
    "------------------"
   ]
  },
  {
   "cell_type": "markdown",
   "id": "37bfe5af",
   "metadata": {},
   "source": [
    "We can transform the (x,y) positions from the raw, NIRCam coordinate system to the Equatorial system (ICRS) by means of the WCS information stored in the ASDF extension of our image.\n",
    "\n",
    "<div class=\"alert alert-block alert-info\">\n",
    "    <h3><u><b>NB</b></u></h3>\n",
    "    \n",
    "For stage-2 images (_cal.fits_ files), the WCS information is assigned by the _assign_wcs_ step. This information is saved in an ASDF extension of the FITS file. However, image-display tools such as ds9 do not understand the ASDF encoding. For this reason, an approximation to the WCS is stored in the image header using the SIP (Simple Imaging Polynomial) convention. The SIP-based header does not provide an exact fit: it is accurate to a $\\sim$0.25-pixel level and it is meant for general display purposes (see <a href=\"https://jwst-pipeline.readthedocs.io/en/latest/jwst/assign_wcs/main.html\">here</a> for more information).\n",
    "</ul>\n",
    "</div>"
   ]
  },
  {
   "cell_type": "code",
   "execution_count": null,
   "id": "2231f468",
   "metadata": {},
   "outputs": [],
   "source": [
    "results_final_1 = []\n",
    "results_final_2 = []\n",
    "\n",
    "for i in np.arange(0, len(images_1), 1):\n",
    "    \n",
    "    result_final_1 = results_clean_1[i]\n",
    "    ra_1, dec_1 = images_1[i].meta.wcs(result_final_1['x_fit'], result_final_1['y_fit'])\n",
    "    radec_1 = SkyCoord(ra_1, dec_1, unit='deg')\n",
    "    result_final_1['radec'] = radec_1\n",
    "    results_final_1.append(result_final_1)\n",
    "\n",
    "\n",
    "for i in np.arange(0, len(images_2), 1):\n",
    "\n",
    "    result_final_2 = results_clean_2[i]\n",
    "    ra_2, dec_2 = images_2[i].meta.wcs(result_final_2['x_fit'], result_final_2['y_fit'])\n",
    "    radec_2 = SkyCoord(ra_2, dec_2, unit='deg')\n",
    "    result_final_2['radec'] = radec_2\n",
    "    results_final_2.append(result_final_2)"
   ]
  },
  {
   "cell_type": "markdown",
   "id": "f306c3ce",
   "metadata": {},
   "source": [
    "5.<font color='white'>-</font>Cross-match the catalogs<a class=\"anchor\" id=\"cross-match\"></a>\n",
    "------------------"
   ]
  },
  {
   "cell_type": "markdown",
   "id": "aa5eab39",
   "metadata": {},
   "source": [
    "We cross-match the catalogs to obtain the difference in positions between the different filters.\n",
    "\n",
    "Stars from the two filters are associated if the distance between the matches is < 0.5 px.   "
   ]
  },
  {
   "cell_type": "markdown",
   "id": "44f628be",
   "metadata": {},
   "source": [
    "We can cross-match each single catalog for the two filters:"
   ]
  },
  {
   "cell_type": "code",
   "execution_count": null,
   "id": "a7f746c0",
   "metadata": {},
   "outputs": [],
   "source": [
    "max_sep = 0.5\n",
    "pixelscale = 0.031 # select the right pixelscale for SW or LW detector\n",
    "\n",
    "matches_phot_1 = []\n",
    "matches_phot_2 = []\n",
    "\n",
    "for res1 in results_final_1:\n",
    "    \n",
    "    for res2 in results_final_2:\n",
    "    \n",
    "        match_phot_1 = Table()\n",
    "        match_phot_2 = Table()\n",
    "    \n",
    "        idx, d2d, _ = match_coordinates_sky(res1['radec'], res2['radec'])\n",
    "        sep_constraint = (d2d.arcsec / pixelscale) < max_sep\n",
    "    \n",
    "        match_phot_1 = res1[sep_constraint]\n",
    "        match_phot_2 = res2[idx[sep_constraint]]\n",
    "    \n",
    "        matches_phot_1.append(match_phot_1)\n",
    "        matches_phot_2.append(match_phot_2)\n",
    "    "
   ]
  },
  {
   "cell_type": "markdown",
   "id": "53a95975",
   "metadata": {},
   "source": [
    "6.<font color='white'>-</font>Comparison with LMC astrometric catalog<a class=\"anchor\" id=\"comp_lmc\"></a>\n",
    "------------------"
   ]
  },
  {
   "cell_type": "markdown",
   "id": "95ce38c8",
   "metadata": {},
   "source": [
    "### 6.1<font color='white'>-</font>Import LMC astrometric catalog<a class=\"anchor\" id=\"load_lmc_cat\"></a> ###"
   ]
  },
  {
   "cell_type": "code",
   "execution_count": null,
   "id": "b9d632f0",
   "metadata": {},
   "outputs": [],
   "source": [
    "input_cat = '../Simulation/lmc_pointsources.cat'\n",
    "\n",
    "names = ['index', 'ra_in', 'dec_in', 'F070W', 'F090W', 'F115W', 'F140M', 'F150W2', 'F150W', 'F162M', 'F164N', \n",
    "         'F182M', 'F187N', 'F200W', 'F210M', 'F212N', 'F250M', 'F277W', 'F300M', 'F322W2', 'F323N', 'F335M', \n",
    "         'F356W', 'F360M', 'F405N', 'F410M', 'F430M', 'F444W', 'F460M', 'F466N', 'F470N', 'F480M']\n",
    "\n",
    "cat = pd.read_csv(input_cat, header=None, sep='\\s+', names=names,\n",
    "                  comment='#', skiprows=7, usecols=(0,1,2,5,13))\n",
    "cat.head()"
   ]
  },
  {
   "cell_type": "markdown",
   "id": "23612ac9",
   "metadata": {},
   "source": [
    "### 6.2<font color='white'>-</font>Select a sub-region coincident with our field of view<a class=\"anchor\" id=\"fov_lmc\"></a> ###"
   ]
  },
  {
   "cell_type": "code",
   "execution_count": null,
   "id": "cc9979c2",
   "metadata": {},
   "outputs": [],
   "source": [
    "print('Total number of stars in the LMC catalog:', len(cat))\n",
    "\n",
    "xlim0 = 0\n",
    "ylim0 = 0\n",
    "xlim1 = images_1[0].shape[1]\n",
    "ylim1 = images_1[0].shape[0]\n",
    "\n",
    "ra_lim0, dec_lim0 = images_1[0].meta.wcs(xlim0, ylim0)\n",
    "print(ra_lim0, dec_lim0)\n",
    "ra_lim1, dec_lim1 = images_1[0].meta.wcs(xlim1 - 1, ylim1 - 1)\n",
    "print(ra_lim1, dec_lim1)\n",
    "\n",
    "ra_lim = sorted([ra_lim0, ra_lim1])\n",
    "dec_lim = [dec_lim0, dec_lim1]\n",
    "\n",
    "cat_sel = cat.loc[(cat['ra_in'] > ra_lim[0]) & (cat['ra_in'] < ra_lim[1]) & (cat['dec_in'] > dec_lim[0]) & \n",
    "              (cat['dec_in'] < dec_lim[1])]\n",
    "\n",
    "print('Number of LMC stars in the field of view:', len(cat_sel))\n",
    "#cat_sel.head()"
   ]
  },
  {
   "cell_type": "markdown",
   "id": "e2eda783",
   "metadata": {},
   "source": [
    "### 6.3<font color='white'>-</font>Cross-match with LMC astrometric catalog<a class=\"anchor\" id=\"crossmatch_lmc\"></a> ###"
   ]
  },
  {
   "cell_type": "code",
   "execution_count": null,
   "id": "dc5577fc",
   "metadata": {},
   "outputs": [],
   "source": [
    "radec_input = SkyCoord(cat_sel['ra_in'], cat_sel['dec_in'], unit='deg')\n",
    "catalog1 = matches_phot_1[0]\n",
    "catalog2 = matches_phot_2[0]\n",
    "\n",
    "idx_inp, d2d_inp, _ = match_coordinates_sky(radec_input, catalog1['radec'])\n",
    "sep_constraint_inp = (d2d_inp.arcsec / pixelscale) < max_sep\n",
    "match_phot_inp = Table()\n",
    "match_phot_inp['radec'] = radec_input[sep_constraint_inp]\n",
    "match_phot_inp[filt1] = cat_sel[filt1][sep_constraint_inp]\n",
    "match_phot_inp[filt2] = cat_sel[filt2][sep_constraint_inp]\n",
    "match_phot_out_1 = catalog1[idx_inp[sep_constraint_inp]]\n",
    "match_phot_out_2 = catalog2[idx_inp[sep_constraint_inp]]\n",
    "print('Number of sources cross-matched with the LMC catalog:', len(match_phot_out_1))"
   ]
  },
  {
   "cell_type": "markdown",
   "id": "8df0a5d1",
   "metadata": {},
   "source": [
    "7.<font color='white'>-</font>Color-Magnitude Diagrams comparison<a class=\"anchor\" id=\"cmd\"></a>\n",
    "------------------"
   ]
  },
  {
   "cell_type": "code",
   "execution_count": null,
   "id": "4cda65c3",
   "metadata": {},
   "outputs": [],
   "source": [
    "plt.figure(figsize=(14, 12))\n",
    "\n",
    "ax1 = plt.subplot(1, 2, 1)\n",
    "\n",
    "ax1.set_xlabel(filt1+ ' - '+filt2, fontdict=font2)\n",
    "ax1.set_ylabel(filt1, fontdict=font2)\n",
    "\n",
    "ax1.set_title('LMC Catalog Input', fontdict=font2)\n",
    "\n",
    "plt.suptitle(det, fontsize=30)\n",
    "\n",
    "col_inp = cat_sel[filt1] - cat_sel[filt2]\n",
    "mag_inp = cat_sel[filt1]\n",
    "\n",
    "xlim0 = -1\n",
    "xlim1 = 1.5\n",
    "ylim0 = 24\n",
    "ylim1 = 12\n",
    "\n",
    "ax1.set_xlim(xlim0, xlim1)\n",
    "ax1.set_ylim(ylim0, ylim1)\n",
    "\n",
    "ax1.xaxis.set_major_locator(ticker.AutoLocator())\n",
    "ax1.xaxis.set_minor_locator(ticker.AutoMinorLocator())\n",
    "ax1.yaxis.set_major_locator(ticker.AutoLocator())\n",
    "ax1.yaxis.set_minor_locator(ticker.AutoMinorLocator())\n",
    "\n",
    "ax1.scatter(col_inp, mag_inp, c='k', s=10)\n",
    "\n",
    "col_inp_match =  match_phot_inp[filt1] - match_phot_inp[filt2]\n",
    "mag_inp_match = match_phot_inp[filt1]\n",
    "\n",
    "ax1.scatter(col_inp_match, mag_inp_match, c='r', s=20)\n",
    "ax1.text(xlim0+0.1, ylim1+0.5, 'LMC sources FOV: {}'.format(len(mag_inp)), fontdict=font2)\n",
    "ax1.text(xlim0+0.1, ylim1+1.0, 'Cross-matched with PSF phot: {}'.format(len(mag_inp_match)) , color='r', \n",
    "        fontdict=font2)\n",
    "\n",
    "ax2 = plt.subplot(1, 2, 2)\n",
    "\n",
    "ax2.set_xlabel(filt1+'_inst - '+filt2+'_inst', fontdict=font2)\n",
    "ax2.set_ylabel(filt1+'_inst', fontdict=font2)\n",
    "\n",
    "ax2.set_title('PSF photometry', fontdict=font2)\n",
    "\n",
    "col_out = catalog1[filt1+'_inst'] - catalog2[filt2+'_inst']\n",
    "mag_out = catalog1[filt1+'_inst']\n",
    "\n",
    "xlim0 = -1.5\n",
    "xlim1 = 1\n",
    "ylim0 = -1\n",
    "ylim1 = -11\n",
    "\n",
    "ax2.set_xlim(xlim0, xlim1)\n",
    "ax2.set_ylim(ylim0, ylim1)\n",
    "\n",
    "ax2.xaxis.set_major_locator(ticker.AutoLocator())\n",
    "ax2.xaxis.set_minor_locator(ticker.AutoMinorLocator())\n",
    "ax2.yaxis.set_major_locator(ticker.AutoLocator())\n",
    "ax2.yaxis.set_minor_locator(ticker.AutoMinorLocator())\n",
    "\n",
    "ax2.scatter(col_out, mag_out, c='k', s=10)\n",
    "\n",
    "col_out_match = match_phot_out_1[filt1+'_inst'] - match_phot_out_2[filt2+'_inst']\n",
    "mag_out_match = match_phot_out_1[filt1+'_inst']\n",
    "\n",
    "#ax2.scatter(col_out_match, mag_out_match, c='r', s=5)\n",
    "\n",
    "plt.tight_layout()\n",
    "\n",
    "filename = 'CMD_psf_phot_{0}_{1}-{2}vs{1}.png'.format(det, filt1, filt2)\n",
    "\n",
    "#plt.savefig(os.path.join(figures_dir, filename))"
   ]
  },
  {
   "cell_type": "code",
   "execution_count": null,
   "id": "68588e14",
   "metadata": {},
   "outputs": [],
   "source": []
  }
 ],
 "metadata": {
  "kernelspec": {
   "display_name": "Python 3 (ipykernel)",
   "language": "python",
   "name": "python3"
  },
  "language_info": {
   "codemirror_mode": {
    "name": "ipython",
    "version": 3
   },
   "file_extension": ".py",
   "mimetype": "text/x-python",
   "name": "python",
   "nbconvert_exporter": "python",
   "pygments_lexer": "ipython3",
   "version": "3.7.11"
  }
 },
 "nbformat": 4,
 "nbformat_minor": 5
}
