{
 "cells": [
  {
   "cell_type": "markdown",
   "metadata": {},
   "source": [
    "# NRC-09 Darks: FPA and ASIC Temperature Plots"
   ]
  },
  {
   "cell_type": "markdown",
   "metadata": {},
   "source": [
    "|                                |                                                          |\n",
    "|:---                            |:---                                                      |\n",
    "|__CAR Title__                   | NRC-09: Darks                                            |\n",
    "|__APT Program #__               | 1062                                                     |\n",
    "|__NGAS #__                      | 102                                                      |\n",
    "|__CAR Execution Dates(s) (UT):__| TBD                                                      |\n",
    "|__JIRA Ticket Links:__          | CAR [NRCCOM-13](https://jira.stsci.edu/browse/NRCCOM-13) ||\n",
    "|                                | CAP [NRCCOM-14](https://jira.stsci.edu/browse/NRCCOM-14) ||\n",
    "|                                | [JSOCOPS-15](https://jira.stsci.edu/browse/JSOCOPS-15)   ||\n",
    "|                                | NRCC1C-mm TBD                                            ||\n",
    "|                                | NRCC1C-nn TBD                                            |\n",
    "|__Analysis Team/Roles:__        | Leads: Karl Misselt (IDT), Alicia Canipe (IST)           ||\n",
    "|                                | Jarron Leisenring (Analysis/Scripts)                     ||\n",
    "|                                | Thomas Beatty (TSO expertise)                            ||\n",
    "|                                | Bryan Hilbert (Analysis/Scripts)                         ||\n",
    "|                                | Ben Sunnquist (Analysis/Scripts)                         ||\n",
    "|                                | Armin Rest (Analysis/Scripts)                            ||"
   ]
  },
  {
   "cell_type": "markdown",
   "metadata": {},
   "source": [
    "## Table of Contents"
   ]
  },
  {
   "cell_type": "markdown",
   "metadata": {},
   "source": [
    "* [Objective](#objective)\n",
    "* [Relevant links and documentation](#links)\n",
    "* [Environment for analysis](#environment)\n",
    "* [Imports](#imports)\n",
    "* [Data for analysis](#data)\n",
    "* [Plot FPA and ASIC temperatures](#fpa)\n",
    "* [Check temperature transients and affect on the data ](#temp)\n",
    "* [Compare with other data](#compare)"
   ]
  },
  {
   "cell_type": "markdown",
   "metadata": {},
   "source": [
    "<a id='objective'></a>\n",
    "## Objective"
   ]
  },
  {
   "cell_type": "markdown",
   "metadata": {},
   "source": [
    "Verify that focal plane temperatures and DC levels are what we've seen at other times. Generate plots of the FPA and ASIC temperatures and see if they are well-behaved, and see what the consequence is on the data if there are any temperature transients. Compare with ground test data. "
   ]
  },
  {
   "cell_type": "markdown",
   "metadata": {},
   "source": [
    "<a id='links'></a>\n",
    "## Relevant links and documentation"
   ]
  },
  {
   "cell_type": "markdown",
   "metadata": {},
   "source": [
    "|                       |                                                                                  |\n",
    "|:---                   |:---                                                                              |\n",
    "__JWQL dark monitor__   |                                                                             |\n",
    "__NRC-09 CAR page__     |[Review Notes NRC-09](https://outerspace.stsci.edu/display/JN/Review+Notes+NRC-09)|\n",
    "__NRC-09 CAP page__     |[CAP: NIRCam-09](https://outerspace.stsci.edu/display/JN/CAP%3A+NIRCam-09)        |\n",
    "__Scripts__             |[NIRCam Commissioning Analysis Scripts](https://outerspace.stsci.edu/display/JN/NIRCam+Commissioning+Analysis+Scripts)                            |"
   ]
  },
  {
   "cell_type": "markdown",
   "metadata": {},
   "source": [
    "<a id='environment'></a>\n",
    "## Environment for analysis"
   ]
  },
  {
   "cell_type": "markdown",
   "metadata": {},
   "source": [
    "Follow instructions for downloading the latest version of the pipeline to get the necessary analysis tools. Activate your environment, and then add additional tools. Note that pipeline software is not guaranteed to work on Windows machines, but it *should* work, in theory. "
   ]
  },
  {
   "cell_type": "markdown",
   "metadata": {},
   "source": [
    "[Pipeline installation](https://github.com/spacetelescope/jwst#installing-latest-releases)\n",
    "\n",
    "```python\n",
    "conda create -n <env_name> python\n",
    "conda activate <env_name>\n",
    "pip install jwst\n",
    "```\n",
    "\n",
    "or for a specific version:\n",
    "```python\n",
    "conda create -n <env_name> python\n",
    "conda activate <env_name>\n",
    "pip install jwst==1.2.3\n",
    "```\n",
    "\n",
    "and add additional tools used:\n",
    "```python\n",
    "pip install ipython jupyter matplotlib pylint pandas\n",
    "```"
   ]
  },
  {
   "cell_type": "markdown",
   "metadata": {},
   "source": [
    "<a id='imports'></a>\n",
    "## Imports"
   ]
  },
  {
   "cell_type": "code",
   "execution_count": null,
   "metadata": {},
   "outputs": [],
   "source": [
    "import argparse\n",
    "import requests\n",
    "import yaml\n",
    "from glob import glob\n",
    "import numpy as np\n",
    "import pandas as pd\n",
    "from astropy.io import fits, ascii\n",
    "from astropy.time import Time\n",
    "import matplotlib.pyplot as plt\n",
    "import matplotlib.patches as patches\n",
    "from matplotlib.ticker import FuncFormatter, MaxNLocator\n",
    "%matplotlib inline"
   ]
  },
  {
   "cell_type": "code",
   "execution_count": null,
   "metadata": {},
   "outputs": [],
   "source": [
    "def open_w_pandas(path, data_label=None):\n",
    "    \"\"\"\n",
    "    Read a .csv file downloaded from the JWST EDB into a pandas DataFrame.\n",
    "    \n",
    "    :param path:  A .csv file with data from the JWST EDB.\n",
    "    :type path:  str\n",
    "    \n",
    "    :param data_label:  An optional substitute label to overwrite the data column label.\n",
    "    :type data_label:  str\n",
    "    \"\"\"\n",
    "    \n",
    "    # Use the pandas built-in function to read the provided .csv file.\n",
    "    pd_frame = pd.read_csv(path)\n",
    "    \n",
    "    # Drop an empty unnecessary column from the DataFrame.\n",
    "    if 'Unnamed: 4' in pd_frame.columns:\n",
    "        pd_frame.drop(columns=['Unnamed: 4'], inplace=True)\n",
    "    \n",
    "    # If the substitute label is provided, replace the 'euvalue' column label.\n",
    "    if data_label:\n",
    "        pd_frame.rename(index=str, columns={\"euvalue\": data_label}, inplace=True)\n",
    "        \n",
    "    return pd_frame"
   ]
  },
  {
   "cell_type": "code",
   "execution_count": null,
   "metadata": {},
   "outputs": [],
   "source": [
    "def extract_from_engdb(input_hdulist, url_base, config):\n",
    "    \"\"\"Provide a link to the EngDB and a config file containing the desired\n",
    "       mnemonics to extract values for headers to be added to the output file.\n",
    "       e.g.\n",
    "       http://iwjwdmsbemweb.stsci.edu/JWDMSEngSpAccB71/TlmMnemonicDataSrv.svc/MetaData/TlmMnemonics/\n",
    "    \n",
    "    Parameters\n",
    "    ----------\n",
    "    input_hdulist : FITS HDUList\n",
    "        Old exposure headers\n",
    "    url_base : string\n",
    "        Engineering database URL\n",
    "    config : string\n",
    "        YAML format configuration file that includes \"mnemonics\" section\n",
    "    \n",
    "    Returns\n",
    "    -------\n",
    "    input_hdulist : FITS HDUList\n",
    "        Updated FITS HDUList with mnemonic headers added\n",
    "    \"\"\"\n",
    "\n",
    "    # Get the exposure start and end times\n",
    "    start_time = Time(input_hdulist[0].header['DATE-OBS']+'T'+old_hdulist[0].header['TIME-OBS'], format='fits', scale='utc').isot\n",
    "    end_time = Time(input_hdulist[0].header['DATE-OBS']+'T'+old_hdulist[0].header['TIME-END'], format='fits', scale='utc').isot\n",
    "    params = {'sTime':start_time, 'eTime':end_time}\n",
    "\n",
    "    # Start HTTP request session\n",
    "    session = requests.Session()\n",
    "\n",
    "    for keyword, mnemonic in config['mnemonics'].items():\n",
    "\n",
    "        # Get request to server.\n",
    "        url = url_base + mnemonic\n",
    "        req = session.get(url, params=params, verify=False)\n",
    "\n",
    "        # Parse json\n",
    "        parsed_json = req.json()\n",
    "\n",
    "        # json ObsTime has format '/Date(1358619814230+0000)/' which is 1358619814.230 in UNIX time\n",
    "        # isotime = Time(float(parsed_json['Data'][0]['ObsTime'][6:-7])/1000., format='unix').isot\n",
    "\n",
    "        # Take the first value of the series (there are no values right now,\n",
    "        # so use EUType instead of EUValue just to test functionality)\n",
    "        # new_hdulist[0].header[keyword] = (parsed_json['TlmMnemonics'][0]['EUValue'], mnemonic.upper())\n",
    "        input_hdulist[0].header[keyword] = (parsed_json['TlmMnemonics'][0]['EUType'], mnemonic.upper())\n",
    "\n",
    "    # Add the Engineering Mnemonics section heading\n",
    "    input_hdulist[0].header.set('', '', before=list(config['mnemonics'].keys())[0])\n",
    "    input_hdulist[0].header.set('', 'Engineering Mnemonics', before=list(config['mnemonics'].keys())[0])\n",
    "    input_hdulist[0].header.set('', '', before=list(config['mnemonics'].keys())[0])\n",
    "\n",
    "    return input_hdulist"
   ]
  },
  {
   "cell_type": "markdown",
   "metadata": {},
   "source": [
    "<a id='data'></a>\n",
    "## Data for analysis"
   ]
  },
  {
   "cell_type": "markdown",
   "metadata": {},
   "source": [
    "Observation data will be downloaded from MAST using the code written by Mario Gennaro and Armin Rest, and stored in our NIRCam data location: **TBD**"
   ]
  },
  {
   "cell_type": "code",
   "execution_count": null,
   "metadata": {},
   "outputs": [],
   "source": [
    "# base_dir = '/ifs/jwst/wit/nircam/'\n",
    "base_dir = '/ifs/jwst/wit/witserv/data7/nrc/'\n",
    "analysis_dir = './'\n",
    "ground = 'otis_long_darks'\n",
    "flight = 'TBD'"
   ]
  },
  {
   "cell_type": "code",
   "execution_count": null,
   "metadata": {},
   "outputs": [],
   "source": [
    "files = glob(base_dir+ground+'/NRC*_484_*uncal.fits')"
   ]
  },
  {
   "cell_type": "markdown",
   "metadata": {},
   "source": [
    "Telemetry can either be retrieved from the JWST Engineering Database or downloaded into a CSV file, e.g.,: "
   ]
  },
  {
   "cell_type": "code",
   "execution_count": null,
   "metadata": {},
   "outputs": [],
   "source": [
    "OBA_MODA_TEMPERATURES = \"IGDP_NRC_A_T_OBA_TS1-20190531T235959-20190601T235959.csv\"\n",
    "OBA_MODB_TEMPERATURES = \"IGDP_NRC_B_T_OBA_TS1-20190531T235959-20190601T235959.csv\"\n",
    "FPA_MODA_SW_TEMPERATURES = \"IGDP_NRC_FA_TMC2_SWMV_T-20190531T235959-20190601T235959.csv\"\n",
    "FPA_MODB_SW_TEMPERATURES = \"IGDP_NRC_FB_TMC2_SWMV_T-20190531T235959-20190601T235959.csv\"\n",
    "FPA_MODA_LW_TEMPERATURES = \"IGDP_NRC_FA_TMC2_LWMV_T-20190531T235959-20190601T235959.csv\"\n",
    "FPA_MODB_LW_TEMPERATURES = \"IGDP_NRC_FB_TMC2_LWMV_T-20190531T235959-20190601T235959.csv\""
   ]
  },
  {
   "cell_type": "markdown",
   "metadata": {},
   "source": [
    "<a id='fpa'></a>\n",
    "## Plot FPA and ASIC temperatures"
   ]
  },
  {
   "cell_type": "markdown",
   "metadata": {},
   "source": [
    "Check that temperatures are well-behaved. "
   ]
  },
  {
   "cell_type": "markdown",
   "metadata": {},
   "source": [
    "Start with downloaded data provided above. One example of mnemonics are the module A and B SW and LW FPA temperature measurements. These measurements are contained in the downloaded CSV files. We'll start with a set of .csv files for these data sets over the same 24-hour period."
   ]
  },
  {
   "cell_type": "code",
   "execution_count": null,
   "metadata": {},
   "outputs": [],
   "source": [
    "# Information for OBA temperatures\n",
    "X_FRAME_OBA = open_w_pandas(OBA_MODA_TEMPERATURES, data_label=\"x_values\")\n",
    "Y_FRAME_OBA = open_w_pandas(OBA_MODB_TEMPERATURES, data_label=\"y_values\")\n",
    "print(X_FRAME_OBA.shape)\n",
    "print(X_FRAME_OBA.columns)"
   ]
  },
  {
   "cell_type": "code",
   "execution_count": null,
   "metadata": {},
   "outputs": [],
   "source": [
    "# OBA temperature plots \n",
    "plt.figure(); X_FRAME_OBA.plot(x='MJD', y='x_values', kind='scatter'); Y_FRAME_OBA.plot(x='MJD', y='y_values', kind='scatter');"
   ]
  },
  {
   "cell_type": "code",
   "execution_count": null,
   "metadata": {},
   "outputs": [],
   "source": [
    "# Information for FPA SW temps\n",
    "X_FRAME_FPA_SW_A = open_w_pandas(FPA_MODA_SW_TEMPERATURES, data_label=\"x_values\")\n",
    "Y_FRAME_FPA_SW_B = open_w_pandas(FPA_MODB_SW_TEMPERATURES, data_label=\"y_values\")\n",
    "print(X_FRAME_FPA_SW_A.shape)\n",
    "print(X_FRAME_FPA_SW_A.columns)"
   ]
  },
  {
   "cell_type": "code",
   "execution_count": null,
   "metadata": {},
   "outputs": [],
   "source": [
    "# FPA SW temperature plots \n",
    "plt.figure(); X_FRAME_FPA_SW_A.plot(x='MJD', y='x_values', kind='scatter'); Y_FRAME_FPA_SW_B.plot(x='MJD', y='y_values', kind='scatter');"
   ]
  },
  {
   "cell_type": "code",
   "execution_count": null,
   "metadata": {},
   "outputs": [],
   "source": [
    "# Information for FPA LW temps\n",
    "X_FRAME_FPA_LW_A = open_w_pandas(FPA_MODA_LW_TEMPERATURES, data_label=\"x_values\")\n",
    "Y_FRAME_FPA_LW_B = open_w_pandas(FPA_MODB_LW_TEMPERATURES, data_label=\"y_values\")\n",
    "print(X_FRAME_FPA_LW_A.shape)\n",
    "print(X_FRAME_FPA_LW_A.columns)"
   ]
  },
  {
   "cell_type": "code",
   "execution_count": null,
   "metadata": {},
   "outputs": [],
   "source": [
    "# FPA LW temperature plots \n",
    "plt.figure(); X_FRAME_FPA_LW_A.plot(x='MJD', y='x_values', kind='scatter'); Y_FRAME_FPA_LW_B.plot(x='MJD', y='y_values', kind='scatter');"
   ]
  },
  {
   "cell_type": "markdown",
   "metadata": {},
   "source": [
    "<a id='temp'></a>\n",
    "## Check temperature transients and affect on the data "
   ]
  },
  {
   "cell_type": "markdown",
   "metadata": {},
   "source": [
    "Take a look at the pixel values for the files.\n",
    "\n",
    "|__SW dark current (1000s)__         | __LW dark current (1000s)__   |\n",
    "|:---                   |:---              |\n",
    "| 1.9 ± 1.1 e–          | 27 ± 5 e–        |\n"
   ]
  },
  {
   "cell_type": "markdown",
   "metadata": {},
   "source": [
    "If the data doesn't contain FPA or ASIC temperature headers, we can start by searching the Engineering database for the mnemonics we want (FPA and ASIC temperatures) during the time of the observations, and add this information to the FITS files in the \"Engineering Mnemonics\" section of the headers. Ground data usually already includes temperature information in the headers."
   ]
  },
  {
   "cell_type": "code",
   "execution_count": null,
   "metadata": {},
   "outputs": [],
   "source": [
    "## Need updated URL \n",
    "# url_base = 'http://iwjwdmsbemweb.stsci.edu/JWDMSEngSpAccB71/TlmMnemonicDataSrv.svc/MetaData/TlmMnemonics/'"
   ]
  },
  {
   "cell_type": "code",
   "execution_count": null,
   "metadata": {},
   "outputs": [],
   "source": [
    "# Create the dictionary with mnemonics \n",
    "config = dict(mnemonics=dict(FPA_MODA_SW_TEMPERATURES=\"IGDP_NRC_FA_TMC2_SWMV_T\"\n",
    "                             FPA_MODB_SW_TEMPERATURES=\"IGDP_NRC_FB_TMC2_SWMV_T\"\n",
    "                             FPA_MODA_LW_TEMPERATURES=\"IGDP_NRC_FA_TMC2_LWMV_T\"\n",
    "                             FPA_MODB_LW_TEMPERATURES=\"IGDP_NRC_FB_TMC2_LWMV_T\"\n",
    "                             )\n",
    "              )"
   ]
  },
  {
   "cell_type": "code",
   "execution_count": null,
   "metadata": {},
   "outputs": [],
   "source": [
    "for file in output_files: \n",
    "    with fits.open(file) as input_hdulist:\n",
    "        updated_list = extract_from_engdb(input_hdulist, url_base, config)\n",
    "        updated_list.writeto(file, overwrite=True)"
   ]
  },
  {
   "cell_type": "markdown",
   "metadata": {},
   "source": [
    "### Run scripts to get statistics "
   ]
  },
  {
   "cell_type": "markdown",
   "metadata": {},
   "source": [
    "Next, run the script ```dark_stats_with_temps.py```. This will output a series of ```.dat``` tables into the current working directory (or another that is specified). We will use the tables in the plots below. "
   ]
  },
  {
   "cell_type": "code",
   "execution_count": null,
   "metadata": {},
   "outputs": [],
   "source": [
    "# !python dark_stats_with_temps.py './'"
   ]
  },
  {
   "cell_type": "markdown",
   "metadata": {},
   "source": [
    "Now that you have the data tables, generate the plots. "
   ]
  },
  {
   "cell_type": "markdown",
   "metadata": {},
   "source": [
    "### Generate mean pixel values for each group using temperature as the colormap"
   ]
  },
  {
   "cell_type": "code",
   "execution_count": null,
   "metadata": {},
   "outputs": [],
   "source": [
    "# This section is for testing scripts and will not be needed once we have flight data \n",
    "detectors = {\n",
    "            '481': 'NRCA1',\n",
    "            '482': 'NRCA2',\n",
    "            '483': 'NRCA3',\n",
    "            '484': 'NRCA4',\n",
    "            '485': 'NRCA5',\n",
    "            '486': 'NRCB1',\n",
    "            '487': 'NRCB2',\n",
    "            '488': 'NRCB3',\n",
    "            '489': 'NRCB4',\n",
    "            '490': 'NRCB5'\n",
    "            }"
   ]
  },
  {
   "cell_type": "code",
   "execution_count": null,
   "metadata": {},
   "outputs": [],
   "source": [
    "base = \"flight_data/calc_dark_current\"\n",
    "\n",
    "for k,v in sorted(detectors.items()):\n",
    "\n",
    "    df = ascii.read(base+k+\".dat\")\n",
    "    subarrays = np.unique(df['subarray'])\n",
    "    \n",
    "    for sub in subarrays:\n",
    "        findf = df[df['subarray'] == sub]\n",
    "        fig = plt.figure(figsize=(10,7))\n",
    "        points = plt.scatter(findf[\"group\"], findf[\"mean\"],\n",
    "                             c=findf[\"asic_temp\"], s=75, cmap=\"viridis\")\n",
    "        cbar = plt.colorbar(points)\n",
    "        cbar.set_label('ASIC temperature (K)',fontsize=13)\n",
    "\n",
    "        plt.xlabel('Frame',fontsize=13)\n",
    "        plt.ylabel('3-$\\sigma$ clipped mean signal (ADU)',fontsize=13)\n",
    "        plt.title(detectors[k]+\"\\nsubarray \"+sub,fontsize=13)\n",
    "#         plt.savefig(outname+\"_subarray\"+sub+\".png\")"
   ]
  },
  {
   "cell_type": "markdown",
   "metadata": {},
   "source": [
    "<a id='compare'></a>\n",
    "## Compare with other data"
   ]
  },
  {
   "cell_type": "markdown",
   "metadata": {},
   "source": [
    "Repeat the exercise above using ground or other flight data. "
   ]
  },
  {
   "cell_type": "markdown",
   "metadata": {},
   "source": [
    "Next, run the script ```dark_stats_with_temps.py```. This will output a series of ```.dat``` tables into the current working directory (or another that is specified). We will use the tables in the plots below. "
   ]
  },
  {
   "cell_type": "code",
   "execution_count": null,
   "metadata": {},
   "outputs": [],
   "source": [
    "# !python dark_stats_with_temps.py './'"
   ]
  },
  {
   "cell_type": "markdown",
   "metadata": {},
   "source": [
    "Now that you have the data tables, generate the plots. "
   ]
  },
  {
   "cell_type": "code",
   "execution_count": null,
   "metadata": {},
   "outputs": [],
   "source": [
    "base = \"otis_long_darks/calc_dark_current\"\n",
    "\n",
    "for k,v in sorted(detectors.items()):\n",
    "\n",
    "    df = ascii.read(base+k+\".dat\")\n",
    "    subarrays = np.unique(df['subarray'])\n",
    "    \n",
    "    for sub in subarrays:\n",
    "        findf = df[df['subarray'] == sub]\n",
    "        fig = plt.figure(figsize=(10,7))\n",
    "        points = plt.scatter(findf[\"group\"], findf[\"mean\"],\n",
    "                             c=findf[\"asic_temp\"], s=75, cmap=\"viridis\")\n",
    "        cbar = plt.colorbar(points)\n",
    "        cbar.set_label('ASIC temperature (K)',fontsize=13)\n",
    "\n",
    "        plt.xlabel('Frame',fontsize=13)\n",
    "        plt.ylabel('3-$\\sigma$ clipped mean signal (ADU)',fontsize=13)\n",
    "        plt.title(detectors[k]+\"\\nsubarray \"+sub,fontsize=13)\n",
    "#         plt.savefig(outname+\"_subarray\"+sub+\".png\")"
   ]
  }
 ],
 "metadata": {
  "kernelspec": {
   "display_name": "Python 3",
   "language": "python",
   "name": "python3"
  },
  "language_info": {
   "codemirror_mode": {
    "name": "ipython",
    "version": 3
   },
   "file_extension": ".py",
   "mimetype": "text/x-python",
   "name": "python",
   "nbconvert_exporter": "python",
   "pygments_lexer": "ipython3",
   "version": "3.9.1"
  }
 },
 "nbformat": 4,
 "nbformat_minor": 4
}
