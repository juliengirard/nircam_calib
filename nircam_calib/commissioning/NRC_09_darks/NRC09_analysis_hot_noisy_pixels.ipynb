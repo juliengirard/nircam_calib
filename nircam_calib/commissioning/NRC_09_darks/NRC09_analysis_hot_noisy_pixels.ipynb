{
 "cells": [
  {
   "cell_type": "markdown",
   "metadata": {},
   "source": [
    "# NRC-09 Darks: Hot and Noisy Pixels"
   ]
  },
  {
   "cell_type": "markdown",
   "metadata": {},
   "source": [
    "|                                |                                                          |\n",
    "|:---                            |:---                                                      |\n",
    "|__CAR Title__                   | NRC-09: Darks                                            |\n",
    "|__APT Program #__               | 1062                                                     |\n",
    "|__NGAS #__                      | 102                                                      |\n",
    "|__CAR Execution Dates(s) (UT):__| TBD                                                      |\n",
    "|__JIRA Ticket Links:__          | CAR [NRCCOM-13](https://jira.stsci.edu/browse/NRCCOM-13) ||\n",
    "|                                | CAP [NRCCOM-14](https://jira.stsci.edu/browse/NRCCOM-14) ||\n",
    "|                                | [JSOCOPS-15](https://jira.stsci.edu/browse/JSOCOPS-15)   ||\n",
    "|                                | NRCC1C-mm TBD                                            ||\n",
    "|                                | NRCC1C-nn TBD                                            |\n",
    "|__Analysis Team/Roles:__        | Leads: Karl Misselt (IDT), Alicia Canipe (IST)           ||\n",
    "|                                | Jarron Leisenring (Analysis/Scripts)                     ||\n",
    "|                                | Thomas Beatty (TSO expertise)                            ||\n",
    "|                                | Bryan Hilbert (Analysis/Scripts)                         ||\n",
    "|                                | Ben Sunnquist (Analysis/Scripts)                         ||\n",
    "|                                | Armin Rest (Analysis/Scripts)                            ||"
   ]
  },
  {
   "cell_type": "markdown",
   "metadata": {},
   "source": [
    "## Table of Contents"
   ]
  },
  {
   "cell_type": "markdown",
   "metadata": {},
   "source": [
    "* [Objective](#objective)\n",
    "* [Relevant links and documentation](#links)\n",
    "* [Environment for analysis](#environment)\n",
    "* [Imports](#imports)\n",
    "* [Data for analysis](#data)\n",
    "* [Superbias investigation](#superbias)"
   ]
  },
  {
   "cell_type": "markdown",
   "metadata": {},
   "source": [
    "<a id='objective'></a>\n",
    "## Objective"
   ]
  },
  {
   "cell_type": "markdown",
   "metadata": {},
   "source": [
    "Use the dark exposures to search for hot pixels and generate hot pixel maps. It might be worth looking for bad pixels in subarrays (i.e., do subarrays have additional bad pixels that are not found in the full-frames?). Compare with ground test data. Generate bad pixel masks."
   ]
  },
  {
   "cell_type": "markdown",
   "metadata": {},
   "source": [
    "<a id='links'></a>\n",
    "## Relevant links and documentation"
   ]
  },
  {
   "cell_type": "markdown",
   "metadata": {},
   "source": [
    "|                       |                                                                                  |\n",
    "|:---                   |:---                                                                              |\n",
    "__JWQL dark monitor__   |                                                                             |\n",
    "__NRC-09 CAR page__     |[Review Notes NRC-09](https://outerspace.stsci.edu/display/JN/Review+Notes+NRC-09)|\n",
    "__NRC-09 CAP page__     |[CAP: NIRCam-09](https://outerspace.stsci.edu/display/JN/CAP%3A+NIRCam-09)        |\n",
    "__Scripts__             |[NIRCam Commissioning Analysis Scripts](https://outerspace.stsci.edu/display/JN/NIRCam+Commissioning+Analysis+Scripts)                            |"
   ]
  },
  {
   "cell_type": "markdown",
   "metadata": {},
   "source": [
    "<a id='environment'></a>\n",
    "## Environment for analysis"
   ]
  },
  {
   "cell_type": "markdown",
   "metadata": {},
   "source": [
    "Follow instructions for downloading the latest version of the pipeline to get the necessary analysis tools. Activate your environment, and then add additional tools. For this analysis, you will also need the bad pixel algorithm in the jwst_reffiles package, which is used to generate bad pixel masks. \n",
    "\n",
    "Note that pipeline software is not guaranteed to work on Windows machines, but it *should* work, in theory. "
   ]
  },
  {
   "cell_type": "markdown",
   "metadata": {},
   "source": [
    "[Pipeline installation](https://github.com/spacetelescope/jwst#installing-latest-releases)\n",
    "\n",
    "```python\n",
    "conda create -n <env_name> python\n",
    "conda activate <env_name>\n",
    "pip install jwst\n",
    "```\n",
    "\n",
    "or for a specific version:\n",
    "```python\n",
    "conda create -n <env_name> python\n",
    "conda activate <env_name>\n",
    "pip install jwst==1.2.3\n",
    "```\n",
    "\n",
    "and add additional tools used that are not included in the ```jwst``` package:\n",
    "```python\n",
    "pip install ipython jupyter matplotlib pylint pandas\n",
    "```\n",
    "\n",
    "and install [jwst_reffiles](https://jwst-reffiles.readthedocs.io/en/latest/official_bad_pixel_mask.html?highlight=hot%20pixel):\n",
    "```python\n",
    "pip install git+https://github.com/spacetelescope/jwst_reffiles.git\n",
    "```"
   ]
  },
  {
   "cell_type": "markdown",
   "metadata": {},
   "source": [
    "<a id='imports'></a>\n",
    "## Imports"
   ]
  },
  {
   "cell_type": "code",
   "execution_count": null,
   "metadata": {},
   "outputs": [],
   "source": [
    "import argparse\n",
    "import requests\n",
    "import yaml\n",
    "from glob import glob\n",
    "from jwst import datamodels\n",
    "from jwst.datamodels import dqflags\n",
    "import numpy as np\n",
    "import pandas as pd\n",
    "from astropy.io import fits, ascii\n",
    "from jwst_reffiles.bad_pixel_mask.bad_pixel_mask import bad_pixels\n",
    "import matplotlib.pyplot as plt\n",
    "import matplotlib.patches as patches\n",
    "from matplotlib.ticker import FuncFormatter, MaxNLocator\n",
    "%matplotlib inline"
   ]
  },
  {
   "cell_type": "markdown",
   "metadata": {},
   "source": [
    "<a id='data'></a>\n",
    "## Data for analysis"
   ]
  },
  {
   "cell_type": "markdown",
   "metadata": {},
   "source": [
    "Data will be downloaded from MAST using the code written by Mario Gennaro and Armin Rest, and stored in our NIRCam data location: **TBD**\n",
    "\n",
    "This analysis relies on ```rate```, ```fitopt```, ```jump``` file outputs for the dark exposures."
   ]
  },
  {
   "cell_type": "code",
   "execution_count": null,
   "metadata": {},
   "outputs": [],
   "source": [
    "# base_dir = '/ifs/jwst/wit/nircam/'\n",
    "base_dir = '/ifs/jwst/wit/witserv/data7/nrc/'\n",
    "analysis_dir = './'\n",
    "ground = 'otis_long_darks'\n",
    "flight = 'TBD'"
   ]
  },
  {
   "cell_type": "code",
   "execution_count": null,
   "metadata": {},
   "outputs": [],
   "source": [
    "dark_rate_files = sorted(glob(base_dir+'*_rate.fits'))\n",
    "dark_jump_files = sorted(glob(base_dir+'*_jump.fits'))\n",
    "dark_fitopt_files = sorted(glob(base_dir+'*_fitopt.fits'))\n",
    "dark_uncal_files = sorted(glob(base_dir+'*_uncal.fits'))"
   ]
  },
  {
   "cell_type": "markdown",
   "metadata": {},
   "source": [
    "<a id='hot pixels'></a>\n",
    "## Hot and noisy pixel investigation"
   ]
  },
  {
   "cell_type": "markdown",
   "metadata": {},
   "source": [
    "This section uses a collection of dark current exposures in order to search for NOISY, HOT, RC, TELEGRAPH, and LOW_PEDESTAL pixels. Both of these modules from ```jwst_reffiles``` expect input data in at least 2 calibration states: slope images, “fitopt” files, CR-flagged ramps (```rate```, ```fitopt```, ```jump``` files). Detailed [documentation about the software is here](https://jwst-reffiles.readthedocs.io/en/latest/official_bad_pixel_mask.html?highlight=hot%20pixel)."
   ]
  },
  {
   "cell_type": "markdown",
   "metadata": {},
   "source": [
    "When running bad_pixel_mask.py as a standalone package, the input file lists described above must be provided manually. In the future, when running via ```mkrefs```, raw or partially-calibrated files will be allowed as inputs. ```mkrefs``` will then call the calibration pipeline and produce the needed files.\n",
    "\n",
    "To use the bad pixel mask generator function as a standalone package, we use the code shown below. Detailed descriptions of the keywords in the call are linked in the documentation. Note that all of the keywords in the call below have defaults defined in the code (and in fact the call below is using all default values), so you do not have to specify any keywords where you wish to use the default."
   ]
  },
  {
   "cell_type": "code",
   "execution_count": null,
   "metadata": {},
   "outputs": [],
   "source": [
    "bad_pixels(dead_search =True,\n",
    "           low_qe_and_open_search =True,\n",
    "           dead_search_type ='sigma_rate',\n",
    "           smoothing_box_width =15,\n",
    "           smoothing_type ='Box2D',\n",
    "           dead_sigma_threshold =5.,\n",
    "           max_dead_norm_signal =None,\n",
    "           run_dead_flux_check =False,\n",
    "           dead_flux_check_files =None,\n",
    "           flux_check =45000,\n",
    "           max_low_qe_norm_signal =0.5,\n",
    "           max_open_adj_norm_signal =1.05,\n",
    "           manual_flag_file ='default',\n",
    "           dark_slope_files=dark_rate_files,\n",
    "           dark_uncal_files=None,\n",
    "           dark_jump_files=dark_jump_files,\n",
    "           dark_fitopt_files=dark_fitopt_files,\n",
    "           dark_stdev_clipping_sigma =5.,\n",
    "           dark_max_clipping_iters =5,\n",
    "           dark_noisy_threshold =5,\n",
    "           max_saturated_fraction =0.5,\n",
    "           max_jump_limit =10,\n",
    "           jump_ratio_threshold =5,\n",
    "           early_cutoff_fraction =0.25,\n",
    "           pedestal_sigma_threshold =5,\n",
    "           rc_fraction_threshold =0.8,\n",
    "           low_pedestal_fraction =0.8,\n",
    "           high_cr_fraction =0.8,\n",
    "           flag_values ={'hot': ['HOT'], 'rc': ['RC'], 'low_pedestal': ['OTHER_BAD_PIXEL'], 'high_cr': [\"TELEGRAPH\"]},\n",
    "           dark_do_not_use =['hot', 'rc', 'low_pedestal', 'high_cr'],\n",
    "           plot =False,\n",
    "           output_file =analysis_dir+'test_bpm.fits',\n",
    "           author ='jwst_reffiles',\n",
    "           description ='A bad pix mask',\n",
    "           pedigree ='GROUND',\n",
    "           useafter ='2019-04-01 00:00:00',\n",
    "           history ='',\n",
    "           quality_check =False)"
   ]
  },
  {
   "cell_type": "markdown",
   "metadata": {},
   "source": [
    "Now take the outputs from ```mkrefs``` to find the number of pixels flagged for NOISY, HOT, RC, TELEGRAPH, and LOW_PEDESTAL. The mask values recognized by the pipeline are listed [here](https://jwst-pipeline.readthedocs.io/en/stable/jwst/references_general/references_general.html#data-quality-flags). "
   ]
  },
  {
   "cell_type": "code",
   "execution_count": null,
   "metadata": {
    "scrolled": false
   },
   "outputs": [],
   "source": [
    "output = datamodels.MaskModel('test_bpm.fits')"
   ]
  },
  {
   "cell_type": "markdown",
   "metadata": {},
   "source": [
    "### Hot pixels"
   ]
  },
  {
   "cell_type": "code",
   "execution_count": null,
   "metadata": {},
   "outputs": [],
   "source": [
    "hot = np.where(output.dq & dqflags.pixel['HOT'] > 0)"
   ]
  },
  {
   "cell_type": "code",
   "execution_count": null,
   "metadata": {},
   "outputs": [],
   "source": [
    "num_hot_flags = len(hot[0])\n",
    "print(('Found {} hot flags.'.format(num_hot_flags)))"
   ]
  },
  {
   "cell_type": "markdown",
   "metadata": {},
   "source": [
    "### Noisy pixels"
   ]
  },
  {
   "cell_type": "code",
   "execution_count": null,
   "metadata": {},
   "outputs": [],
   "source": [
    "noisy = np.where(output.dq & dqflags.pixel['NOISY'] > 0)"
   ]
  },
  {
   "cell_type": "code",
   "execution_count": null,
   "metadata": {},
   "outputs": [],
   "source": [
    "num_noisy_flags = len(noisy[0])\n",
    "print(('Found {} noisy flags.'.format(num_noisy_flags)))"
   ]
  },
  {
   "cell_type": "markdown",
   "metadata": {},
   "source": [
    "### RC pixels"
   ]
  },
  {
   "cell_type": "code",
   "execution_count": null,
   "metadata": {},
   "outputs": [],
   "source": [
    "rc = np.where(output.dq & dqflags.pixel['RC'] > 0)"
   ]
  },
  {
   "cell_type": "code",
   "execution_count": null,
   "metadata": {},
   "outputs": [],
   "source": [
    "num_rc_flags = len(rc[0])\n",
    "print(('Found {} rc flags.'.format(num_rc_flags)))"
   ]
  },
  {
   "cell_type": "markdown",
   "metadata": {},
   "source": [
    "### Telegraph pixels"
   ]
  },
  {
   "cell_type": "code",
   "execution_count": null,
   "metadata": {},
   "outputs": [],
   "source": [
    "telegraph = np.where(output.dq & dqflags.pixel['TELEGRAPH'] > 0)"
   ]
  },
  {
   "cell_type": "code",
   "execution_count": null,
   "metadata": {},
   "outputs": [],
   "source": [
    "num_telegraph_flags = len(telegraph[0])\n",
    "print(('Found {} telegraph flags.'.format(num_telegraph_flags)))"
   ]
  },
  {
   "cell_type": "markdown",
   "metadata": {},
   "source": [
    "### Low pedestal pixels"
   ]
  },
  {
   "cell_type": "code",
   "execution_count": null,
   "metadata": {},
   "outputs": [],
   "source": [
    "low_pedestal = np.where(output.dq & dqflags.pixel['LOW_PEDESTAL'] > 0)"
   ]
  },
  {
   "cell_type": "code",
   "execution_count": null,
   "metadata": {},
   "outputs": [],
   "source": [
    "num_low_pedestal_flags = len(low_pedestal[0])\n",
    "print(('Found {} low_pedestal flags.'.format(num_low_pedestal_flags)))"
   ]
  }
 ],
 "metadata": {
  "kernelspec": {
   "display_name": "Python 3",
   "language": "python",
   "name": "python3"
  },
  "language_info": {
   "codemirror_mode": {
    "name": "ipython",
    "version": 3
   },
   "file_extension": ".py",
   "mimetype": "text/x-python",
   "name": "python",
   "nbconvert_exporter": "python",
   "pygments_lexer": "ipython3",
   "version": "3.9.1"
  }
 },
 "nbformat": 4,
 "nbformat_minor": 4
}
