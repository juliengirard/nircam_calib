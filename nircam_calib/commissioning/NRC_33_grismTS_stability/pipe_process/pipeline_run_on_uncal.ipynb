{
 "cells": [
  {
   "cell_type": "markdown",
   "id": "2e8a4c5b",
   "metadata": {},
   "source": [
    "# Pipeline Notebook Run"
   ]
  },
  {
   "cell_type": "code",
   "execution_count": null,
   "id": "e068051e",
   "metadata": {},
   "outputs": [],
   "source": [
    "from astropy.io import fits, ascii\n",
    "from jwst.pipeline.calwebb_detector1 import Detector1Pipeline\n",
    "from jwst.pipeline.calwebb_spec2 import Spec2Pipeline\n",
    "import sys\n",
    "import os\n",
    "import glob\n",
    "import numpy as np\n",
    "import warnings"
   ]
  },
  {
   "cell_type": "markdown",
   "id": "8ec384ce",
   "metadata": {},
   "source": [
    "<div class='alert alert-info'>\n",
    "    <font size='3'><b>These cells contain instructions. Edit the paths below.</b></font>\n",
    "</div>"
   ]
  },
  {
   "cell_type": "code",
   "execution_count": null,
   "id": "b4e0c5c2",
   "metadata": {},
   "outputs": [],
   "source": [
    "file_path = 'ex_data/*uncal.fits'\n",
    "out_path = 'ex_proc_data/'"
   ]
  },
  {
   "cell_type": "markdown",
   "id": "11102c9f",
   "metadata": {},
   "source": [
    "Find the files"
   ]
  },
  {
   "cell_type": "code",
   "execution_count": null,
   "id": "6bf04e09",
   "metadata": {},
   "outputs": [],
   "source": [
    "uncal_list = glob.glob(file_path)\n",
    "n_uncal = len(uncal_list)\n",
    "print(n_uncal)"
   ]
  },
  {
   "cell_type": "markdown",
   "id": "26ec8c79",
   "metadata": {},
   "source": [
    "Make sure NOUTPUTS exists. If not, set it to 4"
   ]
  },
  {
   "cell_type": "code",
   "execution_count": null,
   "id": "b7e3a1a0",
   "metadata": {},
   "outputs": [],
   "source": [
    "for one_file in uncal_list:\n",
    "    head = fits.getheader(one_file)\n",
    "    if 'NOUTPUTS' in head:\n",
    "        pass\n",
    "    else:\n",
    "        print(\"Missing NOUTPUTS for {}, setting to 4\".format(one_file))\n",
    "        with fits.open(one_file,mode='update') as HDUList:\n",
    "            HDUList[0].header['NOUTPUTS'] = (4, 'number of output amplifiers')"
   ]
  },
  {
   "cell_type": "markdown",
   "id": "2381b6a7",
   "metadata": {},
   "source": [
    "Set up stage 1"
   ]
  },
  {
   "cell_type": "code",
   "execution_count": null,
   "id": "f1933233",
   "metadata": {},
   "outputs": [],
   "source": [
    "pipeline = Detector1Pipeline()\n",
    "\n",
    "\n",
    "# Default is to skip the persistence and IPC correction\n",
    "# Make that explicit here\n",
    "pipeline.persistence.skip = True\n",
    "pipeline.ipc.skip = True\n",
    "\n",
    "# Specify that you want results saved to a file\n",
    "pipeline.save_results = True\n",
    "\n",
    "\n",
    "if os.path.exists(out_path) == False:\n",
    "    os.mkdir(out_path)\n",
    "pipeline.output_dir = out_path\n"
   ]
  },
  {
   "cell_type": "markdown",
   "id": "71b2572c",
   "metadata": {},
   "source": [
    "<div class='alert alert-info'>\n",
    "    <font size='3'><b>Change the rejection threshold if needed.</b></font>\n",
    "</div>"
   ]
  },
  {
   "cell_type": "code",
   "execution_count": null,
   "id": "10e8e986",
   "metadata": {},
   "outputs": [],
   "source": [
    "pipeline.jump.rejection_threshold = 15"
   ]
  },
  {
   "cell_type": "markdown",
   "id": "55e2003a",
   "metadata": {},
   "source": [
    "Run stage 1"
   ]
  },
  {
   "cell_type": "code",
   "execution_count": null,
   "id": "02519fdd",
   "metadata": {},
   "outputs": [],
   "source": [
    "for one_file in uncal_list:\n",
    "    pipeline.run(one_file)"
   ]
  },
  {
   "cell_type": "markdown",
   "id": "5eae54d6",
   "metadata": {},
   "source": [
    "Make sure we have rateints"
   ]
  },
  {
   "cell_type": "code",
   "execution_count": null,
   "id": "0368e721",
   "metadata": {},
   "outputs": [],
   "source": [
    "rateints_list = glob.glob(os.path.join(out_path,'*rateints.fits'))\n",
    "n_rateints = len(rateints_list)\n",
    "if n_rateints != n_uncal:\n",
    "    warnings.warn(\"{} rateints but {} uncal\".format(n_rateints,n_uncal))"
   ]
  },
  {
   "cell_type": "markdown",
   "id": "4a138c5f",
   "metadata": {},
   "source": [
    "Run stage 2"
   ]
  },
  {
   "cell_type": "code",
   "execution_count": null,
   "id": "1b4af5c6",
   "metadata": {},
   "outputs": [],
   "source": [
    "result2 = Spec2Pipeline()\n",
    "result2.save_results = True\n",
    "result2.output_dir = out_path\n",
    "\n",
    "for one_file in rateints_list:\n",
    "    result2.run(one_file)\n"
   ]
  },
  {
   "cell_type": "code",
   "execution_count": null,
   "id": "b299ea78",
   "metadata": {},
   "outputs": [],
   "source": []
  }
 ],
 "metadata": {
  "kernelspec": {
   "display_name": "Python 3",
   "language": "python",
   "name": "python3"
  },
  "language_info": {
   "codemirror_mode": {
    "name": "ipython",
    "version": 3
   },
   "file_extension": ".py",
   "mimetype": "text/x-python",
   "name": "python",
   "nbconvert_exporter": "python",
   "pygments_lexer": "ipython3",
   "version": "3.9.5"
  }
 },
 "nbformat": 4,
 "nbformat_minor": 5
}
