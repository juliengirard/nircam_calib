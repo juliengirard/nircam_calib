{
 "cells": [
  {
   "cell_type": "markdown",
   "id": "going-acceptance",
   "metadata": {},
   "source": [
    "# CAR-33 Lightcurve Fitting"
   ]
  },
  {
   "cell_type": "code",
   "execution_count": null,
   "id": "fifth-correction",
   "metadata": {},
   "outputs": [],
   "source": [
    "import batman\n",
    "import numpy as np\n",
    "import matplotlib.pyplot as plt\n",
    "from tshirt.pipeline import spec_pipeline\n",
    "import os\n",
    "from copy import deepcopy\n",
    "import pdb\n",
    "from astropy.io import fits, ascii\n",
    "from scipy.optimize import curve_fit\n",
    "%matplotlib inline"
   ]
  },
  {
   "cell_type": "markdown",
   "id": "active-knitting",
   "metadata": {},
   "source": [
    "<div class='alert alert-info'>\n",
    "    <font size='3'><b>These cells contain instructions. Edit the paths below.</b></font>\n",
    "</div>"
   ]
  },
  {
   "cell_type": "code",
   "execution_count": null,
   "id": "fallen-commodity",
   "metadata": {},
   "outputs": [],
   "source": [
    "par_path = '.'\n",
    "#par_file = '../pipe_process/default_nc_grism_params.yaml'\n",
    "par_file = '../pipe_process/simple_nc_grism_params.yaml'"
   ]
  },
  {
   "cell_type": "code",
   "execution_count": null,
   "id": "remarkable-messaging",
   "metadata": {},
   "outputs": [],
   "source": [
    "params = batman.TransitParams()\n",
    "params.t0 = 10193.58 / (3600. * 24.) ## transit center, seconds. Using orbital phase start window\n",
    "params.per = 399830.1696 / (3600. * 24.) ## seconds, period in APT\n",
    "params.rp = 0.0805  ## rp/r*, Torres. et al. 2010\n",
    "params.a = 8.87 ## a/r*, Torres et al. 2010\n",
    "params.inc = 83.5 ## inclination, Triaud et al. 2015\n",
    "params.ecc = 0.1074  ## eccentricity, Bonomo et al. 2017\n",
    "params.w = 94.4 ## longitude of periastron, Bonomo et al. 2017\n",
    "params.limb_dark =  \"nonlinear\" ## type of limb darkening model\n",
    "params.u = [0.17,0.473,-0.586,0.215] "
   ]
  },
  {
   "cell_type": "code",
   "execution_count": null,
   "id": "received-thomson",
   "metadata": {},
   "outputs": [],
   "source": [
    "p2 = deepcopy(params)\n",
    "def model_to_optimize(x,oot,rp):\n",
    "    p2.rp = rp\n",
    "    m = batman.TransitModel(p2, x)    #initializes model\n",
    "    flux = m.light_curve(p2)          #calculates light curve\n",
    "    return flux * oot"
   ]
  },
  {
   "cell_type": "code",
   "execution_count": null,
   "id": "preceding-program",
   "metadata": {},
   "outputs": [],
   "source": [
    "def fit_time_series(par_path,par_file,pipeType='phot',\n",
    "                    returnResults=False,nbins=1,bin_ind=0):\n",
    "    \n",
    "    full_param_path = os.path.join(par_path,par_file)\n",
    "    \n",
    "    if pipeType == 'phot':\n",
    "        \n",
    "        phot = phot_pipeline.phot(full_param_path)\n",
    "        t1, t2 = phot.get_tSeries()\n",
    "        t1.colnames, t2.colnames\n",
    "\n",
    "        orig_header = fits.getheader(phot.photFile,extname='ORIG HEADER')\n",
    "        timeKey = 'Time (JD)'\n",
    "    else:\n",
    "        spec = spec_pipeline.spec(full_param_path)\n",
    "        t1, t2 = spec.get_wavebin_series(nbins=nbins)\n",
    "        timeKey = 'Time'\n",
    "\n",
    "    \n",
    "    trel = t1[timeKey] - np.min(t1[timeKey]) + (+13.3/(3600. * 24.))\n",
    "    pts_norm = trel < 0.05\n",
    "    tab_ind = bin_ind + 1 ## first table column is time, so add 1\n",
    "    norm_val = np.mean(t1[t1.colnames[tab_ind]][pts_norm])\n",
    "    norm_y = t1[t1.colnames[tab_ind]] / norm_val\n",
    "    err_y = t2[t2.colnames[tab_ind]] / norm_val\n",
    "    \n",
    "    ## Calculate model at same times\n",
    "    m_at_ints = batman.TransitModel(deepcopy(params), trel)    #initializes model\n",
    "    m_flux_at_ints = m_at_ints.light_curve(params)          #calculates light curve\n",
    "    \n",
    "    resid = (norm_y - m_flux_at_ints)\n",
    "    \n",
    "    good_pt = np.abs(resid) < 0.01\n",
    "    \n",
    "    ## fit a new model\n",
    "    p0 = [1.0, 0.1]\n",
    "    popt, pcov = curve_fit(model_to_optimize,xdata=trel[good_pt],ydata=norm_y[good_pt],\n",
    "                           p0=p0,sigma=err_y[good_pt])\n",
    "    \n",
    "    bestFit = model_to_optimize(trel,*popt)\n",
    "    \n",
    "    \n",
    "#     print(\"Rp = {} +/- {}\".format(popt[1],np.sqrt(pcov[1])))\n",
    "#     print(\"Orig Rp = {}\".format(params.rp))\n",
    "    depth = popt[1]**2 * 1000.\n",
    "    depth_err = np.sqrt(pcov[1,1]) * 2. * popt[1] * 1000.\n",
    "    print(\"depth = {} +/- {} ppt\".format(depth,depth_err))\n",
    "    print(\"Expected depth = {} ppt\".format(params.rp**2 * 1000.))\n",
    "    \n",
    "    fig, ax = plt.subplots()\n",
    "    plt.plot(trel,norm_y,'.',label='data')\n",
    "    plt.plot(trel,m_flux_at_ints,label='orig')\n",
    "    plt.plot(trel,bestFit,label='best fit')\n",
    "    plt.legend()\n",
    "    fig, ax = plt.subplots()\n",
    "    \n",
    "    \n",
    "    plt.plot(trel[good_pt],resid[good_pt] * 1e6)\n",
    "    plt.ylabel(\"Diff (ppm)\")\n",
    "    \n",
    "    if returnResults == True:\n",
    "        resultDict = {}\n",
    "        resultDict['trel'] = trel\n",
    "        resultDict['bestFit'] = bestFit\n",
    "        resultDict['popt'] = popt\n",
    "        resultDict['pcov'] = pcov\n",
    "        resultDict['depth'] = depth\n",
    "        resultDict['depth err'] = depth_err\n",
    "        resultDict['wavename'] = t1.colnames[tab_ind]\n",
    "        return resultDict"
   ]
  },
  {
   "cell_type": "markdown",
   "id": "acute-provision",
   "metadata": {},
   "source": [
    "## Check the Broadband Depth"
   ]
  },
  {
   "cell_type": "code",
   "execution_count": null,
   "id": "roman-norman",
   "metadata": {},
   "outputs": [],
   "source": [
    "bb_res = fit_time_series(par_path,par_file,pipeType='spec',returnResults=True)"
   ]
  },
  {
   "cell_type": "markdown",
   "id": "quiet-lesbian",
   "metadata": {},
   "source": [
    "## Check the Binned Spectrum"
   ]
  },
  {
   "cell_type": "markdown",
   "id": "shaped-warehouse",
   "metadata": {},
   "source": [
    "<div class='alert alert-info'>\n",
    "    <font size='3'><b>Choose a number of bins.</b></font>\n",
    "</div>"
   ]
  },
  {
   "cell_type": "code",
   "execution_count": null,
   "id": "supported-field",
   "metadata": {},
   "outputs": [],
   "source": [
    "nbins=10"
   ]
  },
  {
   "cell_type": "code",
   "execution_count": null,
   "id": "italian-buyer",
   "metadata": {},
   "outputs": [],
   "source": [
    "binned_wave = []\n",
    "binned_depth, binned_depth_err = [], []\n",
    "for bin_ind in np.arange(nbins):\n",
    "    res = fit_time_series(par_path,par_file,\n",
    "                          pipeType='spec',nbins=nbins,bin_ind=bin_ind,\n",
    "                          returnResults=True)\n",
    "    binned_wave.append(float(res['wavename'].split('um')[0]))\n",
    "    binned_depth.append(res['depth'])\n",
    "    binned_depth_err.append(res['depth err'])"
   ]
  },
  {
   "cell_type": "code",
   "execution_count": null,
   "id": "extraordinary-mercury",
   "metadata": {},
   "outputs": [],
   "source": [
    "med_err = np.median(binned_depth_err)\n",
    "noise_floor_lim = 0.1 ## 100 ppm criterion\n",
    "floor_comb = np.sqrt(med_err**2 + noise_floor_lim**2)"
   ]
  },
  {
   "cell_type": "code",
   "execution_count": null,
   "id": "august-sailing",
   "metadata": {},
   "outputs": [],
   "source": [
    "exp_depth = 0.0805**2\n",
    "\n",
    "fig, ax = plt.subplots()\n",
    "ax.errorbar(binned_wave,binned_depth,yerr=binned_depth_err,fmt='o')\n",
    "ax.axhline(exp_depth * 1e3,color='red')\n",
    "ax.axhline(exp_depth * 1e3 - floor_comb,linestyle='dashed',color='red')\n",
    "ax.axhline(exp_depth * 1e3 + floor_comb,linestyle='dashed',color='red')\n",
    "ax.set_xlabel(\"Wavelength ($\\mu$m)\")\n",
    "ax.set_ylabel(\"Depth (ppt)\")\n",
    "\n"
   ]
  },
  {
   "cell_type": "markdown",
   "id": "willing-ratio",
   "metadata": {},
   "source": [
    "## Save the Residuals for Allan Variance Analysis"
   ]
  },
  {
   "cell_type": "code",
   "execution_count": null,
   "id": "static-commander",
   "metadata": {},
   "outputs": [],
   "source": [
    "full_param_path = os.path.join(par_path,par_file)\n",
    "spec = spec_pipeline.spec(full_param_path)\n",
    "HDUList_dyn = fits.open(spec.dyn_specFile())\n",
    "dynSpec = HDUList_dyn[\"DYNAMIC SPEC\"].data\n",
    "errDynHDU = HDUList_dyn[\"DYN SPEC ERR\"].data\n",
    "tdyn = HDUList_dyn['TIME'].data"
   ]
  },
  {
   "cell_type": "code",
   "execution_count": null,
   "id": "fifty-dating",
   "metadata": {},
   "outputs": [],
   "source": [
    "dispSt, dispEnd = spec.param['dispPixels']\n",
    "nPix = dispEnd - dispSt\n",
    "model2D = np.tile(bb_res['bestFit'],[nPix,1]).T"
   ]
  },
  {
   "cell_type": "code",
   "execution_count": null,
   "id": "accepted-voltage",
   "metadata": {},
   "outputs": [],
   "source": [
    "resid2D = dynSpec[:,dispSt:dispEnd] - model2D"
   ]
  },
  {
   "cell_type": "code",
   "execution_count": null,
   "id": "ceramic-terry",
   "metadata": {},
   "outputs": [],
   "source": [
    "plt.imshow(dynSpec[:,dispSt:dispEnd],vmin=0.994,vmax=1.003)\n"
   ]
  },
  {
   "cell_type": "code",
   "execution_count": null,
   "id": "scheduled-pollution",
   "metadata": {},
   "outputs": [],
   "source": [
    "plt.imshow(resid2D,vmin=-0.002,vmax=0.002)"
   ]
  },
  {
   "cell_type": "code",
   "execution_count": null,
   "id": "expressed-memphis",
   "metadata": {},
   "outputs": [],
   "source": [
    "primHDU = fits.PrimaryHDU(resid2D)\n",
    "primHDU.name = \"RESID\"\n",
    "timeHDU = fits.ImageHDU(tdyn)\n",
    "timeHDU.name = \"TIME\"\n",
    "residErrHDU = fits.ImageHDU(errDynHDU[:,dispSt:dispEnd])\n",
    "residErrHDU.name = \"RESID ERR\"\n",
    "outHDUList = fits.HDUList([primHDU,residErrHDU,timeHDU])\n",
    "outHDUList.writeto('../allan_variance/resid2d.fits',overwrite=True)"
   ]
  },
  {
   "cell_type": "code",
   "execution_count": null,
   "id": "sublime-terminal",
   "metadata": {},
   "outputs": [],
   "source": []
  },
  {
   "cell_type": "code",
   "execution_count": null,
   "id": "legitimate-edition",
   "metadata": {},
   "outputs": [],
   "source": []
  }
 ],
 "metadata": {
  "kernelspec": {
   "display_name": "Python 3",
   "language": "python",
   "name": "python3"
  },
  "language_info": {
   "codemirror_mode": {
    "name": "ipython",
    "version": 3
   },
   "file_extension": ".py",
   "mimetype": "text/x-python",
   "name": "python",
   "nbconvert_exporter": "python",
   "pygments_lexer": "ipython3",
   "version": "3.9.2"
  }
 },
 "nbformat": 4,
 "nbformat_minor": 5
}
