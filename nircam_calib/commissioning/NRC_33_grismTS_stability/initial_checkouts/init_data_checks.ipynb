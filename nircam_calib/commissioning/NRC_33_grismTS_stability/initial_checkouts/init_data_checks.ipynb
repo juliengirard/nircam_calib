{
 "cells": [
  {
   "cell_type": "markdown",
   "metadata": {},
   "source": [
    "# Initial Data Checks"
   ]
  },
  {
   "cell_type": "code",
   "execution_count": null,
   "metadata": {},
   "outputs": [],
   "source": [
    "import numpy as np\n",
    "import matplotlib.pyplot as plt\n",
    "from astropy.io import fits, ascii\n",
    "from astropy.modeling import models, fitting"
   ]
  },
  {
   "cell_type": "markdown",
   "metadata": {},
   "source": [
    "<div class='alert alert-info'>\n",
    "    <font size='3'><b>These cells contain instructions. Edit the paths below to select a rate file.</b></font>\n",
    "</div>"
   ]
  },
  {
   "cell_type": "code",
   "execution_count": null,
   "metadata": {},
   "outputs": [],
   "source": [
    "## path to segments of grism rate file\n",
    "gr_rate = 'ex_rate/jw01442001001_01101_00002-seg003_nrca5_rate.fits' ## path to a grism rate file\n",
    "im_rate = 'ex_rate/jw01442001001_01101_00001-seg003_nrca3_rate.fits' ## path to an imaging rate file\n",
    "\n",
    "#gr_rate = '../pipe_process/ex_proc_data/jw01442001001_01101_00002_nrca5_uncal_sat_rate.fits'\n",
    "#im_rate = '../pipe_process/ex_proc_data/jw01442001001_01101_00001_nrca3_saturated_rate.fits'\n",
    "\n",
    "# Example where the source is shifted and at lower flux (such as a misidentified source)\n",
    "#gr_rate = '../pipe_process/ex_proc_data/jw01442001001_01101_00002_nrca5_uncal_faint_and_shifted_rate.fits'\n",
    "#im_rate = '../pipe_process/ex_proc_data/jw01442001001_01101_00001_nrca3_shifted_and_fainter_rate.fits'\n"
   ]
  },
  {
   "cell_type": "markdown",
   "metadata": {},
   "source": [
    "<div class='alert alert-info'>\n",
    "    <font size='3'><b>Edit the approximate count rate from the ETC.</b></font>\n",
    "</div>"
   ]
  },
  {
   "cell_type": "code",
   "execution_count": null,
   "metadata": {},
   "outputs": [],
   "source": [
    "gainA5 = 1.8 ## e-/DN\n",
    "exp_grism_rate = 2540. / gainA5 ## DN/s\n",
    "\n",
    "gainSW = 2.17 ## e-/DN for A3\n",
    "#gainSW = 2.08 ## e-/DN for A1\n",
    "exp_im_rate = 6.0e6 / gainSW ## DN/s, src=2 arcsec, backg=2.1 to 2.5 arcsec\n"
   ]
  },
  {
   "cell_type": "markdown",
   "metadata": {},
   "source": [
    "## Make sure the Spectrum is in the Right Place"
   ]
  },
  {
   "cell_type": "code",
   "execution_count": null,
   "metadata": {},
   "outputs": [],
   "source": [
    "specdat = fits.getdata(gr_rate)"
   ]
  },
  {
   "cell_type": "code",
   "execution_count": null,
   "metadata": {},
   "outputs": [],
   "source": [
    "fig, ax = plt.subplots(figsize=(12,3))\n",
    "ax.imshow(specdat,vmin=0,vmax=500,origin='lower')\n",
    "ax.set_xlabel(\"Y Pixel\")\n",
    "fig, ax = plt.subplots(figsize=(12,3))\n",
    "ax.imshow(specdat,vmin=0,vmax=500,origin='lower')\n",
    "ax.set_xlabel(\"X Pixel\")\n",
    "ax.set_xlim(500,1050)"
   ]
  },
  {
   "cell_type": "code",
   "execution_count": null,
   "metadata": {},
   "outputs": [],
   "source": [
    "profile = np.mean(specdat[:,512:1024],axis=1)\n",
    "x = np.arange(specdat.shape[0])\n",
    "#plt.plot(x,profile)"
   ]
  },
  {
   "cell_type": "code",
   "execution_count": null,
   "metadata": {},
   "outputs": [],
   "source": [
    "\n",
    "# Fit the data using a Gaussian\n",
    "g_init = models.Gaussian1D(amplitude=200., mean=34, stddev=2.)\n",
    "fit_g = fitting.LevMarLSQFitter()\n",
    "g = fit_g(g_init, x, profile)\n",
    "\n",
    "# Plot the data with the best-fit model\n",
    "plt.figure(figsize=(8,5))\n",
    "plt.plot(x, profile, 'ko')\n",
    "#plt.plot(x, t(x), label='Trapezoid')\n",
    "plt.plot(x, g(x), label='Gaussian Fit')\n",
    "plt.xlabel('Position')\n",
    "plt.ylabel('Flux')\n",
    "plt.legend(loc=2)"
   ]
  },
  {
   "cell_type": "code",
   "execution_count": null,
   "metadata": {},
   "outputs": [],
   "source": [
    "g.mean"
   ]
  },
  {
   "cell_type": "markdown",
   "metadata": {},
   "source": [
    "<div class='alert alert-warning'>\n",
    "    <font size='3'><b>Check: Does the source land near Y=33 (zero-based)?</b></font>\n",
    "</div>"
   ]
  },
  {
   "cell_type": "markdown",
   "metadata": {},
   "source": [
    "## Do a crude extraction to check counts"
   ]
  },
  {
   "cell_type": "code",
   "execution_count": null,
   "metadata": {},
   "outputs": [],
   "source": [
    "ycen = int(np.round(g.mean.value))\n",
    "ylow, yhigh = ycen - 2, ycen + 3"
   ]
  },
  {
   "cell_type": "code",
   "execution_count": null,
   "metadata": {},
   "outputs": [],
   "source": [
    "quick_extract = np.sum(specdat[ylow:yhigh,:],axis=0)"
   ]
  },
  {
   "cell_type": "code",
   "execution_count": null,
   "metadata": {},
   "outputs": [],
   "source": [
    "fig, ax = plt.subplots()\n",
    "ax.plot(quick_extract)\n",
    "ax.set_ylim(0,2. * exp_grism_rate)\n",
    "ax.axhline(exp_grism_rate,color='red',label='Approx Expected Level')\n",
    "ax.legend()\n",
    "ax.set_xlabel(\"X Pixel\")\n",
    "ax.set_ylabel(\"Extracted Flux (DN/s)\")"
   ]
  },
  {
   "cell_type": "markdown",
   "metadata": {},
   "source": [
    "## Is it within a factor of 4?"
   ]
  },
  {
   "cell_type": "code",
   "execution_count": null,
   "metadata": {},
   "outputs": [],
   "source": [
    "fratio = quick_extract/exp_grism_rate"
   ]
  },
  {
   "cell_type": "code",
   "execution_count": null,
   "metadata": {},
   "outputs": [],
   "source": [
    "fig, ax = plt.subplots()\n",
    "ax.plot(fratio)\n",
    "ax.axhline(0.25,color='red')\n",
    "ax.axhline(4.0,color='red')"
   ]
  },
  {
   "cell_type": "markdown",
   "metadata": {},
   "source": [
    "<div class='alert alert-warning'>\n",
    "    <font size='3'><b>Check: Is the source within a factor 4 of expectations?</b></font>\n",
    "</div>"
   ]
  },
  {
   "cell_type": "markdown",
   "metadata": {},
   "source": [
    "## Check for saturation"
   ]
  },
  {
   "cell_type": "code",
   "execution_count": null,
   "metadata": {},
   "outputs": [],
   "source": [
    "HDUList = fits.open(gr_rate)"
   ]
  },
  {
   "cell_type": "code",
   "execution_count": null,
   "metadata": {},
   "outputs": [],
   "source": [
    "dq = HDUList['DQ'].data"
   ]
  },
  {
   "cell_type": "code",
   "execution_count": null,
   "metadata": {},
   "outputs": [],
   "source": [
    "sat = (dq & (1 << 1) > 0) ## test if bit 1 (zero-based) is True"
   ]
  },
  {
   "cell_type": "code",
   "execution_count": null,
   "metadata": {},
   "outputs": [],
   "source": [
    "fig, ax = plt.subplots(figsize=(12,3))\n",
    "ax.imshow(sat,origin='lower')\n",
    "fig, ax = plt.subplots(figsize=(12,3))\n",
    "ax.imshow(sat,origin='lower')\n",
    "ax.set_xlim(500,1050)"
   ]
  },
  {
   "cell_type": "markdown",
   "metadata": {},
   "source": [
    "<div class='alert alert-warning'>\n",
    "    <font size='3'><b>Check: Is the source saturated?</b></font>\n",
    "</div>"
   ]
  },
  {
   "cell_type": "markdown",
   "metadata": {},
   "source": [
    "## Make sure the Image is in the Right Place"
   ]
  },
  {
   "cell_type": "code",
   "execution_count": null,
   "metadata": {},
   "outputs": [],
   "source": [
    "imdat = fits.getdata(im_rate)"
   ]
  },
  {
   "cell_type": "code",
   "execution_count": null,
   "metadata": {},
   "outputs": [],
   "source": [
    "fig, ax = plt.subplots()\n",
    "ax.imshow(imdat,vmin=0,vmax=200,origin='lower')\n",
    "ax.set_xlabel(\"X Pixel\")\n",
    "ax.set_ylabel(\"Y Pixel\")\n",
    "\n",
    "ax.set_xlim(950,1150)"
   ]
  },
  {
   "cell_type": "markdown",
   "metadata": {},
   "source": [
    "<div class='alert alert-warning'>\n",
    "    <font size='3'><b>Check: Is the source near the middle?</b></font>\n",
    "</div>"
   ]
  },
  {
   "cell_type": "markdown",
   "metadata": {},
   "source": [
    "## Crude Photometry"
   ]
  },
  {
   "cell_type": "code",
   "execution_count": null,
   "metadata": {},
   "outputs": [],
   "source": [
    "simplePhot = np.sum(imdat[0:128,990:1110])"
   ]
  },
  {
   "cell_type": "code",
   "execution_count": null,
   "metadata": {},
   "outputs": [],
   "source": [
    "simplePhot"
   ]
  },
  {
   "cell_type": "code",
   "execution_count": null,
   "metadata": {},
   "outputs": [],
   "source": [
    "exp_im_rate"
   ]
  },
  {
   "cell_type": "code",
   "execution_count": null,
   "metadata": {},
   "outputs": [],
   "source": [
    "simplePhot / exp_im_rate"
   ]
  },
  {
   "cell_type": "markdown",
   "metadata": {},
   "source": [
    "<div class='alert alert-warning'>\n",
    "    <font size='3'><b>Check: Is the source within a factor of 4 of expectations?</b></font>\n",
    "</div>"
   ]
  },
  {
   "cell_type": "markdown",
   "metadata": {},
   "source": [
    "## Check for saturation"
   ]
  },
  {
   "cell_type": "code",
   "execution_count": null,
   "metadata": {},
   "outputs": [],
   "source": [
    "im_dq = fits.getdata(im_rate,extname='DQ')\n",
    "im_sat = (im_dq & (1 << 1)) > 0 ## test if bit 1 (zero-based) is True"
   ]
  },
  {
   "cell_type": "code",
   "execution_count": null,
   "metadata": {},
   "outputs": [],
   "source": [
    "fig, ax = plt.subplots()\n",
    "ax.imshow(im_sat,origin='lower')\n",
    "ax.set_xlabel(\"X Pixel\")\n",
    "ax.set_ylabel(\"Y Pixel\")\n",
    "\n",
    "ax.set_xlim(950,1150)"
   ]
  },
  {
   "cell_type": "markdown",
   "metadata": {},
   "source": [
    "<div class='alert alert-warning'>\n",
    "    <font size='3'><b>Check: Is the source saturated?</b></font>\n",
    "</div>"
   ]
  },
  {
   "cell_type": "code",
   "execution_count": null,
   "metadata": {},
   "outputs": [],
   "source": []
  }
 ],
 "metadata": {
  "kernelspec": {
   "display_name": "Python 3",
   "language": "python",
   "name": "python3"
  },
  "language_info": {
   "codemirror_mode": {
    "name": "ipython",
    "version": 3
   },
   "file_extension": ".py",
   "mimetype": "text/x-python",
   "name": "python",
   "nbconvert_exporter": "python",
   "pygments_lexer": "ipython3",
   "version": "3.9.5"
  }
 },
 "nbformat": 4,
 "nbformat_minor": 4
}
