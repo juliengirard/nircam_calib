{
 "cells": [
  {
   "cell_type": "markdown",
   "metadata": {},
   "source": [
    "# Examining the Settling Time of NIRCam Grism Time Series"
   ]
  },
  {
   "cell_type": "code",
   "execution_count": null,
   "metadata": {},
   "outputs": [],
   "source": [
    "import numpy as np\n",
    "from astropy.io import fits, ascii\n",
    "import matplotlib.pyplot as plt\n",
    "from astropy.modeling import models, fitting\n",
    "from astropy.modeling.models import custom_model\n",
    "from astropy.modeling.fitting import LevMarLSQFitter\n",
    "from astropy.table import Table"
   ]
  },
  {
   "cell_type": "code",
   "execution_count": null,
   "metadata": {},
   "outputs": [],
   "source": [
    "nints = 1336\n",
    "x = np.linspace(0,4. * 3600.,nints)"
   ]
  },
  {
   "cell_type": "markdown",
   "metadata": {},
   "source": [
    "Polynomial trend"
   ]
  },
  {
   "cell_type": "code",
   "execution_count": null,
   "metadata": {},
   "outputs": [],
   "source": [
    "x_norm = 2. * (x - np.mean(x)) / (np.max(x) - np.min(x))\n",
    "leg0 = 1.0\n",
    "leg1 = x_norm\n",
    "leg2 = 0.5 * (3. * x_norm**2 - 1.0)\n",
    "leg3 = 0.5 * (5. * x_norm**3 - 3. * x_norm)\n",
    "y_poly = 1.0 * leg0 + 0.003 * leg1 - 0.001 * leg2# + 0.1 * leg3\n",
    "\n",
    "plt.plot(x,y_poly)\n",
    "plt.xlabel(\"Time (sec)\")\n",
    "plt.ylabel(\"Normalized Flux\")"
   ]
  },
  {
   "cell_type": "markdown",
   "metadata": {},
   "source": [
    "Exponential trend"
   ]
  },
  {
   "cell_type": "code",
   "execution_count": null,
   "metadata": {},
   "outputs": [],
   "source": [
    "tau_true = 200.\n",
    "exp_amp = 0.005\n",
    "y_exp = -exp_amp * np.exp(-x / tau_true) + 1.\n",
    "plt.plot(x,y_exp)\n",
    "plt.xlabel(\"Time (sec)\")\n",
    "plt.ylabel(\"Normalized Flux\")"
   ]
  },
  {
   "cell_type": "markdown",
   "metadata": {},
   "source": [
    "Gaussian Noise and cosmic ray outliers"
   ]
  },
  {
   "cell_type": "code",
   "execution_count": null,
   "metadata": {},
   "outputs": [],
   "source": [
    "np.random.seed(5)\n",
    "## Gaussian\n",
    "gauss_sig = 100e-6 ## detector + photon estimate from experience w/ other tests\n",
    "gauss_noise = np.random.randn(nints) * gauss_sig\n",
    "\n",
    "## Cosmic Rays\n",
    "n_cr = 8\n",
    "amp_cr = 0.005\n",
    "cr_pts = np.random.randint(low=0,high=nints-1,size=n_cr)\n",
    "cr_noise = np.zeros_like(y_poly)\n",
    "cr_noise[cr_pts] = np.random.randn(n_cr) * amp_cr\n",
    "\n",
    "all_noise = gauss_noise + cr_noise"
   ]
  },
  {
   "cell_type": "markdown",
   "metadata": {},
   "source": [
    "All together"
   ]
  },
  {
   "cell_type": "code",
   "execution_count": null,
   "metadata": {},
   "outputs": [],
   "source": [
    "ysim = y_poly * y_exp + all_noise\n",
    "\n",
    "t = Table()\n",
    "t['Time'] = x\n",
    "t['Flux'] = ysim\n",
    "t.write('sim_data_ex1.csv',overwrite=True)\n",
    "\n",
    "plt.plot(x,ysim,'o')\n",
    "plt.xlabel(\"Time (sec)\")\n",
    "plt.ylabel(\"Normalized Flux\")"
   ]
  },
  {
   "cell_type": "markdown",
   "metadata": {},
   "source": [
    "Define model"
   ]
  },
  {
   "cell_type": "code",
   "execution_count": null,
   "metadata": {},
   "outputs": [],
   "source": [
    "def poly_fun(x_in,poly0=1.0, poly1=0.0, poly2=0.0,poly3=0.0):\n",
    "    return poly0 + poly1 * x_in + poly2 * x_in**2 + poly3 * x_in**3\n",
    "\n",
    "def exp_fun(x_in,amp_exp=1.0,tau=1.0):\n",
    "    return -amp_exp * np.exp(-x_in / tau) + 1.\n",
    "\n",
    "@custom_model\n",
    "def exp_model(x_in,amp_exp=1.0,tau=1.0,poly0=1.0, poly1=0.0, poly2=0.0,poly3=0.0):\n",
    "    \"\"\"\n",
    "    Exponential model\n",
    "    \"\"\"\n",
    "    #y_exp = -amp_exp * np.exp(-x_in / tau) + 1.\n",
    "    #y_poly = poly0 + poly1 * x_in + poly2 * x_in**2 + poly3 * x_in**3\n",
    "    #\n",
    "    y_exp = exp_fun(x_in,amp_exp,tau)\n",
    "    y_poly = poly_fun(x_in,poly0,poly1,poly2,poly3)\n",
    "    return y_exp * y_poly\n",
    "\n",
    "\n",
    "\n",
    "model_test1 = exp_model()\n",
    "model_test1(10.)"
   ]
  },
  {
   "cell_type": "code",
   "execution_count": null,
   "metadata": {},
   "outputs": [],
   "source": [
    "fit = fitting.LevMarLSQFitter()"
   ]
  },
  {
   "cell_type": "code",
   "execution_count": null,
   "metadata": {},
   "outputs": [],
   "source": [
    "model_to_fit = exp_model()\n",
    "fitted_model = fit(model_to_fit,x,ysim)"
   ]
  },
  {
   "cell_type": "code",
   "execution_count": null,
   "metadata": {},
   "outputs": [],
   "source": [
    "def plot_results(resmodel,x1,ysim1):\n",
    "    fig, (ax,ax1,ax2) = plt.subplots(3,sharex=True,sharey=True,figsize=(7,10))\n",
    "    ax.plot(x1,ysim1,'o')\n",
    "    ax.plot(x1,resmodel(x1))\n",
    "    \n",
    "    #ax.set_ylabel(\"Normalized Flux\")\n",
    "    yexp1 = exp_fun(x1,resmodel.amp_exp,fitted_model.tau)\n",
    "    ypoly1 = poly_fun(x1,resmodel.poly0,resmodel.poly1,resmodel.poly2,\n",
    "                      resmodel.poly3)\n",
    "    \n",
    "    ax1.plot(x1,yexp1,label='Exponential')\n",
    "    ax1.legend()\n",
    "    \n",
    "    \n",
    "    ax2.plot(x1,ypoly1,label='Poly')\n",
    "    ax2.legend()\n",
    "    \n",
    "    ax2.set_ylabel(\"Normalized Flux\")\n",
    "    ax2.set_xlabel(\"Time (sec)\")\n",
    "\n",
    "    print(\"Amp = {}\".format(resmodel.amp_exp.value))\n",
    "    print(\"Tau = {}\".format(resmodel.tau.value))\n",
    "plot_results(fitted_model,x,ysim)"
   ]
  },
  {
   "cell_type": "markdown",
   "metadata": {},
   "source": [
    "## Now simulate a lightcurve w/ no exponential"
   ]
  },
  {
   "cell_type": "code",
   "execution_count": null,
   "metadata": {},
   "outputs": [],
   "source": [
    "ysim2 = y_poly + gauss_noise\n",
    "#plt.plot(x,ysim2,'o')\n",
    "fitted_model2 = fit(model_to_fit,x,ysim2)\n",
    "\n",
    "plot_results(fitted_model2,x,ysim2)\n",
    "#plt.plot(x,fitted_model2(x))"
   ]
  }
 ],
 "metadata": {
  "kernelspec": {
   "display_name": "Python 2",
   "language": "python",
   "name": "python2"
  },
  "language_info": {
   "codemirror_mode": {
    "name": "ipython",
    "version": 2
   },
   "file_extension": ".py",
   "mimetype": "text/x-python",
   "name": "python",
   "nbconvert_exporter": "python",
   "pygments_lexer": "ipython2",
   "version": "2.7.15"
  }
 },
 "nbformat": 4,
 "nbformat_minor": 2
}
