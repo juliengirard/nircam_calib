{
 "cells": [
  {
   "cell_type": "markdown",
   "metadata": {},
   "source": [
    "# CAR-19 Data Analysis Goal 2: Confirm Subarray Position"
   ]
  },
  {
   "cell_type": "markdown",
   "metadata": {},
   "source": [
    "This notebook runs the code in the nircam_calib/comissioning/NRC_19_subarrays module in order to analyze data from CAR-19 (Subarray Verification)"
   ]
  },
  {
   "cell_type": "markdown",
   "metadata": {},
   "source": [
    "## Table of Contents"
   ]
  },
  {
   "cell_type": "markdown",
   "metadata": {},
   "source": [
    "* [Goal 2: Confirm positions of subarrays on detectors](#goal_2)"
   ]
  },
  {
   "cell_type": "code",
   "execution_count": null,
   "metadata": {},
   "outputs": [],
   "source": [
    "from glob import glob\n",
    "import os"
   ]
  },
  {
   "cell_type": "code",
   "execution_count": null,
   "metadata": {},
   "outputs": [],
   "source": [
    "from astropy.io import ascii, fits\n",
    "from jwst.associations.asn_from_list import asn_from_list\n",
    "from jwst.associations.lib.rules_level2_base import DMSLevel2bBase\n",
    "from jwst.pipeline.calwebb_detector1 import Detector1Pipeline\n",
    "from jwst.pipeline.calwebb_image2 import Image2Pipeline\n",
    "from jwst.pipeline.calwebb_image3 import Image3Pipeline\n",
    "from jwst.pipeline.calwebb_tso3 import Tso3Pipeline\n",
    "from jwst.source_catalog import SourceCatalogStep\n",
    "import matplotlib.pyplot as plt\n",
    "import numpy as np"
   ]
  },
  {
   "cell_type": "code",
   "execution_count": null,
   "metadata": {},
   "outputs": [],
   "source": [
    "from nircam_calib.commissioning.NRC_19_subarrays.subarray_loc_examination_prep import check_location\n",
    "from nircam_calib.commissioning.NRC_19_subarrays import confirm_subarray_location_via_sources as locations\n",
    "from nircam_calib.commissioning.NRC_19_subarrays import confirm_telescope_pointing as pointing\n",
    "from nircam_calib.commissioning.NRC_19_subarrays import confirm_count_rates as count_rates\n",
    "from nircam_calib.commissioning.utils.display import overlay_catalog"
   ]
  },
  {
   "cell_type": "code",
   "execution_count": null,
   "metadata": {},
   "outputs": [],
   "source": [
    "import jwst\n",
    "print(jwst.__version__)"
   ]
  },
  {
   "cell_type": "code",
   "execution_count": null,
   "metadata": {},
   "outputs": [],
   "source": [
    "base_dir = '/ifs/jwst/wit/nircam/simulationWG/Imaging/CAR-19/2021_June'\n",
    "#base_dir = 'path_to_simulationWG_CAR-19_directory'"
   ]
  },
  {
   "cell_type": "code",
   "execution_count": null,
   "metadata": {},
   "outputs": [],
   "source": [
    "def display(files, titles, minval=0, maxval=10):\n",
    "    fig, axes = plt.subplots(nrows=1, ncols=2, figsize=(12, 10))\n",
    "\n",
    "    for ax, filename, title in zip(axes.flat, files, titles):\n",
    "        img = fits.getdata(filename)\n",
    "        ax.set_axis_off()\n",
    "        im = ax.imshow(img, origin='lower', cmap='viridis', vmin=minval, vmax=maxval)\n",
    "        ax.set_title(title)\n",
    "\n",
    "    cbar = fig.colorbar(im, ax=axes.ravel().tolist(), shrink=0.5)\n",
    "    cbar.set_ticks(np.linspace(minval, maxval, 5))\n",
    "    plt.show()"
   ]
  },
  {
   "cell_type": "markdown",
   "metadata": {},
   "source": [
    "<a id='goal_2'></a>\n",
    "## Goal 2: Confirm positions of subarrays on detectors are correct"
   ]
  },
  {
   "cell_type": "markdown",
   "metadata": {},
   "source": [
    "Make sure that the input subarrays have fields of view that overlap the full frame file!!"
   ]
  },
  {
   "cell_type": "markdown",
   "metadata": {},
   "source": [
    "### Primary check: \n",
    "\n",
    "Using the SUBSTRT1 and SUBSTRT2 header keyword values in the subarray files, extract a subarray from an accompanying full frame exposure and see if the bias structure/visible hot/dead pixels are in the same locations of each."
   ]
  },
  {
   "cell_type": "code",
   "execution_count": null,
   "metadata": {},
   "outputs": [],
   "source": [
    "# Uncal files to use for visual subarray location check. Include all point\n",
    "# source and extended subarrays. Note that we can't do this for the \n",
    "# TSO observation because we have no full frame A1, A3, or A5 exposure to\n",
    "# compare to. We'll have to grab full frame A module exposures from some\n",
    "# other program. See the cell below for the placeholder entries for the A module.\n",
    "full_uncal_files = {'B1': 'Mirage_Output/jw01068004001_01101_00001_nrcb1_uncal.fits',\n",
    "                    'B2': 'Mirage_Output/jw01068004001_01101_00001_nrcb2_uncal.fits',\n",
    "                    'B3': 'Mirage_Output/jw01068004001_01101_00001_nrcb3_uncal.fits',\n",
    "                    'B4': 'Mirage_Output/jw01068004001_01101_00001_nrcb4_uncal.fits',\n",
    "                    'B5': 'Mirage_Output/jw01068004001_01101_00001_nrcb5_uncal.fits',\n",
    "                    }\n",
    "\n",
    "subarray_uncal_files = {'B1': ['Mirage_Output/jw01068001001_01101_00001_nrcb1_uncal.fits',\n",
    "                               'Mirage_Output/jw01068002001_01101_00001_nrcb1_uncal.fits',\n",
    "                               'Mirage_Output/jw01068003001_01101_00001_nrcb1_uncal.fits',\n",
    "                               'Mirage_Output/jw01068005001_01101_00001_nrcb1_uncal.fits',\n",
    "                               'Mirage_Output/jw01068006001_01101_00001_nrcb1_uncal.fits'],\n",
    "                        'B2': ['Mirage_Output/jw01068001001_01101_00001_nrcb2_uncal.fits',\n",
    "                               'Mirage_Output/jw01068002001_01101_00001_nrcb2_uncal.fits',\n",
    "                               'Mirage_Output/jw01068003001_01101_00001_nrcb2_uncal.fits'],\n",
    "                        'B3': ['Mirage_Output/jw01068001001_01101_00001_nrcb3_uncal.fits',\n",
    "                               'Mirage_Output/jw01068002001_01101_00001_nrcb3_uncal.fits',\n",
    "                               'Mirage_Output/jw01068003001_01101_00001_nrcb3_uncal.fits'],\n",
    "                        'B4': ['Mirage_Output/jw01068001001_01101_00001_nrcb4_uncal.fits',\n",
    "                               'Mirage_Output/jw01068002001_01101_00001_nrcb4_uncal.fits',\n",
    "                               'Mirage_Output/jw01068003001_01101_00001_nrcb4_uncal.fits'],\n",
    "                        'B5': ['Mirage_Output/jw01068001001_01101_00001_nrcb5_uncal.fits',\n",
    "                               'Mirage_Output/jw01068002001_01101_00001_nrcb5_uncal.fits',\n",
    "                               'Mirage_Output/jw01068003001_01101_00001_nrcb5_uncal.fits',\n",
    "                               'Mirage_Output/jw01068005001_01101_00001_nrcb5_uncal.fits',\n",
    "                               'Mirage_Output/jw01068005001_01101_00002_nrcb5_uncal.fits',\n",
    "                               'Mirage_Output/jw01068006001_01101_00001_nrcb5_uncal.fits',\n",
    "                               'Mirage_Output/jw01068006001_01101_00002_nrcb5_uncal.fits'],\n",
    "                       }"
   ]
  },
  {
   "cell_type": "code",
   "execution_count": null,
   "metadata": {},
   "outputs": [],
   "source": [
    "for detector in full_uncal_files:\n",
    "    for subfile in subarray_uncal_files[detector]:\n",
    "        check_location(full_uncal_files[detector], subfile)\n",
    "        \n",
    "# Resulting files have two extensions: 1 for the true subarray and 1 for the subarray\n",
    "# extracted from the full frame. Easiest check is to blink these in ds9."
   ]
  },
  {
   "cell_type": "markdown",
   "metadata": {},
   "source": [
    "## Now open the files listed above in ds9 and compare subarray observations with extracted subarrays from full frame observations. Compare locations of bias structures and bad pixels."
   ]
  },
  {
   "cell_type": "code",
   "execution_count": null,
   "metadata": {},
   "outputs": [],
   "source": [
    "# Placeholder for the same check as above, but using the A module detectors\n",
    "# in order to compare the TSO observation subarrays (including TA exposure)\n",
    "# Full frame exposures will have to come from some other program\n",
    "full_uncal_files = {'A1': 'xxxxxx_nrca1_uncal.fits',\n",
    "                    'A3': 'xxxxxx_nrca3_uncal.fits',\n",
    "                    'A5': 'xxxxxx_nrca5_uncal.fits',\n",
    "                    }\n",
    "\n",
    "subarray_uncal_files = {'A1': ['Mirage_Output/jw01068007001_01101_00001-seg001_nrca1_uncal.fits'],\n",
    "                        'A3': ['Mirage_Output/jw01068007001_01101_00001-seg001_nrca3_uncal.fits'],\n",
    "                        'A5': ['Mirage_Output/jw01068007001_01101_00001_nrca5_uncal.fits',\n",
    "                               'Mirage_Output/jw01068007001_01101_00002-seg001_nrca5_uncal.fits']\n",
    "                       }\n"
   ]
  },
  {
   "cell_type": "markdown",
   "metadata": {},
   "source": [
    "### Secondary check:\n",
    "\n",
    "<b>This should be considered a secondary check compared to the manual extraction and examination above, since we may not have a valid WCS at the time the data are taken.</b>\n",
    "\n",
    "Locate sources on the full frame and subarray exposures and compare vs expectations. "
   ]
  },
  {
   "cell_type": "code",
   "execution_count": null,
   "metadata": {
    "scrolled": true
   },
   "outputs": [],
   "source": [
    "# B1 - SUB160, SUB320, SUB640, FULL\n",
    "full = 'Pipeline_Level2/jw01068004001_01101_00001_nrcb1_cal.fits'\n",
    "subs = ['Pipeline_Level2/jw01068001001_01101_00001_nrcb1_cal.fits',\n",
    "        'Pipeline_Level2/jw01068002001_01101_00001_nrcb1_cal.fits',\n",
    "        'Pipeline_Level2/jw01068003001_01101_00001_nrcb1_cal.fits']\n",
    "locations.run(full, subs, fullframe_threshold=500, subarray_threshold=500)"
   ]
  },
  {
   "cell_type": "code",
   "execution_count": null,
   "metadata": {
    "scrolled": true
   },
   "outputs": [],
   "source": [
    "# B2 - SUB160, SUB320, SUB640, FULL\n",
    "full = 'Pipeline_Level2/jw01068004001_01101_00001_nrcb2_cal.fits'\n",
    "subs = ['Pipeline_Level2/jw01068001001_01101_00001_nrcb2_cal.fits',\n",
    "        'Pipeline_Level2/jw01068002001_01101_00001_nrcb2_cal.fits',\n",
    "        'Pipeline_Level2/jw01068003001_01101_00001_nrcb2_cal.fits']\n",
    "\n",
    "#subs = ['Pipeline_Level2/jw01068002001_01101_00001_nrcb2_cal.fits',\n",
    "#        'Pipeline_Level2/jw01068003001_01101_00001_nrcb2_cal.fits']\n",
    "locations.run(full, subs, fullframe_threshold=500, subarray_threshold=500)"
   ]
  },
  {
   "cell_type": "code",
   "execution_count": null,
   "metadata": {
    "scrolled": true
   },
   "outputs": [],
   "source": [
    "# B3 - SUB160, SUB320, SUB640, FULL\n",
    "full = 'Pipeline_Level2/jw01068004001_01101_00001_nrcb3_cal.fits'\n",
    "subs = ['Pipeline_Level2/jw01068001001_01101_00001_nrcb3_cal.fits',\n",
    "        'Pipeline_Level2/jw01068002001_01101_00001_nrcb3_cal.fits',\n",
    "        'Pipeline_Level2/jw01068003001_01101_00001_nrcb3_cal.fits']\n",
    "locations.run(full, subs, fullframe_threshold=500, subarray_threshold=500)"
   ]
  },
  {
   "cell_type": "code",
   "execution_count": null,
   "metadata": {
    "scrolled": true
   },
   "outputs": [],
   "source": [
    "# B4 - SUB160, SUB320, SUB640, FULL\n",
    "full = 'Pipeline_Level2/jw01068004001_01101_00001_nrcb4_cal.fits'\n",
    "subs = ['Pipeline_Level2/jw01068001001_01101_00001_nrcb4_cal.fits',\n",
    "        'Pipeline_Level2/jw01068002001_01101_00001_nrcb4_cal.fits',\n",
    "        'Pipeline_Level2/jw01068003001_01101_00001_nrcb4_cal.fits']\n",
    "locations.run(full, subs, fullframe_threshold=500, subarray_threshold=500)"
   ]
  },
  {
   "cell_type": "code",
   "execution_count": null,
   "metadata": {
    "scrolled": true
   },
   "outputs": [],
   "source": [
    "# B5 - SUB160, SUB320, SUB640, FULL\n",
    "full = 'Pipeline_Level2/jw01068004001_01101_00001_nrcb5_cal.fits'\n",
    "subs = ['Pipeline_Level2/jw01068001001_01101_00001_nrcb5_cal.fits',\n",
    "        'Pipeline_Level2/jw01068002001_01101_00001_nrcb5_cal.fits',\n",
    "        'Pipeline_Level2/jw01068003001_01101_00001_nrcb5_cal.fits']\n",
    "locations.run(full, subs, fullframe_threshold=500, subarray_threshold=500)"
   ]
  },
  {
   "cell_type": "code",
   "execution_count": null,
   "metadata": {
    "scrolled": true
   },
   "outputs": [],
   "source": [
    "# B1 - SUB64P, SUB600P\n",
    "full = 'Pipeline_Level2/jw01068004001_01101_00001_nrcb1_cal.fits'\n",
    "subs = ['Pipeline_Level2/jw01068006001_01101_00001_nrcb1_cal.fits',\n",
    "        'Pipeline_Level2/jw01068005001_01101_00001_nrcb1_cal.fits']\n",
    "locations.run(full, subs, fullframe_threshold=500, subarray_threshold=500)"
   ]
  },
  {
   "cell_type": "code",
   "execution_count": null,
   "metadata": {
    "scrolled": true
   },
   "outputs": [],
   "source": [
    "# B5 - SUB64P, SUB600P\n",
    "full = 'Pipeline_Level2/jw01068004001_01101_00001_nrcb5_cal.fits'\n",
    "subs = ['Pipeline_Level2/jw01068006001_01101_00002_nrcb5_cal.fits',\n",
    "        'Pipeline_Level2/jw01068005001_01101_00002_nrcb5_cal.fits']\n",
    "locations.run(full, subs, fullframe_threshold=500, subarray_threshold=500)"
   ]
  },
  {
   "cell_type": "code",
   "execution_count": null,
   "metadata": {},
   "outputs": [],
   "source": []
  },
  {
   "cell_type": "code",
   "execution_count": null,
   "metadata": {},
   "outputs": [],
   "source": []
  },
  {
   "cell_type": "code",
   "execution_count": null,
   "metadata": {},
   "outputs": [],
   "source": []
  }
 ],
 "metadata": {
  "kernelspec": {
   "display_name": "Python 3",
   "language": "python",
   "name": "python3"
  },
  "language_info": {
   "codemirror_mode": {
    "name": "ipython",
    "version": 3
   },
   "file_extension": ".py",
   "mimetype": "text/x-python",
   "name": "python",
   "nbconvert_exporter": "python",
   "pygments_lexer": "ipython3",
   "version": "3.6.7"
  }
 },
 "nbformat": 4,
 "nbformat_minor": 4
}
