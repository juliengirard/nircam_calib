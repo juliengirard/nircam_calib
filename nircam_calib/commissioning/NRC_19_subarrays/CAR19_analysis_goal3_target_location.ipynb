{
 "cells": [
  {
   "cell_type": "markdown",
   "metadata": {},
   "source": [
    "# CAR-19 Data Analysis Goal 3: Confirm target location in aperture"
   ]
  },
  {
   "cell_type": "markdown",
   "metadata": {},
   "source": [
    "This notebook runs the code in the nircam_calib/comissioning/NRC_19_subarrays module in order to analyze data from CAR-19 (Subarray Verification)"
   ]
  },
  {
   "cell_type": "markdown",
   "metadata": {},
   "source": [
    "## Table of Contents"
   ]
  },
  {
   "cell_type": "markdown",
   "metadata": {},
   "source": [
    "* [Goal 3: Confirm telescope pointing places target in correct location](#goal_3)"
   ]
  },
  {
   "cell_type": "code",
   "execution_count": null,
   "metadata": {},
   "outputs": [],
   "source": [
    "from glob import glob\n",
    "import os"
   ]
  },
  {
   "cell_type": "code",
   "execution_count": null,
   "metadata": {},
   "outputs": [],
   "source": [
    "from astropy.io import ascii, fits\n",
    "from jwst.associations.asn_from_list import asn_from_list\n",
    "from jwst.associations.lib.rules_level2_base import DMSLevel2bBase\n",
    "from jwst.pipeline.calwebb_detector1 import Detector1Pipeline\n",
    "from jwst.pipeline.calwebb_image2 import Image2Pipeline\n",
    "from jwst.pipeline.calwebb_image3 import Image3Pipeline\n",
    "from jwst.pipeline.calwebb_tso3 import Tso3Pipeline\n",
    "from jwst.source_catalog import SourceCatalogStep\n",
    "import matplotlib.pyplot as plt\n",
    "import numpy as np"
   ]
  },
  {
   "cell_type": "code",
   "execution_count": null,
   "metadata": {},
   "outputs": [],
   "source": [
    "from nircam_calib.commissioning.NRC_19_subarrays.subarray_loc_examination_prep import check_location\n",
    "from nircam_calib.commissioning.NRC_19_subarrays import confirm_subarray_location_via_sources as locations\n",
    "from nircam_calib.commissioning.NRC_19_subarrays import confirm_telescope_pointing as pointing\n",
    "from nircam_calib.commissioning.NRC_19_subarrays import confirm_count_rates as count_rates\n",
    "from nircam_calib.commissioning.utils.display import overlay_catalog"
   ]
  },
  {
   "cell_type": "code",
   "execution_count": null,
   "metadata": {},
   "outputs": [],
   "source": [
    "import jwst\n",
    "print(jwst.__version__)"
   ]
  },
  {
   "cell_type": "code",
   "execution_count": null,
   "metadata": {},
   "outputs": [],
   "source": [
    "base_dir = '/ifs/jwst/wit/nircam/simulationWG/Imaging/CAR-19/2021_June'\n",
    "#base_dir = 'path_to_simulationWG_CAR-19_directory'"
   ]
  },
  {
   "cell_type": "markdown",
   "metadata": {},
   "source": [
    "<a id='goal_3'></a>\n",
    "## Goal 3: Confirm telescope pointing places the source at the proper location in aperture"
   ]
  },
  {
   "cell_type": "markdown",
   "metadata": {},
   "source": [
    "### Method 1: Check that target star is at the reference location"
   ]
  },
  {
   "cell_type": "markdown",
   "metadata": {},
   "source": [
    "Note that the current program has 2 targets. The first is just the LMC field and does not necessarily have a source at the target coordinates. This is used for the extended subarrays (SUB160, SUB320, SUB640, FULL). This means that we cannot simply check that there is a target on the reference pixel.\n",
    "\n",
    "For the SW data that accompanies obs 7 (grism time series): the source will land only in detector A3, and not at the reference location for the aperture used. So it might be easiest to calculate where the source is expected to be, and then manually visually confirm that it is there. The SW data is taken with WLP4, so standard source finding doesn't work very well."
   ]
  },
  {
   "cell_type": "code",
   "execution_count": null,
   "metadata": {},
   "outputs": [],
   "source": [
    "filenames = ['Pipeline_Level2/jw01068005001_01101_00001_nrcb1_cal.fits',\n",
    "             'Pipeline_Level2/jw01068005001_01101_00002_nrcb5_cal.fits',\n",
    "             'Pipeline_Level2/jw01068006001_01101_00001_nrcb1_cal.fits',\n",
    "             'Pipeline_Level2/jw01068006001_01101_00002_nrcb5_cal.fits',\n",
    "             'Pipeline_Level2/jw01068007001_01101_00001-seg001_nrca3_cal.fits',\n",
    "             'Pipeline_Level2/jw01068007001_01101_00001-seg001_nrca1_cal.fits'\n",
    "            ]\n",
    "snr_thresh = [100, 500, 100, 100, 30, 100]\n",
    "#for the A1/A3 data in the grismts observation, we need to calculate the expected source location, since \n",
    "#everything is defined in terms of A5, and the SW data just comes along for the ride"
   ]
  },
  {
   "cell_type": "code",
   "execution_count": null,
   "metadata": {
    "scrolled": true
   },
   "outputs": [],
   "source": [
    "for filename, thresh in zip(filenames, snr_thresh):\n",
    "    pointing.check_pointing_target_star(filename, threshold=thresh)"
   ]
  },
  {
   "cell_type": "code",
   "execution_count": null,
   "metadata": {
    "scrolled": true
   },
   "outputs": [],
   "source": [
    "for filename, thresh in zip(filenames, snr_thresh):\n",
    "    pointing.check_pointing_using_lmc_catalog(filename, threshold=thresh)"
   ]
  },
  {
   "cell_type": "code",
   "execution_count": null,
   "metadata": {},
   "outputs": [],
   "source": []
  },
  {
   "cell_type": "markdown",
   "metadata": {},
   "source": [
    "### Same as above, but for the SUB160, 320, 640 observations"
   ]
  },
  {
   "cell_type": "code",
   "execution_count": null,
   "metadata": {},
   "outputs": [],
   "source": [
    "filenames = ['Pipeline_Level2/jw01068001001_01101_00001_nrcb1_cal.fits',\n",
    "             'Pipeline_Level2/jw01068001001_01101_00001_nrcb5_cal.fits',\n",
    "             'Pipeline_Level2/jw01068002001_01101_00001_nrcb1_cal.fits',\n",
    "             'Pipeline_Level2/jw01068002001_01101_00001_nrcb5_cal.fits',\n",
    "             'Pipeline_Level2/jw01068003001_01101_00001_nrcb1_cal.fits',\n",
    "             'Pipeline_Level2/jw01068003001_01101_00001_nrcb5_cal.fits',\n",
    "             'Pipeline_Level2/jw01068004001_01101_00001_nrcb1_cal.fits',\n",
    "             'Pipeline_Level2/jw01068004001_01101_00001_nrcb5_cal.fits'\n",
    "            ]\n",
    "snr_thresh = [100, 500, 100, 100, 100, 100, 500, 500]"
   ]
  },
  {
   "cell_type": "code",
   "execution_count": null,
   "metadata": {
    "scrolled": true
   },
   "outputs": [],
   "source": [
    "# This relies on the WCS in the data to be correct!!\n",
    "for filename, thresh in zip(filenames, snr_thresh):\n",
    "    pointing.check_pointing_using_lmc_catalog(filename, threshold=thresh)"
   ]
  },
  {
   "cell_type": "code",
   "execution_count": null,
   "metadata": {},
   "outputs": [],
   "source": []
  }
 ],
 "metadata": {
  "kernelspec": {
   "display_name": "Python 3",
   "language": "python",
   "name": "python3"
  },
  "language_info": {
   "codemirror_mode": {
    "name": "ipython",
    "version": 3
   },
   "file_extension": ".py",
   "mimetype": "text/x-python",
   "name": "python",
   "nbconvert_exporter": "python",
   "pygments_lexer": "ipython3",
   "version": "3.6.7"
  }
 },
 "nbformat": 4,
 "nbformat_minor": 4
}
