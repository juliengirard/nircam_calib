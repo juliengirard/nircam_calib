{
 "cells": [
  {
   "cell_type": "markdown",
   "metadata": {},
   "source": [
    "# CAR-19 Data Analysis Goal 1: Confirm Pipeline Outputs"
   ]
  },
  {
   "cell_type": "markdown",
   "metadata": {},
   "source": [
    "This notebook runs the code in the nircam_calib/comissioning/NRC_19_subarrays module in order to analyze data from CAR-19 (Subarray Verification)"
   ]
  },
  {
   "cell_type": "markdown",
   "metadata": {},
   "source": [
    "## Table of Contents"
   ]
  },
  {
   "cell_type": "markdown",
   "metadata": {},
   "source": [
    "* [Goal 1: Register and Combine data in pipeline](#goal_1)"
   ]
  },
  {
   "cell_type": "code",
   "execution_count": null,
   "metadata": {},
   "outputs": [],
   "source": [
    "from glob import glob\n",
    "import os"
   ]
  },
  {
   "cell_type": "code",
   "execution_count": null,
   "metadata": {},
   "outputs": [],
   "source": [
    "from astropy.io import ascii, fits\n",
    "from jwst.associations.asn_from_list import asn_from_list\n",
    "from jwst.associations.lib.rules_level2_base import DMSLevel2bBase\n",
    "from jwst.pipeline.calwebb_detector1 import Detector1Pipeline\n",
    "from jwst.pipeline.calwebb_image2 import Image2Pipeline\n",
    "from jwst.pipeline.calwebb_image3 import Image3Pipeline\n",
    "from jwst.pipeline.calwebb_tso3 import Tso3Pipeline\n",
    "from jwst.source_catalog import SourceCatalogStep\n",
    "import matplotlib.pyplot as plt\n",
    "import numpy as np\n",
    "from photutils.detection import DAOStarFinder"
   ]
  },
  {
   "cell_type": "code",
   "execution_count": null,
   "metadata": {},
   "outputs": [],
   "source": [
    "from nircam_calib.commissioning.NRC_19_subarrays.subarray_loc_examination_prep import check_location\n",
    "from nircam_calib.commissioning.NRC_19_subarrays import confirm_subarray_location_via_sources as locations\n",
    "from nircam_calib.commissioning.NRC_19_subarrays import confirm_telescope_pointing as pointing\n",
    "from nircam_calib.commissioning.NRC_19_subarrays import confirm_count_rates as count_rates\n",
    "from nircam_calib.commissioning.utils.display import overlay_catalog"
   ]
  },
  {
   "cell_type": "code",
   "execution_count": null,
   "metadata": {},
   "outputs": [],
   "source": [
    "import jwst\n",
    "print(jwst.__version__)"
   ]
  },
  {
   "cell_type": "code",
   "execution_count": null,
   "metadata": {},
   "outputs": [],
   "source": [
    "base_dir = '/ifs/jwst/wit/nircam/simulationWG/Imaging/CAR-19/2021_June'\n",
    "#base_dir = 'path_to_simulationWG_CAR-19_directory'"
   ]
  },
  {
   "cell_type": "markdown",
   "metadata": {},
   "source": [
    "<a id='goal_1'></a>\n",
    "## Goal 1: Check that calibration pipeline correctly registers and combines subarray data"
   ]
  },
  {
   "cell_type": "markdown",
   "metadata": {},
   "source": [
    "MAST will run the pipeline with default parameters, which should work for our analysis here. The only case we may have to run manually is Stage 3 when trying to combine data from multiple subarrays. I don't think MAST will do this by default. But it would be worth testing here to make sure it's done correctly."
   ]
  },
  {
   "cell_type": "code",
   "execution_count": null,
   "metadata": {},
   "outputs": [],
   "source": [
    "sw_imaging_mult_subarrays_lvl3_asn = 'Pipeline_Level3/level3_all_sw_subarrays_asn.json'\n",
    "lw_imaging_mult_subarrays_lvl3_asn = 'Pipeline_Level3/level3_all_lw_subarrays_asn.json'"
   ]
  },
  {
   "cell_type": "code",
   "execution_count": null,
   "metadata": {},
   "outputs": [],
   "source": [
    "result = Image3Pipeline()\n",
    "result.source_catalog.save_results = True\n",
    "result.save_results = True\n",
    "output_dir = os.path.join(base_dir, 'Pipeline_Level3/')\n",
    "result.output_dir = output_dir\n",
    "result.run(sw_imaging_mult_subarrays_lvl3_asn)"
   ]
  },
  {
   "cell_type": "code",
   "execution_count": null,
   "metadata": {},
   "outputs": [],
   "source": [
    "result = Image3Pipeline()\n",
    "result.save_results = True\n",
    "result.source_catalog.save_results = True\n",
    "output_dir = os.path.join(base_dir, 'Pipeline_Level3/')\n",
    "result.output_dir = output_dir\n",
    "result.run(lw_imaging_mult_subarrays_lvl3_asn)"
   ]
  },
  {
   "cell_type": "markdown",
   "metadata": {},
   "source": [
    "<b>Examine output:</b>  \n",
    "      measure FWHM of sources  \n",
    "      visual inspection of mosaic size/shape"
   ]
  },
  {
   "cell_type": "markdown",
   "metadata": {},
   "source": [
    "### Examine the Results"
   ]
  },
  {
   "cell_type": "code",
   "execution_count": null,
   "metadata": {},
   "outputs": [],
   "source": [
    "def display(files, titles, minval=0, maxval=10):\n",
    "    fig, axes = plt.subplots(nrows=1, ncols=2, figsize=(12, 10))\n",
    "\n",
    "    for ax, filename, title in zip(axes.flat, files, titles):\n",
    "        img = fits.getdata(filename)\n",
    "        ax.set_axis_off()\n",
    "        im = ax.imshow(img, origin='lower', cmap='viridis', vmin=minval, vmax=maxval)\n",
    "        ax.set_title(title)\n",
    "\n",
    "    cbar = fig.colorbar(im, ax=axes.ravel().tolist(), shrink=0.5)\n",
    "    cbar.set_ticks(np.linspace(minval, maxval, 5))\n",
    "    plt.show()"
   ]
  },
  {
   "cell_type": "code",
   "execution_count": null,
   "metadata": {},
   "outputs": [],
   "source": [
    "all_subarrays_combined_files = sorted(glob(os.path.join(base_dir, 'Pipeline_Level3/all_subarrays_*_i2d.fits')))\n",
    "full_combined_files = sorted(glob(os.path.join(base_dir, 'Pipeline_Level3/full_?w_i2d.fits')))\n",
    "sub160_combined_files = sorted(glob(os.path.join(base_dir, 'Pipeline_Level3/sub160_?w_i2d.fits')))\n",
    "sub320_combined_files = sorted(glob(os.path.join(base_dir, 'Pipeline_Level3/sub320_?w_i2d.fits')))\n",
    "sub640_combined_files = sorted(glob(os.path.join(base_dir, 'Pipeline_Level3/sub640_?w_i2d.fits')))\n",
    "\n",
    "sub400p_cal_files = [os.path.join(base_dir, 'Pipeline_Level2/jw01068005001_01101_00002_nrcb5_cal.fits'),\n",
    "                     os.path.join(base_dir, 'Pipeline_Level2/jw01068005001_01101_00001_nrcb1_cal.fits')]\n",
    "sub64p_cal_files = [os.path.join(base_dir, 'Pipeline_Level2/jw01068006001_01101_00002_nrcb5_cal.fits'),\n",
    "                    os.path.join(base_dir, 'Pipeline_Level2/jw01068006001_01101_00001_nrcb1_cal.fits')]"
   ]
  },
  {
   "cell_type": "code",
   "execution_count": null,
   "metadata": {},
   "outputs": [],
   "source": [
    "sub640_combined_files"
   ]
  },
  {
   "cell_type": "code",
   "execution_count": null,
   "metadata": {},
   "outputs": [],
   "source": [
    "# TAKE A CAREFUL LOOK AT THIS ONE. Combining data from different apertures\n",
    "# has been a problem in the pipline, with poor alignment between apertures.\n",
    "# This shows up as blurry sources in the areas where multiple apertures overlap.\n",
    "# This blurriness is most likely due to Tweakreg screwing things up, so if things\n",
    "# are blurry, try rerunning the pipeline without tweakreg.\n",
    "lwsw_titles = ['LW All Apertures', 'SW All Apertures']\n",
    "display(all_subarrays_combined_files, lwsw_titles)"
   ]
  },
  {
   "cell_type": "code",
   "execution_count": null,
   "metadata": {},
   "outputs": [],
   "source": [
    "lwsw_titles = ['LW Full Frame', 'SW Full Frame']\n",
    "display(full_combined_files, lwsw_titles)"
   ]
  },
  {
   "cell_type": "code",
   "execution_count": null,
   "metadata": {},
   "outputs": [],
   "source": [
    "lwsw_titles = ['LW SUB160', 'SW SUB160']\n",
    "display(sub160_combined_files, lwsw_titles)"
   ]
  },
  {
   "cell_type": "code",
   "execution_count": null,
   "metadata": {},
   "outputs": [],
   "source": [
    "lwsw_titles = ['LW SUB320', 'SW SUB320']\n",
    "display(sub320_combined_files, lwsw_titles)"
   ]
  },
  {
   "cell_type": "code",
   "execution_count": null,
   "metadata": {},
   "outputs": [],
   "source": [
    "lwsw_titles = ['LW SUB640', 'SW SUB640']\n",
    "display(sub640_combined_files, lwsw_titles)"
   ]
  },
  {
   "cell_type": "markdown",
   "metadata": {},
   "source": [
    "<img src='/Users/hilbert/Desktop/NRC-19_SUB400P_fov.png)'>Image description</img>"
   ]
  },
  {
   "cell_type": "code",
   "execution_count": null,
   "metadata": {},
   "outputs": [],
   "source": [
    "lwsw_titles = ['LW SUB400P', 'SW SUB400P']\n",
    "display(sub400p_cal_files, lwsw_titles, minval=0, maxval=1000)"
   ]
  },
  {
   "cell_type": "markdown",
   "metadata": {},
   "source": [
    "<img src='/Users/hilbert/Desktop/NRC-19_SUB64P_fov.png)'>Image description</img>"
   ]
  },
  {
   "cell_type": "code",
   "execution_count": null,
   "metadata": {},
   "outputs": [],
   "source": [
    "lwsw_titles = ['LW SUB64P', 'SW SUB64P']\n",
    "display(sub64p_cal_files, lwsw_titles, minval=0, maxval=1000)"
   ]
  },
  {
   "cell_type": "markdown",
   "metadata": {},
   "source": [
    "## Try measuring FWHM on stars in the combined data"
   ]
  },
  {
   "cell_type": "code",
   "execution_count": null,
   "metadata": {},
   "outputs": [],
   "source": [
    "def fwhm_stats(data, fwhm=3.0, sigma=10):\n",
    "    \"\"\"Calculate FWHM stats on the sources in the input image\"\"\"\n",
    "    mean, median, std = sigma_clipped_stats(data, sigma=3.0)\n",
    "    daofind = DAOStarFinder(fwhm=fwhm, threshold=sigma*std)\n",
    "    sources = daofind(data - median)\n",
    "    for col in sources.colnames:  \n",
    "        sources[col].info.format = '%.8g'  # for consistent table output\n",
    "    print(sources)"
   ]
  },
  {
   "cell_type": "code",
   "execution_count": null,
   "metadata": {},
   "outputs": [],
   "source": []
  }
 ],
 "metadata": {
  "kernelspec": {
   "display_name": "Python 3",
   "language": "python",
   "name": "python3"
  },
  "language_info": {
   "codemirror_mode": {
    "name": "ipython",
    "version": 3
   },
   "file_extension": ".py",
   "mimetype": "text/x-python",
   "name": "python",
   "nbconvert_exporter": "python",
   "pygments_lexer": "ipython3",
   "version": "3.6.7"
  }
 },
 "nbformat": 4,
 "nbformat_minor": 4
}
