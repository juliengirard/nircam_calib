{
 "cells": [
  {
   "cell_type": "markdown",
   "metadata": {},
   "source": [
    "# CAR-19 Data Analysis Goal 4: Confirm charge accumulation rate"
   ]
  },
  {
   "cell_type": "markdown",
   "metadata": {},
   "source": [
    "This notebook runs the code in the nircam_calib/comissioning/NRC_19_subarrays module in order to analyze data from CAR-19 (Subarray Verification)"
   ]
  },
  {
   "cell_type": "markdown",
   "metadata": {},
   "source": [
    "## Table of Contents"
   ]
  },
  {
   "cell_type": "markdown",
   "metadata": {},
   "source": [
    "* [Goal 4: Confirm same charge accumulation rate in subarrays vs full frame](#goal_4)"
   ]
  },
  {
   "cell_type": "code",
   "execution_count": null,
   "metadata": {},
   "outputs": [],
   "source": [
    "from glob import glob\n",
    "import os"
   ]
  },
  {
   "cell_type": "code",
   "execution_count": null,
   "metadata": {},
   "outputs": [],
   "source": [
    "from astropy.io import ascii, fits\n",
    "from jwst.associations.asn_from_list import asn_from_list\n",
    "from jwst.associations.lib.rules_level2_base import DMSLevel2bBase\n",
    "from jwst.pipeline.calwebb_detector1 import Detector1Pipeline\n",
    "from jwst.pipeline.calwebb_image2 import Image2Pipeline\n",
    "from jwst.pipeline.calwebb_image3 import Image3Pipeline\n",
    "from jwst.pipeline.calwebb_tso3 import Tso3Pipeline\n",
    "from jwst.source_catalog import SourceCatalogStep\n",
    "import matplotlib.pyplot as plt\n",
    "import numpy as np"
   ]
  },
  {
   "cell_type": "code",
   "execution_count": null,
   "metadata": {},
   "outputs": [],
   "source": [
    "from nircam_calib.commissioning.NRC_19_subarrays.subarray_loc_examination_prep import check_location\n",
    "from nircam_calib.commissioning.NRC_19_subarrays import confirm_subarray_location_via_sources as locations\n",
    "from nircam_calib.commissioning.NRC_19_subarrays import confirm_telescope_pointing as pointing\n",
    "from nircam_calib.commissioning.NRC_19_subarrays import confirm_count_rates as count_rates\n",
    "from nircam_calib.commissioning.utils.display import overlay_catalog"
   ]
  },
  {
   "cell_type": "code",
   "execution_count": null,
   "metadata": {},
   "outputs": [],
   "source": [
    "import jwst\n",
    "print(jwst.__version__)"
   ]
  },
  {
   "cell_type": "code",
   "execution_count": null,
   "metadata": {},
   "outputs": [],
   "source": [
    "base_dir = '/ifs/jwst/wit/nircam/simulationWG/Imaging/CAR-19/2021_June'\n",
    "#base_dir = 'path_to_simulationWG_CAR-19_directory'"
   ]
  },
  {
   "cell_type": "code",
   "execution_count": null,
   "metadata": {},
   "outputs": [],
   "source": [
    "def display(files, titles, minval=0, maxval=10):\n",
    "    fig, axes = plt.subplots(nrows=1, ncols=2, figsize=(12, 10))\n",
    "\n",
    "    for ax, filename, title in zip(axes.flat, files, titles):\n",
    "        img = fits.getdata(filename)\n",
    "        ax.set_axis_off()\n",
    "        im = ax.imshow(img, origin='lower', cmap='viridis', vmin=minval, vmax=maxval)\n",
    "        ax.set_title(title)\n",
    "\n",
    "    cbar = fig.colorbar(im, ax=axes.ravel().tolist(), shrink=0.5)\n",
    "    cbar.set_ticks(np.linspace(minval, maxval, 5))\n",
    "    plt.show()"
   ]
  },
  {
   "cell_type": "markdown",
   "metadata": {},
   "source": [
    "<a id='goal_4'></a>\n",
    "## Goal 4: Charge Accumulation Rate"
   ]
  },
  {
   "cell_type": "markdown",
   "metadata": {},
   "source": [
    "Show that the charge accumulation rate in the subarray files is consistent with that in the full frame data"
   ]
  },
  {
   "cell_type": "markdown",
   "metadata": {},
   "source": [
    "First, check LW data using calibrated slope images"
   ]
  },
  {
   "cell_type": "markdown",
   "metadata": {},
   "source": [
    "### Full frame versus SUB160"
   ]
  },
  {
   "cell_type": "markdown",
   "metadata": {},
   "source": [
    "#### Longwave"
   ]
  },
  {
   "cell_type": "code",
   "execution_count": null,
   "metadata": {},
   "outputs": [],
   "source": [
    "#fullframe_file = 'Pipeline_Level2/jw01068004001_01101_00001_nrcb5_cal.fits'\n",
    "fullframe_file = 'Pipeline_Level3/jw01068004001_01101_00001_nrcb5_a3001_crf.fits'\n",
    "#fullframe_file = 'Pipeline_Level1/jw01068004001_01101_00001_nrcb5_assignwcsstep.fits'"
   ]
  },
  {
   "cell_type": "code",
   "execution_count": null,
   "metadata": {},
   "outputs": [],
   "source": [
    "#subfiles = sorted(glob('Pipeline_Level2/jw01068001*nrcb5_cal.fits'))\n",
    "subfiles = sorted(glob('Pipeline_Level3/jw01068001*nrcb5*_crf.fits'))\n",
    "#subfiles = sorted(glob('Pipeline_Level1/jw01068001*nrcb5_assignwcsstep.fits'))\n",
    "print('subfiles:')\n",
    "for s in subfiles:\n",
    "    print(s)"
   ]
  },
  {
   "cell_type": "code",
   "execution_count": null,
   "metadata": {},
   "outputs": [],
   "source": [
    "# Rate files that match the cal files above. This is for a test to see if the \n",
    "# discrepancy in photometry results between the LW full frame and subarray\n",
    "# data is also present in the rate files.\n",
    "fullframe_rate_file = 'Pipeline_Level1/jw01068004001_01101_00001_nrcb5_rate.fits'\n",
    "subratefiles = sorted(glob('Pipeline_Level1/jw01068001*nrcb5_rate.fits'))\n",
    "print(fullframe_rate_file)\n",
    "for s in subratefiles:\n",
    "    print(s)"
   ]
  },
  {
   "cell_type": "code",
   "execution_count": null,
   "metadata": {
    "scrolled": true
   },
   "outputs": [],
   "source": [
    "# sub_dq and full_dq columns: if True, then there is at least one non-zero value\n",
    "# in the DQ array within the photometry aperture in the subarray or full frame\n",
    "# images, respectively. In some cases this may not matter. But in some cases the\n",
    "# flagged pixel defintely has an effect.\n",
    "\n",
    "# d_phot_p is the percentage difference in the photometry between the subarray\n",
    "# and full frame cases. Eqn is (full frame - subarray) / full frame, so negative\n",
    "# means the source is brighter in the subarray data\n",
    "\n",
    "\n",
    "sub_thresh = 30    # n-sigma source detection threshold for subarray input file\n",
    "full_thresh = 200  # n-sigma source detection threshold for full frame input file\n",
    "max_separation = 2 # Maximum allowed separation (pixels) between sources in subarray vs full-frame\n",
    "aperture = 5       # Aperture photometry radius (pixels)\n",
    "bkgd_inner = 6     # Aperture photometry inner radius for background (pixels)\n",
    "bkgd_outer = 8     # Aperture photometry outer radius for background (pixels)\n",
    "\n",
    "# ORIGINAL CALL - THE DISCREPANCY IN PHOTOMETRY IS THE SAME REGARDLESS OF WHETHER\n",
    "# YOU USE CAL OR CRF FILES.\n",
    "#for subarray_file in subfiles:\n",
    "#    print('Trying: {}'.format(subarray_file))\n",
    "#    count_rates.compare_rate_images(subarray_file, fullframe_file,\n",
    "#                                   subarray_threshold=sub_thresh, fullframe_threshold=full_thresh,\n",
    "#                                   max_separation=max_separation, aperture_radius=aperture,\n",
    "#                                   bkgd_in_radius=bkgd_inner, bkgd_out_radius=bkgd_outer)\n",
    "    \n",
    "# MODIFIED CALL, TESTING TO SEE IF DISCREPANCY IN PHOTOMETRY IS PRESENT IN RATE FILES\n",
    "# RESULTS: THE DISCREPANCY IS STILL THERE...\n",
    "for subarray_file, subratefile in zip(subfiles, subratefiles):\n",
    "    print('Trying: {}'.format(subarray_file))\n",
    "    count_rates.compare_rate_images(subarray_file, fullframe_file,\n",
    "                                   subarray_threshold=sub_thresh, fullframe_threshold=full_thresh,\n",
    "                                   max_separation=max_separation, aperture_radius=aperture,\n",
    "                                   bkgd_in_radius=bkgd_inner, bkgd_out_radius=bkgd_outer,\n",
    "                                   subarray_rate_file=subratefile, fullframe_rate_file=fullframe_rate_file)"
   ]
  },
  {
   "cell_type": "markdown",
   "metadata": {},
   "source": [
    "#### Shortwave"
   ]
  },
  {
   "cell_type": "markdown",
   "metadata": {},
   "source": [
    "Now look at SW data calibrated slope images"
   ]
  },
  {
   "cell_type": "code",
   "execution_count": null,
   "metadata": {},
   "outputs": [],
   "source": [
    "fullframe_file = 'Pipeline_Level2/jw01068004001_01101_00001_nrcb1_cal.fits'"
   ]
  },
  {
   "cell_type": "code",
   "execution_count": null,
   "metadata": {},
   "outputs": [],
   "source": [
    "subfiles = sorted(glob('Pipeline_Level2/jw01068001*nrcb[1234]_cal.fits'))\n",
    "print('subfiles:')\n",
    "for s in subfiles:\n",
    "    print(s)"
   ]
  },
  {
   "cell_type": "code",
   "execution_count": null,
   "metadata": {
    "scrolled": true
   },
   "outputs": [],
   "source": [
    "sub_thresh = 50\n",
    "full_thresh = 200\n",
    "max_separation = 2\n",
    "for subarray_file in subfiles:\n",
    "    print('Trying: {}'.format(subarray_file))\n",
    "    count_rates.compare_rate_images(subarray_file, fullframe_file,\n",
    "                                   subarray_threshold=sub_thresh, fullframe_threshold=full_thresh,\n",
    "                                   max_separation=max_separation)"
   ]
  },
  {
   "cell_type": "code",
   "execution_count": null,
   "metadata": {
    "scrolled": true
   },
   "outputs": [],
   "source": [
    "fullframe_file = 'Pipeline_Level2/jw01068004001_01101_00001_nrcb2_cal.fits'\n",
    "sub_thresh = 10\n",
    "full_thresh = 200\n",
    "max_separation = 3\n",
    "aperture = 5\n",
    "bkgd_inner = 6\n",
    "bkgd_outer = 8\n",
    "for subarray_file in subfiles:\n",
    "    print('Trying: {}'.format(subarray_file))\n",
    "    count_rates.compare_rate_images(subarray_file, fullframe_file,\n",
    "                                   subarray_threshold=sub_thresh, fullframe_threshold=full_thresh,\n",
    "                                   max_separation=max_separation, aperture_radius=aperture,\n",
    "                                   bkgd_in_radius=bkgd_inner, bkgd_out_radius=bkgd_outer)"
   ]
  },
  {
   "cell_type": "code",
   "execution_count": null,
   "metadata": {
    "scrolled": true
   },
   "outputs": [],
   "source": [
    "fullframe_file = 'Pipeline_Level2/jw01068004001_01101_00001_nrcb3_cal.fits'\n",
    "sub_thresh = 50\n",
    "full_thresh = 200\n",
    "max_separation = 3.\n",
    "aperture = 5\n",
    "bkgd_inner = 6\n",
    "bkgd_outer = 8\n",
    "\n",
    "for subarray_file in subfiles:\n",
    "    print('Trying: {}'.format(subarray_file))\n",
    "    count_rates.compare_rate_images(subarray_file, fullframe_file,\n",
    "                                   subarray_threshold=sub_thresh, fullframe_threshold=full_thresh,\n",
    "                                   max_separation=max_separation, aperture_radius=aperture,\n",
    "                                   bkgd_in_radius=bkgd_inner, bkgd_out_radius=bkgd_outer)"
   ]
  },
  {
   "cell_type": "code",
   "execution_count": null,
   "metadata": {},
   "outputs": [],
   "source": [
    "fullframe_file = 'Pipeline_Level2/jw01068004001_01101_00001_nrcb4_cal.fits'\n",
    "sub_thresh = 50\n",
    "full_thresh = 200\n",
    "max_separation = 1\n",
    "aperture = 5\n",
    "bkgd_inner = 6\n",
    "bkgd_outer = 8\n",
    "\n",
    "for subarray_file in subfiles:\n",
    "    print('Trying: {}'.format(subarray_file))\n",
    "    count_rates.compare_rate_images(subarray_file, fullframe_file,\n",
    "                                   subarray_threshold=sub_thresh, fullframe_threshold=full_thresh,\n",
    "                                   max_separation=max_separation, aperture_radius=aperture,\n",
    "                                   bkgd_in_radius=bkgd_inner, bkgd_out_radius=bkgd_outer)"
   ]
  },
  {
   "cell_type": "markdown",
   "metadata": {},
   "source": [
    "### Full frame versus SUB320"
   ]
  },
  {
   "cell_type": "markdown",
   "metadata": {},
   "source": [
    "#### Longwave"
   ]
  },
  {
   "cell_type": "code",
   "execution_count": null,
   "metadata": {
    "scrolled": true
   },
   "outputs": [],
   "source": [
    "fullframe_file = 'Pipeline_Level2/jw01068004001_01101_00001_nrcb5_cal.fits'\n",
    "subfiles = sorted(glob('Pipeline_Level2/jw01068002*nrcb5_cal.fits'))\n",
    "sub_thresh = 50\n",
    "full_thresh = 200\n",
    "max_separation = 3\n",
    "aperture = 5\n",
    "bkgd_inner = 6\n",
    "bkgd_outer = 8\n",
    "\n",
    "for subarray_file in subfiles:\n",
    "    print('Trying: {}'.format(subarray_file))\n",
    "    count_rates.compare_rate_images(subarray_file, fullframe_file,\n",
    "                                   subarray_threshold=sub_thresh, fullframe_threshold=full_thresh,\n",
    "                                   max_separation=max_separation, aperture_radius=aperture,\n",
    "                                   bkgd_in_radius=bkgd_inner, bkgd_out_radius=bkgd_outer)"
   ]
  },
  {
   "cell_type": "markdown",
   "metadata": {},
   "source": [
    "#### Shortwave"
   ]
  },
  {
   "cell_type": "code",
   "execution_count": null,
   "metadata": {},
   "outputs": [],
   "source": [
    "fullframe_file = 'Pipeline_Level2/jw01068004001_01101_00001_nrcb1_cal.fits'\n",
    "subfiles = sorted(glob('Pipeline_Level2/jw01068002*nrcb[1234]_cal.fits'))\n",
    "print('subfiles:')\n",
    "for s in subfiles:\n",
    "    print(s)"
   ]
  },
  {
   "cell_type": "code",
   "execution_count": null,
   "metadata": {},
   "outputs": [],
   "source": [
    "sub_thresh = 30\n",
    "full_thresh = 200\n",
    "max_separation = 2\n",
    "aperture = 5\n",
    "bkgd_inner = 6\n",
    "bkgd_outer = 8\n",
    "for subarray_file in subfiles:\n",
    "    print('Trying: {}'.format(subarray_file))\n",
    "    count_rates.compare_rate_images(subarray_file, fullframe_file,\n",
    "                                   subarray_threshold=sub_thresh, fullframe_threshold=full_thresh,\n",
    "                                   max_separation=max_separation)"
   ]
  },
  {
   "cell_type": "code",
   "execution_count": null,
   "metadata": {},
   "outputs": [],
   "source": [
    "fullframe_file = 'Pipeline_Level2/jw01068004001_01101_00001_nrcb2_cal.fits'\n",
    "sub_thresh = 100\n",
    "full_thresh = 200\n",
    "max_separation = 3\n",
    "aperture = 5\n",
    "bkgd_inner = 6\n",
    "bkgd_outer = 8\n",
    "for subarray_file in subfiles:\n",
    "    print('Trying: {}'.format(subarray_file))\n",
    "    count_rates.compare_rate_images(subarray_file, fullframe_file,\n",
    "                                   subarray_threshold=sub_thresh, fullframe_threshold=full_thresh,\n",
    "                                   max_separation=max_separation, aperture_radius=aperture,\n",
    "                                   bkgd_in_radius=bkgd_inner, bkgd_out_radius=bkgd_outer)"
   ]
  },
  {
   "cell_type": "code",
   "execution_count": null,
   "metadata": {},
   "outputs": [],
   "source": [
    "fullframe_file = 'Pipeline_Level2/jw01068004001_01101_00001_nrcb3_cal.fits'\n",
    "sub_thresh = 30\n",
    "full_thresh = 200\n",
    "max_separation = 3\n",
    "aperture = 5\n",
    "bkgd_inner = 6\n",
    "bkgd_outer = 8\n",
    "for subarray_file in subfiles:\n",
    "    print('Trying: {}'.format(subarray_file))\n",
    "    count_rates.compare_rate_images(subarray_file, fullframe_file,\n",
    "                                   subarray_threshold=sub_thresh, fullframe_threshold=full_thresh,\n",
    "                                   max_separation=max_separation, aperture_radius=aperture,\n",
    "                                   bkgd_in_radius=bkgd_inner, bkgd_out_radius=bkgd_outer)"
   ]
  },
  {
   "cell_type": "code",
   "execution_count": null,
   "metadata": {
    "scrolled": true
   },
   "outputs": [],
   "source": [
    "fullframe_file = 'Pipeline_Level2/jw01068004001_01101_00001_nrcb4_cal.fits'\n",
    "sub_thresh = 30\n",
    "full_thresh = 200\n",
    "max_separation = 3\n",
    "aperture = 5\n",
    "bkgd_inner = 6\n",
    "bkgd_outer = 8\n",
    "for subarray_file in subfiles:\n",
    "    print('Trying: {}'.format(subarray_file))\n",
    "    count_rates.compare_rate_images(subarray_file, fullframe_file,\n",
    "                                   subarray_threshold=sub_thresh, fullframe_threshold=full_thresh,\n",
    "                                   max_separation=max_separation, aperture_radius=aperture,\n",
    "                                   bkgd_in_radius=bkgd_inner, bkgd_out_radius=bkgd_outer)"
   ]
  },
  {
   "cell_type": "code",
   "execution_count": null,
   "metadata": {},
   "outputs": [],
   "source": []
  },
  {
   "cell_type": "markdown",
   "metadata": {},
   "source": [
    "### Full frame versus SUB640"
   ]
  },
  {
   "cell_type": "markdown",
   "metadata": {},
   "source": [
    "#### Longwave"
   ]
  },
  {
   "cell_type": "code",
   "execution_count": null,
   "metadata": {
    "scrolled": true
   },
   "outputs": [],
   "source": [
    "fullframe_file = 'Pipeline_Level2/jw01068004001_01101_00001_nrcb5_cal.fits'\n",
    "subfiles = sorted(glob('Pipeline_Level2/jw01068003*nrcb5_cal.fits'))\n",
    "sub_thresh = 150\n",
    "full_thresh = 200\n",
    "max_separation = 1\n",
    "aperture = 5\n",
    "bkgd_inner = 6\n",
    "bkgd_outer = 8\n",
    "\n",
    "for subarray_file in subfiles:\n",
    "    print('Trying: {}'.format(subarray_file))\n",
    "    count_rates.compare_rate_images(subarray_file, fullframe_file,\n",
    "                                   subarray_threshold=sub_thresh, fullframe_threshold=full_thresh,\n",
    "                                   max_separation=max_separation, aperture_radius=aperture,\n",
    "                                   bkgd_in_radius=bkgd_inner, bkgd_out_radius=bkgd_outer)"
   ]
  },
  {
   "cell_type": "markdown",
   "metadata": {},
   "source": [
    "#### Shortwave"
   ]
  },
  {
   "cell_type": "code",
   "execution_count": null,
   "metadata": {},
   "outputs": [],
   "source": [
    "fullframe_file = 'Pipeline_Level2/jw01068004001_01101_00001_nrcb1_cal.fits'\n",
    "subfiles = sorted(glob('Pipeline_Level2/jw01068003*nrcb[1234]_cal.fits'))\n",
    "print('subfiles:')\n",
    "for s in subfiles:\n",
    "    print(s)"
   ]
  },
  {
   "cell_type": "code",
   "execution_count": null,
   "metadata": {
    "scrolled": true
   },
   "outputs": [],
   "source": [
    "sub_thresh = 100\n",
    "full_thresh = 200\n",
    "max_separation = 2\n",
    "aperture = 5\n",
    "bkgd_inner = 6\n",
    "bkgd_outer = 8\n",
    "for subarray_file in subfiles:\n",
    "    print('Trying: {}'.format(subarray_file))\n",
    "    count_rates.compare_rate_images(subarray_file, fullframe_file,\n",
    "                                   subarray_threshold=sub_thresh, fullframe_threshold=full_thresh,\n",
    "                                   max_separation=max_separation)"
   ]
  },
  {
   "cell_type": "code",
   "execution_count": null,
   "metadata": {
    "scrolled": true
   },
   "outputs": [],
   "source": [
    "fullframe_file = 'Pipeline_Level2/jw01068004001_01101_00001_nrcb2_cal.fits'\n",
    "sub_thresh = 30\n",
    "full_thresh = 200\n",
    "max_separation = 3\n",
    "aperture = 5\n",
    "bkgd_inner = 6\n",
    "bkgd_outer = 8\n",
    "for subarray_file in subfiles:\n",
    "    print('Trying: {}'.format(subarray_file))\n",
    "    count_rates.compare_rate_images(subarray_file, fullframe_file,\n",
    "                                   subarray_threshold=sub_thresh, fullframe_threshold=full_thresh,\n",
    "                                   max_separation=max_separation, aperture_radius=aperture,\n",
    "                                   bkgd_in_radius=bkgd_inner, bkgd_out_radius=bkgd_outer)"
   ]
  },
  {
   "cell_type": "code",
   "execution_count": null,
   "metadata": {
    "scrolled": true
   },
   "outputs": [],
   "source": [
    "fullframe_file = 'Pipeline_Level2/jw01068004001_01101_00001_nrcb3_cal.fits'\n",
    "sub_thresh = 30\n",
    "full_thresh = 200\n",
    "max_separation = 3\n",
    "aperture = 5\n",
    "bkgd_inner = 6\n",
    "bkgd_outer = 8\n",
    "for subarray_file in subfiles:\n",
    "    print('Trying: {}'.format(subarray_file))\n",
    "    count_rates.compare_rate_images(subarray_file, fullframe_file,\n",
    "                                   subarray_threshold=sub_thresh, fullframe_threshold=full_thresh,\n",
    "                                   max_separation=max_separation, aperture_radius=aperture,\n",
    "                                   bkgd_in_radius=bkgd_inner, bkgd_out_radius=bkgd_outer)"
   ]
  },
  {
   "cell_type": "code",
   "execution_count": null,
   "metadata": {
    "scrolled": true
   },
   "outputs": [],
   "source": [
    "fullframe_file = 'Pipeline_Level2/jw01068004001_01101_00001_nrcb4_cal.fits'\n",
    "sub_thresh = 30\n",
    "full_thresh = 200\n",
    "max_separation = 3\n",
    "aperture = 5\n",
    "bkgd_inner = 6\n",
    "bkgd_outer = 8\n",
    "for subarray_file in subfiles:\n",
    "    print('Trying: {}'.format(subarray_file))\n",
    "    count_rates.compare_rate_images(subarray_file, fullframe_file,\n",
    "                                   subarray_threshold=sub_thresh, fullframe_threshold=full_thresh,\n",
    "                                   max_separation=max_separation, aperture_radius=aperture,\n",
    "                                   bkgd_in_radius=bkgd_inner, bkgd_out_radius=bkgd_outer)"
   ]
  },
  {
   "cell_type": "markdown",
   "metadata": {},
   "source": [
    "#### Compare two differently sized subarrays to check if the photomety results are comparable "
   ]
  },
  {
   "cell_type": "code",
   "execution_count": null,
   "metadata": {
    "scrolled": true
   },
   "outputs": [],
   "source": [
    "fullframe_file = 'Pipeline_Level2/jw01068003001_01101_00001_nrcb4_cal.fits'\n",
    "subfiles = sorted(glob('Pipeline_Level2/jw01068002*nrcb4_cal.fits'))\n",
    "sub_thresh = 30\n",
    "full_thresh = 30\n",
    "max_separation = 3\n",
    "aperture = 5\n",
    "bkgd_inner = 6\n",
    "bkgd_outer = 8\n",
    "for subarray_file in subfiles[0:1]:\n",
    "    print('Trying: {}'.format(subarray_file))\n",
    "    count_rates.compare_rate_images(subarray_file, fullframe_file,\n",
    "                                   subarray_threshold=sub_thresh, fullframe_threshold=full_thresh,\n",
    "                                   max_separation=max_separation, aperture_radius=aperture,\n",
    "                                   bkgd_in_radius=bkgd_inner, bkgd_out_radius=bkgd_outer)"
   ]
  },
  {
   "cell_type": "code",
   "execution_count": null,
   "metadata": {
    "scrolled": true
   },
   "outputs": [],
   "source": [
    "fullframe_file = 'Pipeline_Level2/jw01068003001_01101_00001_nrcb5_cal.fits'\n",
    "subfiles = sorted(glob('Pipeline_Level2/jw01068002*nrcb5_cal.fits'))\n",
    "sub_thresh = 30\n",
    "full_thresh = 30\n",
    "max_separation = 3\n",
    "aperture = 5\n",
    "bkgd_inner = 6\n",
    "bkgd_outer = 8\n",
    "for subarray_file in subfiles:\n",
    "    print('Trying: {}'.format(subarray_file))\n",
    "    count_rates.compare_rate_images(subarray_file, fullframe_file,\n",
    "                                   subarray_threshold=sub_thresh, fullframe_threshold=full_thresh,\n",
    "                                   max_separation=max_separation, aperture_radius=aperture,\n",
    "                                   bkgd_in_radius=bkgd_inner, bkgd_out_radius=bkgd_outer)"
   ]
  },
  {
   "cell_type": "code",
   "execution_count": null,
   "metadata": {},
   "outputs": [],
   "source": []
  },
  {
   "cell_type": "markdown",
   "metadata": {},
   "source": [
    "#### Try running on i2d files instead"
   ]
  },
  {
   "cell_type": "code",
   "execution_count": null,
   "metadata": {},
   "outputs": [],
   "source": [
    "fullframe_file = 'Pipeline_Level3/full_sw_i2d.fits'\n",
    "subfiles = sorted(glob('Pipeline_Level3/sub[1346]*_sw_i2d.fits'))\n",
    "sub_thresh = 100\n",
    "full_thresh = 500\n",
    "max_separation = 3\n",
    "aperture = 5\n",
    "bkgd_inner = 6\n",
    "bkgd_outer = 8\n",
    "for subarray_file in subfiles:\n",
    "    print('Trying: {}'.format(subarray_file))\n",
    "    count_rates.compare_rate_images(subarray_file, fullframe_file,\n",
    "                                   subarray_threshold=sub_thresh, fullframe_threshold=full_thresh,\n",
    "                                   max_separation=max_separation, aperture_radius=aperture,\n",
    "                                   bkgd_in_radius=bkgd_inner, bkgd_out_radius=bkgd_outer)"
   ]
  },
  {
   "cell_type": "code",
   "execution_count": null,
   "metadata": {},
   "outputs": [],
   "source": [
    "fullframe_file = 'Pipeline_Level3/full_lw_i2d.fits'\n",
    "subfiles = sorted(glob('Pipeline_Level3/sub[1346]*_lw_i2d.fits'))\n",
    "sub_thresh = 50\n",
    "full_thresh = 500\n",
    "max_separation = 0.5\n",
    "aperture = 5\n",
    "bkgd_inner = 6\n",
    "bkgd_outer = 8\n",
    "for subarray_file in subfiles:\n",
    "    print('Trying: {}'.format(subarray_file))\n",
    "    count_rates.compare_rate_images(subarray_file, fullframe_file,\n",
    "                                   subarray_threshold=sub_thresh, fullframe_threshold=full_thresh,\n",
    "                                   max_separation=max_separation, aperture_radius=aperture,\n",
    "                                   bkgd_in_radius=bkgd_inner, bkgd_out_radius=bkgd_outer)"
   ]
  },
  {
   "cell_type": "code",
   "execution_count": null,
   "metadata": {},
   "outputs": [],
   "source": []
  },
  {
   "cell_type": "markdown",
   "metadata": {},
   "source": [
    "<h3>Next, compare data in the level 3 output source catalogs</h3>"
   ]
  },
  {
   "cell_type": "code",
   "execution_count": null,
   "metadata": {},
   "outputs": [],
   "source": [
    "# Try running the source_catalog step on the cal files for the \n",
    "# time series observations. The source catalog that is produced by\n",
    "# default for time series data is not the same format as that for the\n",
    "# other observations, and so the two cannot be easily compared. \n",
    "cal_files = ['Pipeline_Level2/jw01068005001_01101_00001_nrcb1_cal.fits',\n",
    "             'Pipeline_Level2/jw01068005001_01101_00002_nrcb5_cal.fits',\n",
    "             'Pipeline_Level2/jw01068006001_01101_00001_nrcb1_cal.fits',\n",
    "             'Pipeline_Level2/jw01068006001_01101_00002_nrcb5_cal.fits',\n",
    "             'Pipeline_Level2/jw01068007001_01101_00001-seg001_nrca3_cal.fits']"
   ]
  },
  {
   "cell_type": "code",
   "execution_count": null,
   "metadata": {},
   "outputs": [],
   "source": [
    "for cfile in cal_files:\n",
    "    sc = SourceCatalogStep.call(cfile, save_results=True, output_dir='Pipeline_Level3')"
   ]
  },
  {
   "cell_type": "code",
   "execution_count": null,
   "metadata": {},
   "outputs": [],
   "source": [
    "SourceCatalogStep.call('Pipeline_Level2/jw01068005001_01101_00001_nrcb1_cal.fits')"
   ]
  },
  {
   "cell_type": "code",
   "execution_count": null,
   "metadata": {},
   "outputs": [],
   "source": []
  },
  {
   "cell_type": "code",
   "execution_count": null,
   "metadata": {},
   "outputs": [],
   "source": [
    "catalog_directory = '/ifs/jwst/wit/nircam/simulationWG/Imaging/CAR-19/2021_June/Pipeline_Level3'\n",
    "sw_full_cat = os.path.join(catalog_directory, 'full_sw_cat.ecsv')\n",
    "lw_full_cat = os.path.join(catalog_directory, 'full_lw_cat.ecsv')\n",
    "sw_160_cat = os.path.join(catalog_directory, 'sub160_sw_cat.ecsv')\n",
    "lw_160_cat = os.path.join(catalog_directory, 'sub160_lw_cat.ecsv')\n",
    "sw_320_cat = os.path.join(catalog_directory, 'sub320_sw_cat.ecsv')\n",
    "lw_320_cat = os.path.join(catalog_directory, 'sub320_lw_cat.ecsv')\n",
    "sw_640_cat = os.path.join(catalog_directory, 'sub640_sw_cat.ecsv')\n",
    "lw_640_cat = os.path.join(catalog_directory, 'sub640_lw_cat.ecsv')\n",
    "sw_400p_cat = os.path.join(catalog_directory, 'sub400p_sw_phot.ecsv')\n",
    "lw_400p_cat = os.path.join(catalog_directory, 'sub400p_lw_phot.ecsv')\n",
    "sw_64p_cat = os.path.join(catalog_directory, 'sub64p_sw_phot.ecsv')\n",
    "lw_64p_cat = os.path.join(catalog_directory, 'sub64p_lw_phot.ecsv')\n",
    "sw_subarray_cats = [sw_160_cat, sw_320_cat, sw_640_cat] #, sw_400p_cat, sw_64p_cat]\n",
    "lw_subarray_cats = [lw_160_cat, lw_320_cat, lw_640_cat] #, lw_400p_cat, lw_64p_cat]"
   ]
  },
  {
   "cell_type": "markdown",
   "metadata": {},
   "source": [
    "#### Display i2d files and catalogs, to get an idea of how source finding went"
   ]
  },
  {
   "cell_type": "code",
   "execution_count": null,
   "metadata": {},
   "outputs": [],
   "source": [
    "swfull_i2d = fits.getdata('Pipeline_Level3/full_sw_i2d.fits')\n",
    "swfull_catalog = ascii.read(sw_full_cat)"
   ]
  },
  {
   "cell_type": "code",
   "execution_count": null,
   "metadata": {},
   "outputs": [],
   "source": [
    "# There are so many sources found that the entire field of view turns red.\n",
    "overlay_catalog(swfull_i2d, swfull_catalog, vmin=2, vmax=100)"
   ]
  },
  {
   "cell_type": "code",
   "execution_count": null,
   "metadata": {},
   "outputs": [],
   "source": []
  },
  {
   "cell_type": "code",
   "execution_count": null,
   "metadata": {},
   "outputs": [],
   "source": [
    "sw160_i2d = fits.getdata('Pipeline_Level3/sub160_sw_i2d.fits')\n",
    "sw160_catalog = ascii.read(sw_160_cat)"
   ]
  },
  {
   "cell_type": "code",
   "execution_count": null,
   "metadata": {},
   "outputs": [],
   "source": [
    "# All sources found, but lots of junk as well.\n",
    "overlay_catalog(sw160_i2d, sw160_catalog, vmin=2, vmax=100)"
   ]
  },
  {
   "cell_type": "code",
   "execution_count": null,
   "metadata": {},
   "outputs": [],
   "source": []
  },
  {
   "cell_type": "markdown",
   "metadata": {},
   "source": [
    "### Try running SourceCatalogStep on the i2d files with better parameter values"
   ]
  },
  {
   "cell_type": "code",
   "execution_count": null,
   "metadata": {},
   "outputs": [],
   "source": []
  },
  {
   "cell_type": "code",
   "execution_count": null,
   "metadata": {},
   "outputs": [],
   "source": [
    "sw_i2d_file = 'Pipeline_Level3/full_sw_i2d.fits'\n",
    "sw_sub_i2d_files = sorted(glob('Pipeline_Level3/sub[136]*_sw_i2d.fits'))"
   ]
  },
  {
   "cell_type": "code",
   "execution_count": null,
   "metadata": {},
   "outputs": [],
   "source": [
    "sw_sub_i2d_files.remove('Pipeline_Level3/sub64p_sw_i2d.fits')\n",
    "sw_sub_i2d_files"
   ]
  },
  {
   "cell_type": "code",
   "execution_count": null,
   "metadata": {
    "scrolled": true
   },
   "outputs": [],
   "source": [
    "sc = SourceCatalogStep.call(sw_i2d_file, save_results=True, output_dir='Pipeline_Level3', kernel_fwhm=2.0,\n",
    "                            snr_threshold=50, output_file='full_sw_snr50.cat')"
   ]
  },
  {
   "cell_type": "code",
   "execution_count": null,
   "metadata": {
    "scrolled": true
   },
   "outputs": [],
   "source": [
    "sc = SourceCatalogStep.call(sw_sub_i2d_files[0], save_results=True, output_dir='Pipeline_Level3', kernel_fwhm=2.0,\n",
    "                            snr_threshold=50, output_file='sub160_sw_cat_snr50.ecsv')"
   ]
  },
  {
   "cell_type": "code",
   "execution_count": null,
   "metadata": {
    "scrolled": true
   },
   "outputs": [],
   "source": []
  },
  {
   "cell_type": "code",
   "execution_count": null,
   "metadata": {},
   "outputs": [],
   "source": []
  },
  {
   "cell_type": "code",
   "execution_count": null,
   "metadata": {},
   "outputs": [],
   "source": [
    "sw160_snr50_catalog = ascii.read('Pipeline_Level3/sub160_sw_cat_snr50_cat.ecsv')\n",
    "overlay_catalog(sw160_i2d, sw160_snr50_catalog, vmin=2, vmax=100)"
   ]
  },
  {
   "cell_type": "code",
   "execution_count": null,
   "metadata": {},
   "outputs": [],
   "source": [
    "os.path.isfile('Pipeline_Level3/sub160_sw_cat_snr50_cat.ecsv')"
   ]
  },
  {
   "cell_type": "code",
   "execution_count": null,
   "metadata": {},
   "outputs": [],
   "source": [
    "test_sw_sub_cat = 'Pipeline_Level3/sub160_sw_cat_snr50_cat.ecsv'\n",
    "test_sw_full_cat = 'Pipeline_Level3/full_sw_snr50_cat.ecsv'\n",
    "\n",
    "matching_thresh = 0.1  # arcsec\n",
    "ee_perc = 70  # Encircled energy percentage to use. Pipeline defaults are 30, 50, 70.\n",
    "limiting_vegamag = 20.\n",
    "\n",
    "outname = 'level3_cat_compare_{}_vs_{}.txt'.format(os.path.basename(test_sw_sub_cat),\n",
    "                                                   os.path.basename(test_sw_full_cat))\n",
    "count_rates.compare_level3_catalogs(test_sw_full_cat, test_sw_sub_cat, outname,\n",
    "                                        max_match_thresh=matching_thresh, ee_perc=ee_perc,\n",
    "                                        limiting_vegamag=limiting_vegamag)"
   ]
  },
  {
   "cell_type": "code",
   "execution_count": null,
   "metadata": {},
   "outputs": [],
   "source": [
    "sw_sub_i2d_files"
   ]
  },
  {
   "cell_type": "code",
   "execution_count": null,
   "metadata": {
    "scrolled": true
   },
   "outputs": [],
   "source": [
    "for sw_subfile in sw_sub_i2d_files:\n",
    "    outfile = '{}_sw_cat_snr50.ecsv'.format(os.path.basename(sw_subfile).split('_')[0])\n",
    "    sc = SourceCatalogStep.call(sw_subfile, save_results=True, output_dir='Pipeline_Level3', kernel_fwhm=2.0,\n",
    "                            snr_threshold=50, output_file=outfile)"
   ]
  },
  {
   "cell_type": "code",
   "execution_count": null,
   "metadata": {},
   "outputs": [],
   "source": [
    "sw_subarray_cats"
   ]
  },
  {
   "cell_type": "code",
   "execution_count": null,
   "metadata": {
    "scrolled": true
   },
   "outputs": [],
   "source": [
    "matching_thresh = 0.03  # arcsec\n",
    "ee_perc = 70  # Encircled energy percentage to use. Pipeline defaults are 30, 50, 70.\n",
    "limiting_vegamag = 20.\n",
    "for sw_cat in sw_subarray_cats:\n",
    "    outdir = os.path.dirname(sw_cat)\n",
    "    outname = 'level3_cat_compare_{}_vs_{}.txt'.format(os.path.basename(sw_cat), os.path.basename(sw_full_cat))\n",
    "    outname = os.path.join(outdir, outname)\n",
    "    count_rates.compare_level3_catalogs(sw_full_cat, os.path.join(catalog_directory, sw_cat), outname,\n",
    "                                        max_match_thresh=matching_thresh, ee_perc=ee_perc,\n",
    "                                        limiting_vegamag=limiting_vegamag)"
   ]
  },
  {
   "cell_type": "code",
   "execution_count": null,
   "metadata": {},
   "outputs": [],
   "source": []
  },
  {
   "cell_type": "code",
   "execution_count": null,
   "metadata": {},
   "outputs": [],
   "source": []
  },
  {
   "cell_type": "code",
   "execution_count": null,
   "metadata": {},
   "outputs": [],
   "source": []
  },
  {
   "cell_type": "code",
   "execution_count": null,
   "metadata": {},
   "outputs": [],
   "source": [
    "sw_subarray_cats = sorted(glob('Pipeline_Level3/*_sw_cat_snr50*.ecsv'))"
   ]
  },
  {
   "cell_type": "code",
   "execution_count": null,
   "metadata": {},
   "outputs": [],
   "source": [
    "sw_subarray_cats"
   ]
  },
  {
   "cell_type": "code",
   "execution_count": null,
   "metadata": {},
   "outputs": [],
   "source": [
    "full_sw_cat_snr50 = 'Pipeline_Level3/full_sw_snr50_cat.ecsv'\n",
    "matching_thresh = 0.03  # arcsec\n",
    "ee_perc = 70  # Encircled energy percentage to use. Pipeline defaults are 30, 50, 70.\n",
    "limiting_vegamag = 18.\n",
    "for sw_cat in sw_subarray_cats:\n",
    "    outdir = os.path.dirname(sw_cat)\n",
    "    outname = 'level3_cat_compare_{}_vs_{}.txt'.format(os.path.basename(sw_cat),\n",
    "                                                       os.path.basename(full_sw_cat_snr50))\n",
    "    outname = os.path.join(outdir, outname)\n",
    "    count_rates.compare_level3_catalogs(full_sw_cat_snr50,\n",
    "                                        sw_cat, outname,\n",
    "                                        max_match_thresh=matching_thresh, ee_perc=ee_perc,\n",
    "                                        limiting_vegamag=limiting_vegamag)"
   ]
  },
  {
   "cell_type": "code",
   "execution_count": null,
   "metadata": {},
   "outputs": [],
   "source": [
    "lw_subarray_cats"
   ]
  },
  {
   "cell_type": "code",
   "execution_count": null,
   "metadata": {},
   "outputs": [],
   "source": [
    "matching_thresh = 0.06  # arcsec\n",
    "ee_perc = 70  # Encircled energy percentage to use. Pipeline defaults are 30, 50, 70.\n",
    "limiting_vegamag = 22.\n",
    "for lw_cat in lw_subarray_cats:\n",
    "    outdir = os.path.dirname(lw_cat)\n",
    "    outname = 'level3_cat_compare_{}_vs_{}.txt'.format(os.path.basename(lw_cat), os.path.basename(lw_full_cat))\n",
    "    outname = os.path.join(outdir, outname)\n",
    "    count_rates.compare_level3_catalogs(lw_full_cat, os.path.join(catalog_directory, lw_cat), outname,\n",
    "                                        max_match_thresh=matching_thresh, ee_perc=ee_perc,\n",
    "                                        limiting_vegamag=limiting_vegamag)"
   ]
  },
  {
   "cell_type": "code",
   "execution_count": null,
   "metadata": {},
   "outputs": [],
   "source": [
    "lw_sub_i2d_files = sorted(glob('Pipeline_Level3/sub[136]??_lw_i2d.fits'))"
   ]
  },
  {
   "cell_type": "code",
   "execution_count": null,
   "metadata": {},
   "outputs": [],
   "source": [
    "lw_sub_i2d_files"
   ]
  },
  {
   "cell_type": "code",
   "execution_count": null,
   "metadata": {
    "scrolled": true
   },
   "outputs": [],
   "source": [
    "for lw_subfile in lw_sub_i2d_files:\n",
    "    outfile = '{}_lw_cat_snr50.ecsv'.format(os.path.basename(lw_subfile).split('_')[0])\n",
    "    sc = SourceCatalogStep.call(lw_subfile, save_results=True, output_dir='Pipeline_Level3', kernel_fwhm=2.0,\n",
    "                            snr_threshold=50, output_file=outfile)"
   ]
  },
  {
   "cell_type": "code",
   "execution_count": null,
   "metadata": {
    "scrolled": true
   },
   "outputs": [],
   "source": [
    "outfile = 'Pipeline_Level3/full_lw_snr50_cat.ecsv'\n",
    "sc = SourceCatalogStep.call('Pipeline_Level3/full_lw_i2d.fits', save_results=True, output_dir='Pipeline_Level3', kernel_fwhm=2.0,\n",
    "                            snr_threshold=50, output_file=outfile)"
   ]
  },
  {
   "cell_type": "code",
   "execution_count": null,
   "metadata": {},
   "outputs": [],
   "source": [
    "full_lw_cat_snr50 = 'Pipeline_Level3/full_lw_snr50_cat.ecsv'\n",
    "matching_thresh = 0.06  # arcsec\n",
    "ee_perc = 70  # Encircled energy percentage to use. Pipeline defaults are 30, 50, 70.\n",
    "limiting_vegamag = 18.\n",
    "for lw_cat in lw_subarray_cats:\n",
    "    outdir = os.path.dirname(lw_cat)\n",
    "    outname = 'level3_cat_compare_{}_vs_{}.txt'.format(os.path.basename(lw_cat),\n",
    "                                                       os.path.basename(full_lw_cat_snr50))\n",
    "    outname = os.path.join(outdir, outname)\n",
    "    count_rates.compare_level3_catalogs(full_lw_cat_snr50,\n",
    "                                        lw_cat, outname,\n",
    "                                        max_match_thresh=matching_thresh, ee_perc=ee_perc,\n",
    "                                        limiting_vegamag=limiting_vegamag)"
   ]
  },
  {
   "cell_type": "code",
   "execution_count": null,
   "metadata": {
    "scrolled": false
   },
   "outputs": [],
   "source": [
    "i2d = fits.getdata('Pipeline_Level3/full_lw_i2d.fits')\n",
    "catalog = ascii.read('Pipeline_Level3/full_lw_snr50_cat.ecsv')\n",
    "#overlay_catalog(i2d, catalog, vmin=2, vmax=100, start_x=836, end_x=1000,\n",
    "#                start_y=836, end_y=1000)\n",
    "overlay_catalog(i2d, catalog, vmin=2, vmax=100, start_x=835, end_x=995,\n",
    "                start_y=879, end_y=1039)"
   ]
  },
  {
   "cell_type": "code",
   "execution_count": null,
   "metadata": {},
   "outputs": [],
   "source": [
    "import pysiaf\n",
    "n = pysiaf.Siaf('nircam')"
   ]
  },
  {
   "cell_type": "code",
   "execution_count": null,
   "metadata": {},
   "outputs": [],
   "source": [
    "sub160_lw = n['NRCB5_SUB160']\n",
    "xref = sub160_lw.XDetRef\n",
    "yref = 2048 - sub160_lw.YDetRef\n",
    "xmin = xref - 80\n",
    "xmax = xref + 80\n",
    "ymin = yref - 80\n",
    "ymax = yref + 80\n",
    "print(xref, yref)\n",
    "print(xmin, xmax)\n",
    "print(ymin, ymax)"
   ]
  },
  {
   "cell_type": "code",
   "execution_count": null,
   "metadata": {},
   "outputs": [],
   "source": [
    "i2d = fits.getdata('Pipeline_Level3/sub160_lw_i2d.fits')\n",
    "catalog = ascii.read('Pipeline_Level3/sub160_lw_cat_snr50_cat.ecsv')\n",
    "overlay_catalog(i2d, catalog, vmin=2, vmax=100)"
   ]
  },
  {
   "cell_type": "code",
   "execution_count": null,
   "metadata": {},
   "outputs": [],
   "source": []
  }
 ],
 "metadata": {
  "kernelspec": {
   "display_name": "Python 3",
   "language": "python",
   "name": "python3"
  },
  "language_info": {
   "codemirror_mode": {
    "name": "ipython",
    "version": 3
   },
   "file_extension": ".py",
   "mimetype": "text/x-python",
   "name": "python",
   "nbconvert_exporter": "python",
   "pygments_lexer": "ipython3",
   "version": "3.6.7"
  }
 },
 "nbformat": 4,
 "nbformat_minor": 4
}
